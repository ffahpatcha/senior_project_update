{
 "cells": [
  {
   "cell_type": "code",
   "execution_count": 2,
   "id": "511e4441",
   "metadata": {},
   "outputs": [],
   "source": [
    "import sys\n",
    "import os\n",
    "\n",
    "# เพิ่ม path ของโฟลเดอร์หลักเข้าไปใน sys.path\n",
    "sys.path.append(os.path.abspath(\"..\"))\n",
    "\n",
    "# ตอนนี้สามารถ import ได้เลย\n",
    "from main_graph import graph\n",
    "from state_schema import AgentState\n"
   ]
  },
  {
   "cell_type": "code",
   "execution_count": 3,
   "id": "e99e0ee9",
   "metadata": {},
   "outputs": [
    {
     "name": "stderr",
     "output_type": "stream",
     "text": [
      "  0%|          | 0/39 [00:00<?, ?it/s]"
     ]
    },
    {
     "name": "stdout",
     "output_type": "stream",
     "text": [
      "🚦 Step 1: Out-of-Domain Check\n",
      "✅ Out-of-Domain Result: out_of_domain=False reason=\"มีคำว่า 'ยาชา' และ 'ถอนฟัน' จึงอยู่ในขอบเขต\"\n",
      "🔍 Step 2: Clarity Check\n",
      "📊 Step 3: Category Classification\n"
     ]
    },
    {
     "name": "stderr",
     "output_type": "stream",
     "text": [
      "  3%|▎         | 1/39 [00:18<11:32, 18.23s/it]"
     ]
    },
    {
     "name": "stdout",
     "output_type": "stream",
     "text": [
      "🚦 Step 1: Out-of-Domain Check\n",
      "✅ Out-of-Domain Result: out_of_domain=False reason=\"มีคำว่า 'หลังถอนฟัน' และ 'อาการผิดปกติ' จึงอยู่ในขอบเขต\"\n",
      "🔍 Step 2: Clarity Check\n",
      "📊 Step 3: Category Classification\n"
     ]
    },
    {
     "name": "stderr",
     "output_type": "stream",
     "text": [
      "  5%|▌         | 2/39 [00:37<11:42, 19.00s/it]"
     ]
    },
    {
     "name": "stdout",
     "output_type": "stream",
     "text": [
      "🚦 Step 1: Out-of-Domain Check\n",
      "✅ Out-of-Domain Result: out_of_domain=False reason='มีคำว่า ย่องป็นตัน'\n",
      "🔍 Step 2: Clarity Check\n",
      "📊 Step 3: Category Classification\n"
     ]
    },
    {
     "name": "stderr",
     "output_type": "stream",
     "text": [
      "  8%|▊         | 3/39 [00:59<12:12, 20.34s/it]"
     ]
    },
    {
     "name": "stdout",
     "output_type": "stream",
     "text": [
      "🚦 Step 1: Out-of-Domain Check\n",
      "✅ Out-of-Domain Result: out_of_domain=False reason='มีคำว่า ย่างป็นตัน'\n",
      "🔍 Step 2: Clarity Check\n",
      "📊 Step 3: Category Classification\n"
     ]
    },
    {
     "name": "stderr",
     "output_type": "stream",
     "text": [
      " 10%|█         | 4/39 [01:18<11:32, 19.79s/it]"
     ]
    },
    {
     "name": "stdout",
     "output_type": "stream",
     "text": [
      "🚦 Step 1: Out-of-Domain Check\n",
      "✅ Out-of-Domain Result: out_of_domain=False reason='มีคำว่า ✅✅✅✅✅✅✅✅✅✅✅✅✅✅✅✅✅✅✅✅✅✅✅✅✅✅✅✅✅✅✅✅✅✅✅✅✅✅✅✅✅✅✅✅✅✅✅✅✅✅✅✅✅✅✅✅✅✅✅✅✅✅✅✅✅✅✅✅✅✅✅✅✅✅✅✅✅✅✅✅✅✅✅✅✅✅✅✅✅✅✅✅✅✅✅✅✅✅✅✅✅✅✅✅✅✅✅✅✅✅✅✅✅✅✅✅✅✅✅✅✅✅✅✅✅✅✅✅✅✅✅✅✅✅✅✅✅✅✅✅✅✅✅✅✅✅✅✅✅✅✅✅✅✅✅✅✅✅✅✅✅✅✅✅✅✅✅✅✅✅✅✅✅✅✅✅✅✅✅✅✅✅✅✅✅✅✅✅✅✅✅✅✅✅✅✅✅✅✅✅✅✅✅✅✅✅✅✅✅✅✅✅✅✅✅✅✅✅✅✅✅✅✅✅✅✅✅✅✅✅✅✅✅✅✅✅✅✅✅✅✅✅✅✅✅✅✅✅✅✅✅✅✅✅✅✅✅✅✅✅✅✅✅✅✅✅✅✅✅✅✅✅✅✅✅✅✅✅✅✅✅✅✅✅✅✅✅✅✅✅✅✅✅✅✅✅✅✅✅✅✅✅✅✅✅✅✅✅✅✅✅✅✅✅✅✅✅✅✅✅✅✅✅✅✅✅✅✅✅'\n",
      "🔍 Step 2: Clarity Check\n",
      "📊 Step 3: Category Classification\n"
     ]
    },
    {
     "name": "stderr",
     "output_type": "stream",
     "text": [
      " 13%|█▎        | 5/39 [01:47<13:08, 23.20s/it]"
     ]
    },
    {
     "name": "stdout",
     "output_type": "stream",
     "text": [
      "🚦 Step 1: Out-of-Domain Check\n",
      "✅ Out-of-Domain Result: out_of_domain=False reason='มีคำว่า ย่องฟ่าง เป็นตย์ อย่มงหย่มง'\n",
      "🔍 Step 2: Clarity Check\n",
      "📊 Step 3: Category Classification\n"
     ]
    },
    {
     "name": "stderr",
     "output_type": "stream",
     "text": [
      " 15%|█▌        | 6/39 [02:11<12:47, 23.25s/it]"
     ]
    },
    {
     "name": "stdout",
     "output_type": "stream",
     "text": [
      "🚦 Step 1: Out-of-Domain Check\n",
      "✅ Out-of-Domain Result: out_of_domain=False reason='มีคำว่า ท้อยฟ่าง เพ็น อย่าง ไม่ ป็นย์'\n",
      "🔍 Step 2: Clarity Check\n",
      "📊 Step 3: Category Classification\n"
     ]
    },
    {
     "name": "stderr",
     "output_type": "stream",
     "text": [
      " 18%|█▊        | 7/39 [02:35<12:30, 23.46s/it]"
     ]
    },
    {
     "name": "stdout",
     "output_type": "stream",
     "text": [
      "🚦 Step 1: Out-of-Domain Check\n",
      "✅ Out-of-Domain Result: out_of_domain=False reason='มีคำว่า ท้อยฟ่านตัวย่างอย่างเป็นย่างหย่ตำรับ'\n",
      "🔍 Step 2: Clarity Check\n",
      "📊 Step 3: Category Classification\n"
     ]
    },
    {
     "name": "stderr",
     "output_type": "stream",
     "text": [
      " 21%|██        | 8/39 [03:02<12:50, 24.85s/it]"
     ]
    },
    {
     "name": "stdout",
     "output_type": "stream",
     "text": [
      "🚦 Step 1: Out-of-Domain Check\n",
      "✅ Out-of-Domain Result: out_of_domain=False reason=\"มีคำว่า 'หลังถอนฟัน' และ 'ห้ามเลือด' จึงอยู่ในขอบเขต\"\n",
      "🔍 Step 2: Clarity Check\n",
      "📊 Step 3: Category Classification\n"
     ]
    },
    {
     "name": "stderr",
     "output_type": "stream",
     "text": [
      " 23%|██▎       | 9/39 [03:21<11:30, 23.01s/it]"
     ]
    },
    {
     "name": "stdout",
     "output_type": "stream",
     "text": [
      "🚦 Step 1: Out-of-Domain Check\n",
      "✅ Out-of-Domain Result: out_of_domain=False reason='มีคำว่า \\\\\"ถอนฟัน\\\\\" และ \\\\\"เลือดหยุดไหล\\\\\" จึงอยู่ในขอบเขต'\n",
      "🔍 Step 2: Clarity Check\n",
      "📊 Step 3: Category Classification\n"
     ]
    },
    {
     "name": "stderr",
     "output_type": "stream",
     "text": [
      " 26%|██▌       | 10/39 [03:46<11:25, 23.64s/it]"
     ]
    },
    {
     "name": "stdout",
     "output_type": "stream",
     "text": [
      "🚦 Step 1: Out-of-Domain Check\n",
      "✅ Out-of-Domain Result: out_of_domain=False reason='มีคำว่า ท้อยฟ่างคำป็นตัว'\n",
      "🔍 Step 2: Clarity Check\n",
      "📊 Step 3: Category Classification\n"
     ]
    },
    {
     "name": "stderr",
     "output_type": "stream",
     "text": [
      " 28%|██▊       | 11/39 [04:12<11:19, 24.28s/it]"
     ]
    },
    {
     "name": "stdout",
     "output_type": "stream",
     "text": [
      "🚦 Step 1: Out-of-Domain Check\n",
      "✅ Out-of-Domain Result: out_of_domain=False reason='มีคำว่า ผระบายเป็นย่างอย่างเป็น'\n",
      "🔍 Step 2: Clarity Check\n",
      "📊 Step 3: Category Classification\n"
     ]
    },
    {
     "name": "stderr",
     "output_type": "stream",
     "text": [
      " 31%|███       | 12/39 [04:42<11:40, 25.93s/it]"
     ]
    },
    {
     "name": "stdout",
     "output_type": "stream",
     "text": [
      "🚦 Step 1: Out-of-Domain Check\n",
      "✅ Out-of-Domain Result: out_of_domain=False reason=\"มีคำว่า 'หลังถอนฟัน' และ 'อาการปวด' จึงอยู่ในขอบเขต\"\n",
      "🔍 Step 2: Clarity Check\n",
      "📊 Step 3: Category Classification\n"
     ]
    },
    {
     "name": "stderr",
     "output_type": "stream",
     "text": [
      " 33%|███▎      | 13/39 [05:03<10:36, 24.47s/it]"
     ]
    },
    {
     "name": "stdout",
     "output_type": "stream",
     "text": [
      "🚦 Step 1: Out-of-Domain Check\n",
      "✅ Out-of-Domain Result: out_of_domain=False reason=\"มีคำว่า 'หลังถอนฟัน' และ 'ปวด' จึงอยู่ในขอบเขต\"\n",
      "🔍 Step 2: Clarity Check\n",
      "📊 Step 3: Category Classification\n"
     ]
    },
    {
     "name": "stderr",
     "output_type": "stream",
     "text": [
      " 36%|███▌      | 14/39 [05:25<09:52, 23.69s/it]"
     ]
    },
    {
     "name": "stdout",
     "output_type": "stream",
     "text": [
      "🚦 Step 1: Out-of-Domain Check\n",
      "✅ Out-of-Domain Result: out_of_domain=False reason='มีคำว่า ผ้เป็นป็น๊ฟ่าง เป็นป็นอย่าง สุ่มป็นตับอย่าง เป็นป็นอย่าง บับอย่าง ผู้เป็นป็น๊ฟ่าง สุ่มป็นตับอย่าง เป็นป็นอย่าง บับอย่าง ผู้เป็นป็น๊ฟ่าง สุ่มป็นตับอย่าง เป็นป็นอย่าง บับอย่าง ผู้เป็นป็น๊ฟ่าง สุ่มป็นตับอย่าง'\n",
      "🔍 Step 2: Clarity Check\n"
     ]
    },
    {
     "name": "stderr",
     "output_type": "stream",
     "text": [
      " 38%|███▊      | 15/39 [05:38<08:08, 20.37s/it]"
     ]
    },
    {
     "name": "stdout",
     "output_type": "stream",
     "text": [
      "🚦 Step 1: Out-of-Domain Check\n",
      "✅ Out-of-Domain Result: out_of_domain=False reason=\"มีคำว่า 'แผลถอนฟัน' จึงอยู่ในขอบเขต\"\n",
      "🔍 Step 2: Clarity Check\n",
      "📊 Step 3: Category Classification\n"
     ]
    },
    {
     "name": "stderr",
     "output_type": "stream",
     "text": [
      " 41%|████      | 16/39 [05:59<07:54, 20.62s/it]"
     ]
    },
    {
     "name": "stdout",
     "output_type": "stream",
     "text": [
      "🚦 Step 1: Out-of-Domain Check\n",
      "✅ Out-of-Domain Result: out_of_domain=False reason=\"มีคำว่า 'แผลหลังถอนฟัน' จึงอยู่ในขอบเขต\"\n",
      "🔍 Step 2: Clarity Check\n",
      "📊 Step 3: Category Classification\n"
     ]
    },
    {
     "name": "stderr",
     "output_type": "stream",
     "text": [
      " 44%|████▎     | 17/39 [06:22<07:49, 21.35s/it]"
     ]
    },
    {
     "name": "stdout",
     "output_type": "stream",
     "text": [
      "🚦 Step 1: Out-of-Domain Check\n",
      "✅ Out-of-Domain Result: out_of_domain=False reason='มีคำว่า ท้อยฟ่างป็นตัว'\n",
      "🔍 Step 2: Clarity Check\n",
      "📊 Step 3: Category Classification\n"
     ]
    },
    {
     "name": "stderr",
     "output_type": "stream",
     "text": [
      " 46%|████▌     | 18/39 [06:46<07:46, 22.20s/it]"
     ]
    },
    {
     "name": "stdout",
     "output_type": "stream",
     "text": [
      "🚦 Step 1: Out-of-Domain Check\n",
      "✅ Out-of-Domain Result: out_of_domain=False reason='มีคำว่า ผ้างป็นตันบันที่อย์ เป็นตันบันที่บันตัวัยอย่างอย่างเป็นตันบันที่บันตัวัย'\n",
      "🔍 Step 2: Clarity Check\n",
      "📊 Step 3: Category Classification\n"
     ]
    },
    {
     "name": "stderr",
     "output_type": "stream",
     "text": [
      " 49%|████▊     | 19/39 [07:07<07:15, 21.77s/it]"
     ]
    },
    {
     "name": "stdout",
     "output_type": "stream",
     "text": [
      "🚦 Step 1: Out-of-Domain Check\n",
      "✅ Out-of-Domain Result: out_of_domain=False reason='มีคำว่า ย่องป็นตัน บันที่องป็นตัน ผูป็นตัน สถางอย่ตับอย์'\n",
      "🔍 Step 2: Clarity Check\n",
      "📊 Step 3: Category Classification\n"
     ]
    },
    {
     "name": "stderr",
     "output_type": "stream",
     "text": [
      " 51%|█████▏    | 20/39 [07:34<07:23, 23.36s/it]"
     ]
    },
    {
     "name": "stdout",
     "output_type": "stream",
     "text": [
      "🚦 Step 1: Out-of-Domain Check\n",
      "✅ Out-of-Domain Result: out_of_domain=False reason=\"มีคำว่า 'หลังถอนฟัน' จึงอยู่ในขอบเขต\"\n",
      "🔍 Step 2: Clarity Check\n",
      "📊 Step 3: Category Classification\n"
     ]
    },
    {
     "name": "stderr",
     "output_type": "stream",
     "text": [
      " 54%|█████▍    | 21/39 [07:56<06:52, 22.92s/it]"
     ]
    },
    {
     "name": "stdout",
     "output_type": "stream",
     "text": [
      "🚦 Step 1: Out-of-Domain Check\n",
      "✅ Out-of-Domain Result: out_of_domain=False reason='มีคำว่า บ้เป็นตันพัน เป็นอย่างอย่าง'\n",
      "🔍 Step 2: Clarity Check\n",
      "📊 Step 3: Category Classification\n"
     ]
    },
    {
     "name": "stderr",
     "output_type": "stream",
     "text": [
      " 56%|█████▋    | 22/39 [08:18<06:27, 22.77s/it]"
     ]
    },
    {
     "name": "stdout",
     "output_type": "stream",
     "text": [
      "🚦 Step 1: Out-of-Domain Check\n",
      "✅ Out-of-Domain Result: out_of_domain=False reason='มีคำว่า ท้อยฟ่าง'\n",
      "🔍 Step 2: Clarity Check\n",
      "📊 Step 3: Category Classification\n"
     ]
    },
    {
     "name": "stderr",
     "output_type": "stream",
     "text": [
      " 59%|█████▉    | 23/39 [08:45<06:22, 23.89s/it]"
     ]
    },
    {
     "name": "stdout",
     "output_type": "stream",
     "text": [
      "🚦 Step 1: Out-of-Domain Check\n",
      "✅ Out-of-Domain Result: out_of_domain=False reason='มีคำว่า ย่องป็นตัว เป็นอย่องป็นตัว สุดิบๆลายป็นตัว เป็นอย่องป็นตัว บัวอย่องป็นตัว'\n",
      "🔍 Step 2: Clarity Check\n",
      "📊 Step 3: Category Classification\n"
     ]
    },
    {
     "name": "stderr",
     "output_type": "stream",
     "text": [
      " 62%|██████▏   | 24/39 [09:14<06:21, 25.42s/it]"
     ]
    },
    {
     "name": "stdout",
     "output_type": "stream",
     "text": [
      "🚦 Step 1: Out-of-Domain Check\n",
      "✅ Out-of-Domain Result: out_of_domain=False reason=\"มีคำว่า 'หลังถอนฟัน' และ 'หลอดดื่ม' จึงอยู่ในขอบเขต\"\n",
      "🔍 Step 2: Clarity Check\n",
      "📊 Step 3: Category Classification\n"
     ]
    },
    {
     "name": "stderr",
     "output_type": "stream",
     "text": [
      " 64%|██████▍   | 25/39 [09:34<05:36, 24.02s/it]"
     ]
    },
    {
     "name": "stdout",
     "output_type": "stream",
     "text": [
      "🚦 Step 1: Out-of-Domain Check\n",
      "✅ Out-of-Domain Result: out_of_domain=False reason='มีคำว่า ย่องป็นตัว เป็นอย่องป็นตัว ไร็นประเป็นอย่องป็นตัว บัวอย่องป็นตัว เป็นอย่องป็นตัว บัวอย่องป็นตัว'\n",
      "🔍 Step 2: Clarity Check\n",
      "📊 Step 3: Category Classification\n"
     ]
    },
    {
     "name": "stderr",
     "output_type": "stream",
     "text": [
      " 67%|██████▋   | 26/39 [10:01<05:21, 24.73s/it]"
     ]
    },
    {
     "name": "stdout",
     "output_type": "stream",
     "text": [
      "🚦 Step 1: Out-of-Domain Check\n",
      "✅ Out-of-Domain Result: out_of_domain=False reason=\"มีคำว่า 'ถอนฟัน' จึงอยู่ในขอบเขต\"\n",
      "🔍 Step 2: Clarity Check\n",
      "📊 Step 3: Category Classification\n"
     ]
    },
    {
     "name": "stderr",
     "output_type": "stream",
     "text": [
      " 69%|██████▉   | 27/39 [10:26<05:00, 25.01s/it]"
     ]
    },
    {
     "name": "stdout",
     "output_type": "stream",
     "text": [
      "🚦 Step 1: Out-of-Domain Check\n",
      "✅ Out-of-Domain Result: out_of_domain=False reason='มีคำว่า ย่สตันพัน'\n",
      "🔍 Step 2: Clarity Check\n",
      "📊 Step 3: Category Classification\n"
     ]
    },
    {
     "name": "stderr",
     "output_type": "stream",
     "text": [
      " 72%|███████▏  | 28/39 [10:49<04:25, 24.14s/it]"
     ]
    },
    {
     "name": "stdout",
     "output_type": "stream",
     "text": [
      "🚦 Step 1: Out-of-Domain Check\n",
      "✅ Out-of-Domain Result: out_of_domain=False reason=\"มีคำว่า 'หลังถอนฟัน' และ 'กินข้าว' จึงอยู่ในขอบเขต\"\n",
      "🔍 Step 2: Clarity Check\n",
      "📊 Step 3: Category Classification\n"
     ]
    },
    {
     "name": "stderr",
     "output_type": "stream",
     "text": [
      " 74%|███████▍  | 29/39 [11:21<04:26, 26.65s/it]"
     ]
    },
    {
     "name": "stdout",
     "output_type": "stream",
     "text": [
      "🚦 Step 1: Out-of-Domain Check\n",
      "✅ Out-of-Domain Result: out_of_domain=False reason='มีคำว่า อม่ปนตัน พันตัวัมอย่มง เป็นอย่มง กระเป็นอย่มง สุ่นตัวัมอย่มง เป็นอย่มง บันที่อย่มง อม่ปนตัน พันตัวัมอย่มง เป็นอย่มง กระเป็นอย่มง สุ่นตัวัมอย่มง เป็นอย่มง บันที่อย่มง อม่ปนตัน พันตัวัมอย่มง เป็นอย่มง กระเป็นอย่มง สุ่นตัวัมอย่มง เป็นอย่มง บันที่อย่มง อม่'\n",
      "🔍 Step 2: Clarity Check\n",
      "📊 Step 3: Category Classification\n"
     ]
    },
    {
     "name": "stderr",
     "output_type": "stream",
     "text": [
      " 77%|███████▋  | 30/39 [11:49<04:04, 27.18s/it]"
     ]
    },
    {
     "name": "stdout",
     "output_type": "stream",
     "text": [
      "🚦 Step 1: Out-of-Domain Check\n",
      "✅ Out-of-Domain Result: out_of_domain=False reason=\"มีคำว่า 'หลังถอนฟัน' และ 'กิน' จึงอยู่ในขอบเขต\"\n",
      "🔍 Step 2: Clarity Check\n",
      "📊 Step 3: Category Classification\n"
     ]
    },
    {
     "name": "stderr",
     "output_type": "stream",
     "text": [
      " 79%|███████▉  | 31/39 [12:22<03:49, 28.72s/it]"
     ]
    },
    {
     "name": "stdout",
     "output_type": "stream",
     "text": [
      "🚦 Step 1: Out-of-Domain Check\n",
      "✅ Out-of-Domain Result: out_of_domain=False reason='มีคำว่า ย่องป็นตัว เป็นอย่องป็นตัว บัวสถางอย่องป็นตัว บัวสถางอย่องป็นตัว'\n",
      "🔍 Step 2: Clarity Check\n",
      "📊 Step 3: Category Classification\n"
     ]
    },
    {
     "name": "stderr",
     "output_type": "stream",
     "text": [
      " 82%|████████▏ | 32/39 [12:38<02:55, 25.02s/it]"
     ]
    },
    {
     "name": "stdout",
     "output_type": "stream",
     "text": [
      "🚦 Step 1: Out-of-Domain Check\n",
      "✅ Out-of-Domain Result: out_of_domain=False reason='มีคำว่า ย่สตันพัน'\n",
      "🔍 Step 2: Clarity Check\n",
      "📊 Step 3: Category Classification\n"
     ]
    },
    {
     "name": "stderr",
     "output_type": "stream",
     "text": [
      " 85%|████████▍ | 33/39 [13:03<02:29, 24.98s/it]"
     ]
    },
    {
     "name": "stdout",
     "output_type": "stream",
     "text": [
      "🚦 Step 1: Out-of-Domain Check\n",
      "✅ Out-of-Domain Result: out_of_domain=False reason=\"มีคำว่า 'ถอนฟัน' จึงอยู่ในขอบเขต\"\n",
      "🔍 Step 2: Clarity Check\n",
      "📊 Step 3: Category Classification\n"
     ]
    },
    {
     "name": "stderr",
     "output_type": "stream",
     "text": [
      " 87%|████████▋ | 34/39 [13:26<02:01, 24.25s/it]"
     ]
    },
    {
     "name": "stdout",
     "output_type": "stream",
     "text": [
      "🚦 Step 1: Out-of-Domain Check\n",
      "✅ Out-of-Domain Result: out_of_domain=False reason=\"มีคำว่า 'หลังถอนฟัน' จึงอยู่ในขอบเขต\"\n",
      "🔍 Step 2: Clarity Check\n",
      "📊 Step 3: Category Classification\n"
     ]
    },
    {
     "name": "stderr",
     "output_type": "stream",
     "text": [
      " 90%|████████▉ | 35/39 [13:59<01:48, 27.11s/it]"
     ]
    },
    {
     "name": "stdout",
     "output_type": "stream",
     "text": [
      "🚦 Step 1: Out-of-Domain Check\n",
      "✅ Out-of-Domain Result: out_of_domain=False reason=\"มีคำว่า 'หลังถอนฟัน' จึงอยู่ในขอบเขต\"\n",
      "🔍 Step 2: Clarity Check\n",
      "📊 Step 3: Category Classification\n"
     ]
    },
    {
     "name": "stderr",
     "output_type": "stream",
     "text": [
      " 92%|█████████▏| 36/39 [14:24<01:18, 26.31s/it]"
     ]
    },
    {
     "name": "stdout",
     "output_type": "stream",
     "text": [
      "🚦 Step 1: Out-of-Domain Check\n",
      "✅ Out-of-Domain Result: out_of_domain=False reason=\"มีคำว่า 'หลังถอนฟัน' จึงอยู่ในขอบเขต\"\n",
      "🔍 Step 2: Clarity Check\n",
      "📊 Step 3: Category Classification\n"
     ]
    },
    {
     "name": "stderr",
     "output_type": "stream",
     "text": [
      " 95%|█████████▍| 37/39 [14:54<00:55, 27.53s/it]"
     ]
    },
    {
     "name": "stdout",
     "output_type": "stream",
     "text": [
      "🚦 Step 1: Out-of-Domain Check\n",
      "✅ Out-of-Domain Result: out_of_domain=False reason='มีคำว่า ย่องป็นตัว เป็นตัว สั่งอย่ม่ป็นตัว บัวนตัวอย่ม่ป็นตัว'\n",
      "🔍 Step 2: Clarity Check\n",
      "📊 Step 3: Category Classification\n"
     ]
    },
    {
     "name": "stderr",
     "output_type": "stream",
     "text": [
      " 97%|█████████▋| 38/39 [15:18<00:26, 26.49s/it]"
     ]
    },
    {
     "name": "stdout",
     "output_type": "stream",
     "text": [
      "🚦 Step 1: Out-of-Domain Check\n",
      "✅ Out-of-Domain Result: out_of_domain=False reason='มีคำว่า อมองป็นตัวสถาง หย่งอย่ดางสับอย่ด ไม่ป็นตัวสถาง อย่ดางสับอย่ด บัวสถางอย่ดางสับอย่ด อย่ดางสับอย่ด บัวสถางอย่ดางสับอย่ด'\n",
      "🔍 Step 2: Clarity Check\n",
      "📊 Step 3: Category Classification\n"
     ]
    },
    {
     "name": "stderr",
     "output_type": "stream",
     "text": [
      "100%|██████████| 39/39 [15:36<00:00, 24.02s/it]\n"
     ]
    }
   ],
   "source": [
    "\n",
    "import pandas as pd\n",
    "from tqdm import tqdm\n",
    "import sys\n",
    "import os\n",
    "\n",
    "sys.path.append(os.path.abspath(\"..\"))\n",
    "\n",
    "df = pd.read_excel(\"question_2categorylevel.xlsx\")\n",
    "df.columns = df.columns.str.strip()\n",
    "results = []\n",
    "\n",
    "for _, row in tqdm(df.iterrows(), total=len(df)):\n",
    "    query = row[\"question\"]\n",
    "    expected_lv1 = row[\"category_level1\"]\n",
    "    expected_lv2 = row[\"category_level2\"]\n",
    "\n",
    "    try:\n",
    "        initial_state = AgentState(user_query=query)\n",
    "        state = graph.invoke(initial_state)\n",
    "        state_obj = AgentState(**state)\n",
    "\n",
    "        # หมวดหมู่ที่ model ทำนาย\n",
    "        if state_obj.classification_result.category_level_1:\n",
    "            predicted_lv1 = state_obj.classification_result.category_level_1[0].category\n",
    "        else:\n",
    "            predicted_lv1 = \"\"\n",
    "\n",
    "        if state_obj.classification_result.category_level_2:\n",
    "            predicted_lv2 = state_obj.classification_result.category_level_2[0].subcategory\n",
    "        else:\n",
    "            predicted_lv2 = \"\"\n",
    "\n",
    "        # เปรียบเทียบกับที่ถูกต้อง\n",
    "        correct_lv1 = predicted_lv1 == expected_lv1\n",
    "        correct_lv2 = predicted_lv2 == expected_lv2\n",
    "\n",
    "        # latency และ token usage\n",
    "        latency = state_obj.latency or {}\n",
    "        total_latency = round(sum(v for k, v in latency.items() if isinstance(v, float)), 3)\n",
    "\n",
    "        results.append({\n",
    "            \"query\": query,\n",
    "            \"expected_lv1\": expected_lv1,\n",
    "            \"predicted_lv1\": predicted_lv1,\n",
    "            \"correct_lv1\": correct_lv1,\n",
    "            \"expected_lv2\": expected_lv2,\n",
    "            \"predicted_lv2\": predicted_lv2,\n",
    "            \"correct_lv2\": correct_lv2,\n",
    "            \"latency_out_of_domain\": latency.get(\"out_of_domain\"),\n",
    "            \"latency_clarification\": latency.get(\"clarification\"),\n",
    "            \"latency_classification\": latency.get(\"classification\"),\n",
    "            \"tokens_out_of_domain\": latency.get(\"tokens_out_of_domain\"),\n",
    "            \"tokens_clarification\": latency.get(\"tokens_clarification\"),\n",
    "            \"tokens_classification\": latency.get(\"tokens_classification\"),\n",
    "            \"total_latency\": total_latency,\n",
    "            \"error\": \"\"\n",
    "        })\n",
    "\n",
    "    except Exception as e:\n",
    "        results.append({\n",
    "            \"query\": query,\n",
    "            \"expected_lv1\": expected_lv1,\n",
    "            \"predicted_lv1\": \"\",\n",
    "            \"correct_lv1\": False,\n",
    "            \"expected_lv2\": expected_lv2,\n",
    "            \"predicted_lv2\": \"\",\n",
    "            \"correct_lv2\": False,\n",
    "            \"latency_out_of_domain\": None,\n",
    "            \"latency_clarification\": None,\n",
    "            \"latency_classification\": None,\n",
    "            \"tokens_out_of_domain\": None,\n",
    "            \"tokens_clarification\": None,\n",
    "            \"tokens_classification\": None,\n",
    "            \"total_latency\": None,\n",
    "            \"error\": str(e)\n",
    "        })"
   ]
  },
  {
   "cell_type": "code",
   "execution_count": 25,
   "id": "a2d2632f",
   "metadata": {},
   "outputs": [
    {
     "data": {
      "text/plain": [
       "[{'query': ' ยาชาถอนฟันจะอยู่ได้นานกี่ชั่วโมง?',\n",
       "  'expected_lv1': 'หัตถการ',\n",
       "  'predicted_lv1': 'อาการ/ภาวะแทรกซ้อน',\n",
       "  'correct_lv1': False,\n",
       "  'expected_lv2': 'การใช้ยาชา',\n",
       "  'predicted_lv2': 'wound healing',\n",
       "  'correct_lv2': False,\n",
       "  'error': ''},\n",
       " {'query': 'หลังถอนฟัน อาการผิดปกติแบบไหนที่ควรกลับไปพบทันตแพทย์',\n",
       "  'expected_lv1': 'อาการ/ภาวะแทรกซ้อน',\n",
       "  'predicted_lv1': 'อาการ/ภาวะแทรกซ้อน',\n",
       "  'correct_lv1': True,\n",
       "  'expected_lv2': 'overall',\n",
       "  'predicted_lv2': 'wound healing',\n",
       "  'correct_lv2': False,\n",
       "  'error': ''},\n",
       " {'query': 'ความเสี่ยงและผลกระทบที่เกิดจากการถอนฟัน',\n",
       "  'expected_lv1': 'อาการ/ภาวะแทรกซ้อน',\n",
       "  'predicted_lv1': 'อาการ/ภาวะแทรกซ้อน',\n",
       "  'correct_lv1': True,\n",
       "  'expected_lv2': 'overall',\n",
       "  'predicted_lv2': 'wound healing',\n",
       "  'correct_lv2': False,\n",
       "  'error': ''},\n",
       " {'query': 'สัญญาณของการติดเชื้อหลังถอนฟัน',\n",
       "  'expected_lv1': 'อาการ/ภาวะแทรกซ้อน',\n",
       "  'predicted_lv1': 'อาการ/ภาวะแทรกซ้อน',\n",
       "  'correct_lv1': True,\n",
       "  'expected_lv2': 'overall',\n",
       "  'predicted_lv2': 'wound healing',\n",
       "  'correct_lv2': False,\n",
       "  'error': ''},\n",
       " {'query': 'หลังผ่าเสร็จจะมีอาการอย่างไร ปวดบวมมากน้อยแค่ไหน?',\n",
       "  'expected_lv1': 'อาการ/ภาวะแทรกซ้อน',\n",
       "  'predicted_lv1': 'อาการ/ภาวะแทรกซ้อน',\n",
       "  'correct_lv1': True,\n",
       "  'expected_lv2': 'overall',\n",
       "  'predicted_lv2': 'wound healing',\n",
       "  'correct_lv2': False,\n",
       "  'error': ''},\n",
       " {'query': 'ทำไมถอนฟันแล้วเลือดไหลเยอะมาก',\n",
       "  'expected_lv1': 'อาการ/ภาวะแทรกซ้อน',\n",
       "  'predicted_lv1': 'อาการ/ภาวะแทรกซ้อน',\n",
       "  'correct_lv1': True,\n",
       "  'expected_lv2': 'bleeding',\n",
       "  'predicted_lv2': 'wound healing',\n",
       "  'correct_lv2': False,\n",
       "  'error': ''},\n",
       " {'query': 'ถอนฟันเลือดไหลกี่ชั่วโมง ถ้าเลือดไหลไม่หยุด ทำอย่างไรดี?',\n",
       "  'expected_lv1': 'อาการ/ภาวะแทรกซ้อน',\n",
       "  'predicted_lv1': 'อาการ/ภาวะแทรกซ้อน',\n",
       "  'correct_lv1': True,\n",
       "  'expected_lv2': 'bleeding',\n",
       "  'predicted_lv2': 'wound healing',\n",
       "  'correct_lv2': False,\n",
       "  'error': ''},\n",
       " {'query': 'ถอนฟันแล้วเลือดไหลไม่หยุด อันตรายไหม',\n",
       "  'expected_lv1': 'อาการ/ภาวะแทรกซ้อน',\n",
       "  'predicted_lv1': 'อาการ/ภาวะแทรกซ้อน',\n",
       "  'correct_lv1': True,\n",
       "  'expected_lv2': 'bleeding',\n",
       "  'predicted_lv2': 'wound healing',\n",
       "  'correct_lv2': False,\n",
       "  'error': ''},\n",
       " {'query': 'วิธีห้ามเลือดหลังถอนฟัน',\n",
       "  'expected_lv1': 'อาการ/ภาวะแทรกซ้อน',\n",
       "  'predicted_lv1': 'อาการ/ภาวะแทรกซ้อน',\n",
       "  'correct_lv1': True,\n",
       "  'expected_lv2': 'bleeding',\n",
       "  'predicted_lv2': 'wound healing',\n",
       "  'correct_lv2': False,\n",
       "  'error': ''},\n",
       " {'query': 'ถอนฟันแล้วอมน้ำแข็งเพื่อให้เลือดหยุดไหลได้จริงหรือไม่ ',\n",
       "  'expected_lv1': 'อาการ/ภาวะแทรกซ้อน',\n",
       "  'predicted_lv1': 'อาการ/ภาวะแทรกซ้อน',\n",
       "  'correct_lv1': True,\n",
       "  'expected_lv2': 'bleeding',\n",
       "  'predicted_lv2': 'wound healing',\n",
       "  'correct_lv2': False,\n",
       "  'error': ''},\n",
       " {'query': 'ถอนฟันกรามกี่วันหายปวด',\n",
       "  'expected_lv1': 'อาการ/ภาวะแทรกซ้อน',\n",
       "  'predicted_lv1': 'อาการ/ภาวะแทรกซ้อน',\n",
       "  'correct_lv1': True,\n",
       "  'expected_lv2': 'pain',\n",
       "  'predicted_lv2': 'wound healing',\n",
       "  'correct_lv2': False,\n",
       "  'error': ''},\n",
       " {'query': 'ฉันควรทำอย่างไรหากรู้สึกปวดอย่างต่อเนื่อง',\n",
       "  'expected_lv1': 'อาการ/ภาวะแทรกซ้อน',\n",
       "  'predicted_lv1': 'อาการ/ภาวะแทรกซ้อน',\n",
       "  'correct_lv1': True,\n",
       "  'expected_lv2': 'pain',\n",
       "  'predicted_lv2': 'wound healing',\n",
       "  'correct_lv2': False,\n",
       "  'error': ''},\n",
       " {'query': 'วิธีบรรเทาอาการปวดหลังถอนฟัน',\n",
       "  'expected_lv1': 'อาการ/ภาวะแทรกซ้อน',\n",
       "  'predicted_lv1': 'อาการ/ภาวะแทรกซ้อน',\n",
       "  'correct_lv1': True,\n",
       "  'expected_lv2': 'pain',\n",
       "  'predicted_lv2': 'wound healing',\n",
       "  'correct_lv2': False,\n",
       "  'error': ''},\n",
       " {'query': 'วิธีแก้ปวดหลังถอนฟัน',\n",
       "  'expected_lv1': 'อาการ/ภาวะแทรกซ้อน',\n",
       "  'predicted_lv1': 'อาการ/ภาวะแทรกซ้อน',\n",
       "  'correct_lv1': True,\n",
       "  'expected_lv2': 'pain',\n",
       "  'predicted_lv2': 'wound healing',\n",
       "  'correct_lv2': False,\n",
       "  'error': ''},\n",
       " {'query': 'ผ่าฟันคุด หรือถอนฟันแล้ว ยังคงมีอาการปวดมากไม่หาย กินยาแก้ปวดก็ไม่หาย ซึ่งถ้าเป็นอาการของ กระดูกเบ้าฟันอักเสบ (Dry socket) จะต้องทำอย่างไร?',\n",
       "  'expected_lv1': 'อาการ/ภาวะแทรกซ้อน',\n",
       "  'predicted_lv1': 'อาการ/ภาวะแทรกซ้อน',\n",
       "  'correct_lv1': True,\n",
       "  'expected_lv2': 'pain',\n",
       "  'predicted_lv2': 'wound healing',\n",
       "  'correct_lv2': False,\n",
       "  'error': ''},\n",
       " {'query': 'แผลถอนฟันจะหายสนิทในเวลากี่วัน?',\n",
       "  'expected_lv1': 'อาการ/ภาวะแทรกซ้อน',\n",
       "  'predicted_lv1': 'อาการ/ภาวะแทรกซ้อน',\n",
       "  'correct_lv1': True,\n",
       "  'expected_lv2': 'wound healing',\n",
       "  'predicted_lv2': 'wound healing',\n",
       "  'correct_lv2': True,\n",
       "  'error': ''},\n",
       " {'query': 'แผลหลังถอนฟันหายนานแค่ไหน',\n",
       "  'expected_lv1': 'อาการ/ภาวะแทรกซ้อน',\n",
       "  'predicted_lv1': 'อาการ/ภาวะแทรกซ้อน',\n",
       "  'correct_lv1': True,\n",
       "  'expected_lv2': 'wound healing',\n",
       "  'predicted_lv2': 'wound healing',\n",
       "  'correct_lv2': True,\n",
       "  'error': ''},\n",
       " {'query': 'ถอนฟันกรามกี่วันหาย?',\n",
       "  'expected_lv1': 'อาการ/ภาวะแทรกซ้อน',\n",
       "  'predicted_lv1': 'อาการ/ภาวะแทรกซ้อน',\n",
       "  'correct_lv1': True,\n",
       "  'expected_lv2': 'wound healing',\n",
       "  'predicted_lv2': 'wound healing',\n",
       "  'correct_lv2': True,\n",
       "  'error': ''},\n",
       " {'query': 'ถ้าเป็นแผลผ่าฟันคุดต้องใช้เวลานานแค่ไหน กว่าแผลจะหายดี?',\n",
       "  'expected_lv1': 'อาการ/ภาวะแทรกซ้อน',\n",
       "  'predicted_lv1': 'อาการ/ภาวะแทรกซ้อน',\n",
       "  'correct_lv1': True,\n",
       "  'expected_lv2': 'wound healing',\n",
       "  'predicted_lv2': 'wound healing',\n",
       "  'correct_lv2': True,\n",
       "  'error': ''},\n",
       " {'query': 'หลังถอนฟันหรือผ่าฟันคุด ควรปฏิบัติตัวอย่างไร?',\n",
       "  'expected_lv1': 'การปฏิบัติตัวหลังทำหัตถการ',\n",
       "  'predicted_lv1': 'อาการ/ภาวะแทรกซ้อน',\n",
       "  'correct_lv1': False,\n",
       "  'expected_lv2': 'overall',\n",
       "  'predicted_lv2': 'wound healing',\n",
       "  'correct_lv2': False,\n",
       "  'error': ''},\n",
       " {'query': 'หลังถอนฟัน ควรปฏิบัติตัวอย่างไร?',\n",
       "  'expected_lv1': 'การปฏิบัติตัวหลังทำหัตถการ',\n",
       "  'predicted_lv1': 'อาการ/ภาวะแทรกซ้อน',\n",
       "  'correct_lv1': False,\n",
       "  'expected_lv2': 'overall',\n",
       "  'predicted_lv2': 'wound healing',\n",
       "  'correct_lv2': False,\n",
       "  'error': ''},\n",
       " {'query': 'ทำอย่างไรให้แผลถอนฟันหายเร็วขึ้น',\n",
       "  'expected_lv1': 'การปฏิบัติตัวหลังทำหัตถการ',\n",
       "  'predicted_lv1': 'อาการ/ภาวะแทรกซ้อน',\n",
       "  'correct_lv1': False,\n",
       "  'expected_lv2': 'overall',\n",
       "  'predicted_lv2': 'wound healing',\n",
       "  'correct_lv2': False,\n",
       "  'error': ''},\n",
       " {'query': 'ถอนฟันห้ามใช้หลอดกี่วัน?',\n",
       "  'expected_lv1': 'การปฏิบัติตัวหลังทำหัตถการ',\n",
       "  'predicted_lv1': 'อาการ/ภาวะแทรกซ้อน',\n",
       "  'correct_lv1': False,\n",
       "  'expected_lv2': 'drinking straw',\n",
       "  'predicted_lv2': 'wound healing',\n",
       "  'correct_lv2': False,\n",
       "  'error': ''},\n",
       " {'query': 'หลังการถอนฟันฉันสามารถดื่มน้ำด้วยหลอดได้หรือไม่',\n",
       "  'expected_lv1': 'การปฏิบัติตัวหลังทำหัตถการ',\n",
       "  'predicted_lv1': 'อาการ/ภาวะแทรกซ้อน',\n",
       "  'correct_lv1': False,\n",
       "  'expected_lv2': 'drinking straw',\n",
       "  'predicted_lv2': 'wound healing',\n",
       "  'correct_lv2': False,\n",
       "  'error': ''},\n",
       " {'query': 'สามารถใช้หลอดดื่มหลังถอนฟันได้หรือไม่',\n",
       "  'expected_lv1': 'การปฏิบัติตัวหลังทำหัตถการ',\n",
       "  'predicted_lv1': 'อาการ/ภาวะแทรกซ้อน',\n",
       "  'correct_lv1': False,\n",
       "  'expected_lv2': 'drinking straw',\n",
       "  'predicted_lv2': 'wound healing',\n",
       "  'correct_lv2': False,\n",
       "  'error': ''},\n",
       " {'query': 'ทำไมหลังถอนฟันแล้วดื่มน้ำโดยการใช้หลอดดูดน้ำไม่ได้',\n",
       "  'expected_lv1': 'การปฏิบัติตัวหลังทำหัตถการ',\n",
       "  'predicted_lv1': 'อาการ/ภาวะแทรกซ้อน',\n",
       "  'correct_lv1': False,\n",
       "  'expected_lv2': 'drinking straw',\n",
       "  'predicted_lv2': 'wound healing',\n",
       "  'correct_lv2': False,\n",
       "  'error': ''},\n",
       " {'query': 'ถอนฟันกินเหล้าได้ไหม?',\n",
       "  'expected_lv1': 'การปฏิบัติตัวหลังทำหัตถการ',\n",
       "  'predicted_lv1': 'อาการ/ภาวะแทรกซ้อน',\n",
       "  'correct_lv1': False,\n",
       "  'expected_lv2': 'alcohol',\n",
       "  'predicted_lv2': 'wound healing',\n",
       "  'correct_lv2': False,\n",
       "  'error': ''},\n",
       " {'query': 'ทำไมต้องงดออกกำลังกาย หลังการถอนฟัน  ',\n",
       "  'expected_lv1': 'การปฏิบัติตัวหลังทำหัตถการ',\n",
       "  'predicted_lv1': 'อาการ/ภาวะแทรกซ้อน',\n",
       "  'correct_lv1': False,\n",
       "  'expected_lv2': 'workout',\n",
       "  'predicted_lv2': 'wound healing',\n",
       "  'correct_lv2': False,\n",
       "  'error': ''},\n",
       " {'query': 'หลังถอนฟันกินข้าวได้ตอนไหน?',\n",
       "  'expected_lv1': 'การปฏิบัติตัวหลังทำหัตถการ',\n",
       "  'predicted_lv1': 'อาการ/ภาวะแทรกซ้อน',\n",
       "  'correct_lv1': False,\n",
       "  'expected_lv2': 'food',\n",
       "  'predicted_lv2': 'wound healing',\n",
       "  'correct_lv2': False,\n",
       "  'error': ''},\n",
       " {'query': 'หลังถอนฟัน ถ้าเลือดหยุดไหลแล้ว สามารถกินข้าวได้เลยมั้ย',\n",
       "  'expected_lv1': 'การปฏิบัติตัวหลังทำหัตถการ',\n",
       "  'predicted_lv1': 'อาการ/ภาวะแทรกซ้อน',\n",
       "  'correct_lv1': False,\n",
       "  'expected_lv2': 'food',\n",
       "  'predicted_lv2': 'wound healing',\n",
       "  'correct_lv2': False,\n",
       "  'error': ''},\n",
       " {'query': 'หลังถอนฟันสามารถกินอะไรได้บ้าง',\n",
       "  'expected_lv1': 'การปฏิบัติตัวหลังทำหัตถการ',\n",
       "  'predicted_lv1': 'อาการ/ภาวะแทรกซ้อน',\n",
       "  'correct_lv1': False,\n",
       "  'expected_lv2': 'food',\n",
       "  'predicted_lv2': 'wound healing',\n",
       "  'correct_lv2': False,\n",
       "  'error': ''},\n",
       " {'query': 'อาหารอ่อนที่ดีต่อการฟื้นตัวหลังการถอนฟัน',\n",
       "  'expected_lv1': 'การปฏิบัติตัวหลังทำหัตถการ',\n",
       "  'predicted_lv1': 'อาการ/ภาวะแทรกซ้อน',\n",
       "  'correct_lv1': False,\n",
       "  'expected_lv2': 'food',\n",
       "  'predicted_lv2': 'wound healing',\n",
       "  'correct_lv2': False,\n",
       "  'error': ''},\n",
       " {'query': 'อาหารที่ทานได้ทันทีหลังการถอนฟัน',\n",
       "  'expected_lv1': 'การปฏิบัติตัวหลังทำหัตถการ',\n",
       "  'predicted_lv1': 'อาการ/ภาวะแทรกซ้อน',\n",
       "  'correct_lv1': False,\n",
       "  'expected_lv2': 'food',\n",
       "  'predicted_lv2': 'wound healing',\n",
       "  'correct_lv2': False,\n",
       "  'error': ''},\n",
       " {'query': 'ถอนฟัน ห้ามกินอะไร?',\n",
       "  'expected_lv1': 'การปฏิบัติตัวหลังทำหัตถการ',\n",
       "  'predicted_lv1': 'อาการ/ภาวะแทรกซ้อน',\n",
       "  'correct_lv1': False,\n",
       "  'expected_lv2': 'food',\n",
       "  'predicted_lv2': 'wound healing',\n",
       "  'correct_lv2': False,\n",
       "  'error': ''},\n",
       " {'query': 'ห้ามกินอะไรหลังถอนฟันบ้าง\\xa0\\xa0',\n",
       "  'expected_lv1': 'การปฏิบัติตัวหลังทำหัตถการ',\n",
       "  'predicted_lv1': 'อาการ/ภาวะแทรกซ้อน',\n",
       "  'correct_lv1': False,\n",
       "  'expected_lv2': 'food',\n",
       "  'predicted_lv2': 'wound healing',\n",
       "  'correct_lv2': False,\n",
       "  'error': ''},\n",
       " {'query': 'หลังถอนฟันควรหลีกเลี่ยงการกินอะไรบ้าง',\n",
       "  'expected_lv1': 'การปฏิบัติตัวหลังทำหัตถการ',\n",
       "  'predicted_lv1': 'อาการ/ภาวะแทรกซ้อน',\n",
       "  'correct_lv1': False,\n",
       "  'expected_lv2': 'food',\n",
       "  'predicted_lv2': 'wound healing',\n",
       "  'correct_lv2': False,\n",
       "  'error': ''},\n",
       " {'query': 'หลังถอนฟันห้ามกินไข่ จริงหรือ?',\n",
       "  'expected_lv1': 'การปฏิบัติตัวหลังทำหัตถการ',\n",
       "  'predicted_lv1': 'อาการ/ภาวะแทรกซ้อน',\n",
       "  'correct_lv1': False,\n",
       "  'expected_lv2': 'food',\n",
       "  'predicted_lv2': 'wound healing',\n",
       "  'correct_lv2': False,\n",
       "  'error': ''},\n",
       " {'query': 'ฉันสามารถรับประทานอาหารที่แข็งหลังการถอนฟันได้ทันทีหรือไม่',\n",
       "  'expected_lv1': 'การปฏิบัติตัวหลังทำหัตถการ',\n",
       "  'predicted_lv1': 'อาการ/ภาวะแทรกซ้อน',\n",
       "  'correct_lv1': False,\n",
       "  'expected_lv2': 'food',\n",
       "  'predicted_lv2': 'wound healing',\n",
       "  'correct_lv2': False,\n",
       "  'error': ''},\n",
       " {'query': 'หลังถอนฟันแล้ว ใช้น้ำยาบ้วนปากได้มั้ย',\n",
       "  'expected_lv1': 'การปฏิบัติตัวหลังทำหัตถการ',\n",
       "  'predicted_lv1': 'อาการ/ภาวะแทรกซ้อน',\n",
       "  'correct_lv1': False,\n",
       "  'expected_lv2': 'oral hygiene',\n",
       "  'predicted_lv2': 'wound healing',\n",
       "  'correct_lv2': False,\n",
       "  'error': ''}]"
      ]
     },
     "execution_count": 25,
     "metadata": {},
     "output_type": "execute_result"
    }
   ],
   "source": [
    " results"
   ]
  },
  {
   "cell_type": "code",
   "execution_count": 4,
   "id": "a58eb9ab",
   "metadata": {},
   "outputs": [],
   "source": [
    "import pandas as pd\n",
    "\n",
    "# สมมุติว่า results เป็น list ของ dictionary\n",
    "results_df2 = pd.DataFrame(results)\n",
    "\n",
    "# แล้วค่อยบันทึกเป็น Excel\n",
    "results_df2.to_excel(\"results3.xlsx\", index=False)\n",
    "\n"
   ]
  },
  {
   "cell_type": "code",
   "execution_count": 20,
   "id": "6bbe9792",
   "metadata": {},
   "outputs": [],
   "source": [
    "import pandas as pd\n",
    "\n",
    "# สมมุติว่า results เป็น list ของ dictionary\n",
    "results_df = pd.DataFrame(results)\n",
    "\n",
    "# แล้วค่อยบันทึกเป็น Excel\n",
    "results_df.to_excel(\"results.xlsx\", index=False)\n",
    "\n"
   ]
  },
  {
   "cell_type": "code",
   "execution_count": 12,
   "id": "18bb8aba",
   "metadata": {},
   "outputs": [
    {
     "name": "stdout",
     "output_type": "stream",
     "text": [
      "['category_level1', 'category_level2', 'question']\n"
     ]
    }
   ],
   "source": [
    "print(df.columns.tolist())\n"
   ]
  },
  {
   "cell_type": "code",
   "execution_count": 9,
   "id": "9f733049",
   "metadata": {},
   "outputs": [
    {
     "name": "stderr",
     "output_type": "stream",
     "text": [
      "  0%|          | 0/15 [00:00<?, ?it/s]"
     ]
    },
    {
     "name": "stdout",
     "output_type": "stream",
     "text": [
      "🚦 Step 1: Out-of-Domain Check\n"
     ]
    },
    {
     "name": "stderr",
     "output_type": "stream",
     "text": [
      "  7%|▋         | 1/15 [00:02<00:37,  2.66s/it]"
     ]
    },
    {
     "name": "stdout",
     "output_type": "stream",
     "text": [
      "✅ Out-of-Domain Result: out_of_domain=True reason='ไม่เกี่ยวข้องกับทันตกรรม'\n",
      "🚦 Step 1: Out-of-Domain Check\n",
      "✅ Out-of-Domain Result: out_of_domain=False reason='มีคำว่า เป็นย่างอย่าง'\n",
      "🔍 Step 2: Clarity Check\n"
     ]
    },
    {
     "name": "stderr",
     "output_type": "stream",
     "text": [
      " 13%|█▎        | 2/15 [00:14<01:48,  8.34s/it]"
     ]
    },
    {
     "name": "stdout",
     "output_type": "stream",
     "text": [
      "🚦 Step 1: Out-of-Domain Check\n"
     ]
    },
    {
     "name": "stderr",
     "output_type": "stream",
     "text": [
      " 20%|██        | 3/15 [00:26<02:00, 10.01s/it]"
     ]
    },
    {
     "name": "stdout",
     "output_type": "stream",
     "text": [
      "✅ Out-of-Domain Result: out_of_domain=True reason='ไม่เกี่ยวข้องกับทันตกรรม'\n",
      "🚦 Step 1: Out-of-Domain Check\n",
      "✅ Out-of-Domain Result: out_of_domain=False reason=\"มีคำว่า 'บวม' ซึ่งเกี่ยวข้องกับอาการหลังหัตถการ จึงอยู่ในขอบเขต\"\n",
      "🔍 Step 2: Clarity Check\n"
     ]
    },
    {
     "name": "stderr",
     "output_type": "stream",
     "text": [
      " 27%|██▋       | 4/15 [00:38<01:54, 10.45s/it]"
     ]
    },
    {
     "name": "stdout",
     "output_type": "stream",
     "text": [
      "🚦 Step 1: Out-of-Domain Check\n",
      "✅ Out-of-Domain Result: out_of_domain=False reason='มีคำว่า ผ็นป็นตำผ็นอย่าง'\n",
      "🔍 Step 2: Clarity Check\n"
     ]
    },
    {
     "name": "stderr",
     "output_type": "stream",
     "text": [
      " 33%|███▎      | 5/15 [00:51<01:53, 11.34s/it]"
     ]
    },
    {
     "name": "stdout",
     "output_type": "stream",
     "text": [
      "🚦 Step 1: Out-of-Domain Check\n",
      "✅ Out-of-Domain Result: out_of_domain=False reason=\"มีคำว่า 'ยาชา' จึงอยู่ในขอบเขต\"\n",
      "🔍 Step 2: Clarity Check\n",
      "📊 Step 3: Category Classification\n"
     ]
    },
    {
     "name": "stderr",
     "output_type": "stream",
     "text": [
      " 40%|████      | 6/15 [01:17<02:29, 16.60s/it]"
     ]
    },
    {
     "name": "stdout",
     "output_type": "stream",
     "text": [
      "🚦 Step 1: Out-of-Domain Check\n"
     ]
    },
    {
     "name": "stderr",
     "output_type": "stream",
     "text": [
      " 47%|████▋     | 7/15 [01:26<01:53, 14.17s/it]"
     ]
    },
    {
     "name": "stdout",
     "output_type": "stream",
     "text": [
      "✅ Out-of-Domain Result: out_of_domain=True reason='ไม่เกี่ยวข้องกับทันตกรรม'\n",
      "🚦 Step 1: Out-of-Domain Check\n"
     ]
    },
    {
     "name": "stderr",
     "output_type": "stream",
     "text": [
      " 53%|█████▎    | 8/15 [01:37<01:31, 13.05s/it]"
     ]
    },
    {
     "name": "stdout",
     "output_type": "stream",
     "text": [
      "✅ Out-of-Domain Result: out_of_domain=True reason='ไม่มีคำที่เกี่ยวข้องกับทันตกรรม'\n",
      "🚦 Step 1: Out-of-Domain Check\n"
     ]
    },
    {
     "name": "stderr",
     "output_type": "stream",
     "text": [
      " 60%|██████    | 9/15 [01:47<01:12, 12.05s/it]"
     ]
    },
    {
     "name": "stdout",
     "output_type": "stream",
     "text": [
      "✅ Out-of-Domain Result: out_of_domain=True reason='ไม่เกี่ยวกับทันตกรรม'\n",
      "🚦 Step 1: Out-of-Domain Check\n",
      "✅ Out-of-Domain Result: out_of_domain=False reason=\"มีคำว่า 'หลังหัตถการ' และ 'ใช''หลอด' จึงอยá¹¼ในขôบเขต\"\n",
      "🔍 Step 2: Clarity Check\n"
     ]
    },
    {
     "name": "stderr",
     "output_type": "stream",
     "text": [
      " 67%|██████▋   | 10/15 [02:02<01:04, 12.92s/it]"
     ]
    },
    {
     "name": "stdout",
     "output_type": "stream",
     "text": [
      "🚦 Step 1: Out-of-Domain Check\n",
      "✅ Out-of-Domain Result: out_of_domain=False reason=\"มีคำว่า 'ยาชา' และ 'หมดฤทธิ์' จึงอยู่ในขอบเขต\"\n",
      "🔍 Step 2: Clarity Check\n",
      "📊 Step 3: Category Classification\n"
     ]
    },
    {
     "name": "stderr",
     "output_type": "stream",
     "text": [
      " 73%|███████▎  | 11/15 [02:26<01:05, 16.47s/it]"
     ]
    },
    {
     "name": "stdout",
     "output_type": "stream",
     "text": [
      "🚦 Step 1: Out-of-Domain Check\n"
     ]
    },
    {
     "name": "stderr",
     "output_type": "stream",
     "text": [
      " 80%|████████  | 12/15 [02:34<00:41, 13.88s/it]"
     ]
    },
    {
     "name": "stdout",
     "output_type": "stream",
     "text": [
      "✅ Out-of-Domain Result: out_of_domain=True reason='ไม่เกี่ยวข้องกับทันตกรรม'\n",
      "🚦 Step 1: Out-of-Domain Check\n"
     ]
    },
    {
     "name": "stderr",
     "output_type": "stream",
     "text": [
      " 87%|████████▋ | 13/15 [02:45<00:25, 12.86s/it]"
     ]
    },
    {
     "name": "stdout",
     "output_type": "stream",
     "text": [
      "✅ Out-of-Domain Result: out_of_domain=True reason='ไม่เกี่ยวข้องกับทันตกรรม'\n",
      "🚦 Step 1: Out-of-Domain Check\n"
     ]
    },
    {
     "name": "stderr",
     "output_type": "stream",
     "text": [
      " 93%|█████████▎| 14/15 [02:50<00:10, 10.44s/it]"
     ]
    },
    {
     "name": "stdout",
     "output_type": "stream",
     "text": [
      "✅ Out-of-Domain Result: out_of_domain=True reason='ไม่เกี่ยวข้องกับทันตกรรม'\n",
      "🚦 Step 1: Out-of-Domain Check\n"
     ]
    },
    {
     "name": "stderr",
     "output_type": "stream",
     "text": [
      "100%|██████████| 15/15 [02:54<00:00, 11.62s/it]"
     ]
    },
    {
     "name": "stdout",
     "output_type": "stream",
     "text": [
      "✅ Out-of-Domain Result: out_of_domain=True reason='ไม่เกี่ยวข้องกับทันตกรรมหลังหัตถการ'\n"
     ]
    },
    {
     "name": "stderr",
     "output_type": "stream",
     "text": [
      "\n"
     ]
    }
   ],
   "source": [
    "df = pd.read_excel(\"question_clari_test.xlsx\")\n",
    "df.columns = df.columns.str.strip()\n",
    "df[\"clarification_needed_expected\"] = True\n",
    "results_clari = []\n",
    "\n",
    "for _, row in tqdm(df.iterrows(), total=len(df)):\n",
    "    query = row[\"question\"]\n",
    "    expected_clarification = row[\"clarification_needed_expected\"]\n",
    "\n",
    "    try:\n",
    "        initial_state = AgentState(user_query=query)\n",
    "        state = graph.invoke(initial_state)\n",
    "        state_obj = AgentState(**state)\n",
    "\n",
    "        predicted_clarification = state_obj.classification_result.clarification_needed\n",
    "        correct_clarification = predicted_clarification == expected_clarification\n",
    "\n",
    "        latency = state_obj.latency or {}\n",
    "        total_latency = round(sum(v for k, v in latency.items() if isinstance(v, float)), 3)\n",
    "\n",
    "        results_clari.append({\n",
    "            \"query\": query,\n",
    "            \"expected_clarification\": expected_clarification,\n",
    "            \"predicted_clarification\": predicted_clarification,\n",
    "            \"correct_clarification\": correct_clarification,\n",
    "            \"latency_clarification\": latency.get(\"clarification\"),\n",
    "            \"tokens_clarification\": latency.get(\"tokens_clarification\"),\n",
    "            \"total_latency\": total_latency,\n",
    "            \"error\": \"\"\n",
    "        })\n",
    "\n",
    "    except Exception as e:\n",
    "        results_clari.append({\n",
    "            \"query\": query,\n",
    "            \"expected_clarification\": expected_clarification,\n",
    "            \"predicted_clarification\": \"\",\n",
    "            \"correct_clarification\": False,\n",
    "            \"latency_clarification\": None,\n",
    "            \"tokens_clarification\": None,\n",
    "            \"total_latency\": None,\n",
    "            \"error\": str(e)\n",
    "        })\n"
   ]
  },
  {
   "cell_type": "code",
   "execution_count": 7,
   "id": "2a64d8b0",
   "metadata": {},
   "outputs": [
    {
     "data": {
      "text/plain": [
       "[{'query': 'ต้องพักกี่วันถึงจะหายดี',\n",
       "  'expected_clarification': True,\n",
       "  'predicted_clarification': '',\n",
       "  'correct_clarification': False,\n",
       "  'latency_clarification': None,\n",
       "  'tokens_clarification': None,\n",
       "  'total_latency': None,\n",
       "  'error': \"'AgentState' object has no attribute 'clarification_result'\"},\n",
       " {'query': 'ยังมีเลือดซึมอยู่นิดหน่อย',\n",
       "  'expected_clarification': True,\n",
       "  'predicted_clarification': '',\n",
       "  'correct_clarification': False,\n",
       "  'latency_clarification': None,\n",
       "  'tokens_clarification': None,\n",
       "  'total_latency': None,\n",
       "  'error': \"'AgentState' object has no attribute 'clarification_result'\"},\n",
       " {'query': 'กินเผ็ดได้ไหมคะ',\n",
       "  'expected_clarification': True,\n",
       "  'predicted_clarification': '',\n",
       "  'correct_clarification': False,\n",
       "  'latency_clarification': None,\n",
       "  'tokens_clarification': None,\n",
       "  'total_latency': None,\n",
       "  'error': \"'AgentState' object has no attribute 'clarification_result'\"},\n",
       " {'query': 'ทำไมยังบวมอยู่',\n",
       "  'expected_clarification': True,\n",
       "  'predicted_clarification': '',\n",
       "  'correct_clarification': False,\n",
       "  'latency_clarification': None,\n",
       "  'tokens_clarification': None,\n",
       "  'total_latency': None,\n",
       "  'error': \"'AgentState' object has no attribute 'clarification_result'\"},\n",
       " {'query': 'ยังปวดตุบ ๆ อยู่เลย',\n",
       "  'expected_clarification': True,\n",
       "  'predicted_clarification': '',\n",
       "  'correct_clarification': False,\n",
       "  'latency_clarification': None,\n",
       "  'tokens_clarification': None,\n",
       "  'total_latency': None,\n",
       "  'error': \"'AgentState' object has no attribute 'clarification_result'\"},\n",
       " {'query': 'ยาชาหมดฤทธิ์กี่โมงคะ',\n",
       "  'expected_clarification': True,\n",
       "  'predicted_clarification': '',\n",
       "  'correct_clarification': False,\n",
       "  'latency_clarification': None,\n",
       "  'tokens_clarification': None,\n",
       "  'total_latency': None,\n",
       "  'error': \"'AgentState' object has no attribute 'clarification_result'\"},\n",
       " {'query': 'ออกกำลังกายได้หรือยัง',\n",
       "  'expected_clarification': True,\n",
       "  'predicted_clarification': '',\n",
       "  'correct_clarification': False,\n",
       "  'latency_clarification': None,\n",
       "  'tokens_clarification': None,\n",
       "  'total_latency': None,\n",
       "  'error': \"'AgentState' object has no attribute 'clarification_result'\"},\n",
       " {'query': 'ต้องทำยังไงดีคะ',\n",
       "  'expected_clarification': True,\n",
       "  'predicted_clarification': '',\n",
       "  'correct_clarification': False,\n",
       "  'latency_clarification': None,\n",
       "  'tokens_clarification': None,\n",
       "  'total_latency': None,\n",
       "  'error': \"'AgentState' object has no attribute 'clarification_result'\"},\n",
       " {'query': 'ยังเคี้ยวข้าวไม่ได้เลย',\n",
       "  'expected_clarification': True,\n",
       "  'predicted_clarification': '',\n",
       "  'correct_clarification': False,\n",
       "  'latency_clarification': None,\n",
       "  'tokens_clarification': None,\n",
       "  'total_latency': None,\n",
       "  'error': \"'AgentState' object has no attribute 'clarification_result'\"},\n",
       " {'query': 'ใช้หลอดดูดน้ำได้ไหม',\n",
       "  'expected_clarification': True,\n",
       "  'predicted_clarification': '',\n",
       "  'correct_clarification': False,\n",
       "  'latency_clarification': None,\n",
       "  'tokens_clarification': None,\n",
       "  'total_latency': None,\n",
       "  'error': \"'AgentState' object has no attribute 'clarification_result'\"},\n",
       " {'query': 'เมื่อไหร่ยาจะหมดฤทธิ์',\n",
       "  'expected_clarification': True,\n",
       "  'predicted_clarification': '',\n",
       "  'correct_clarification': False,\n",
       "  'latency_clarification': None,\n",
       "  'tokens_clarification': None,\n",
       "  'total_latency': None,\n",
       "  'error': \"'AgentState' object has no attribute 'clarification_result'\"},\n",
       " {'query': 'นอนหมอนสูงดีไหม',\n",
       "  'expected_clarification': True,\n",
       "  'predicted_clarification': '',\n",
       "  'correct_clarification': False,\n",
       "  'latency_clarification': None,\n",
       "  'tokens_clarification': None,\n",
       "  'total_latency': None,\n",
       "  'error': \"'AgentState' object has no attribute 'clarification_result'\"},\n",
       " {'query': 'ยังกลืนไม่ค่อยได้',\n",
       "  'expected_clarification': True,\n",
       "  'predicted_clarification': '',\n",
       "  'correct_clarification': False,\n",
       "  'latency_clarification': None,\n",
       "  'tokens_clarification': None,\n",
       "  'total_latency': None,\n",
       "  'error': \"'AgentState' object has no attribute 'clarification_result'\"},\n",
       " {'query': 'กังวลว่าจะติดเชื้อ',\n",
       "  'expected_clarification': True,\n",
       "  'predicted_clarification': '',\n",
       "  'correct_clarification': False,\n",
       "  'latency_clarification': None,\n",
       "  'tokens_clarification': None,\n",
       "  'total_latency': None,\n",
       "  'error': \"'AgentState' object has no attribute 'clarification_result'\"},\n",
       " {'query': 'ต้องไปหาหมออีกทีเมื่อไหร่',\n",
       "  'expected_clarification': True,\n",
       "  'predicted_clarification': '',\n",
       "  'correct_clarification': False,\n",
       "  'latency_clarification': None,\n",
       "  'tokens_clarification': None,\n",
       "  'total_latency': None,\n",
       "  'error': \"'AgentState' object has no attribute 'clarification_result'\"}]"
      ]
     },
     "execution_count": 7,
     "metadata": {},
     "output_type": "execute_result"
    }
   ],
   "source": [
    "results_clari"
   ]
  },
  {
   "cell_type": "code",
   "execution_count": 11,
   "id": "51e5e0ea",
   "metadata": {},
   "outputs": [],
   "source": [
    "import pandas as pd\n",
    "\n",
    "# สมมุติว่า results เป็น list ของ dictionary\n",
    "results_clari = pd.DataFrame(results_clari)\n",
    "\n",
    "# แล้วค่อยบันทึกเป็น Excel\n",
    "results_clari.to_excel(\"results_clari.xlsx\", index=False)"
   ]
  },
  {
   "cell_type": "code",
   "execution_count": null,
   "id": "270e45f6",
   "metadata": {},
   "outputs": [],
   "source": []
  }
 ],
 "metadata": {
  "kernelspec": {
   "display_name": "langchain_env",
   "language": "python",
   "name": "python3"
  },
  "language_info": {
   "codemirror_mode": {
    "name": "ipython",
    "version": 3
   },
   "file_extension": ".py",
   "mimetype": "text/x-python",
   "name": "python",
   "nbconvert_exporter": "python",
   "pygments_lexer": "ipython3",
   "version": "3.9.20"
  }
 },
 "nbformat": 4,
 "nbformat_minor": 5
}
