{
 "cells": [
  {
   "cell_type": "code",
   "execution_count": 1,
   "id": "511e4441",
   "metadata": {},
   "outputs": [],
   "source": [
    "import sys\n",
    "import os\n",
    "\n",
    "# เพิ่ม path ของโฟลเดอร์หลักเข้าไปใน sys.path\n",
    "sys.path.append(os.path.abspath(\"..\"))\n",
    "\n",
    "# ตอนนี้สามารถ import ได้เลย\n",
    "from main_graph import graph\n",
    "from state_schema import AgentState\n"
   ]
  },
  {
   "cell_type": "code",
   "execution_count": 4,
   "id": "2121e8fc",
   "metadata": {},
   "outputs": [],
   "source": [
    "import pandas as pd\n",
    "from tqdm import tqdm\n",
    "import sys\n",
    "import os"
   ]
  },
  {
   "cell_type": "code",
   "execution_count": 2,
   "id": "e99e0ee9",
   "metadata": {},
   "outputs": [
    {
     "name": "stderr",
     "output_type": "stream",
     "text": [
      "  0%|          | 0/39 [00:00<?, ?it/s]"
     ]
    },
    {
     "name": "stdout",
     "output_type": "stream",
     "text": [
      "🚦 Step 1: Out-of-Domain Check\n",
      "✅ Out-of-Domain Result: out_of_domain=False reason=\"มีคำว่า 'ยาชา' และ 'ถอนฟัน' จึงอยู่ในขอบเขต\"\n",
      "🔍 Step 2: Clarity Check\n",
      "✅ Clarity Result: clarification_needed=False reason='คำถามชัดเจน มีบริบทและหัตถการครบถ้วน'\n",
      "📊 Step 3: Category Classification\n"
     ]
    },
    {
     "name": "stderr",
     "output_type": "stream",
     "text": [
      "  3%|▎         | 1/39 [00:19<12:02, 19.02s/it]"
     ]
    },
    {
     "name": "stdout",
     "output_type": "stream",
     "text": [
      "🚦 Step 1: Out-of-Domain Check\n",
      "✅ Out-of-Domain Result: out_of_domain=False reason=\"มีคำว่า 'หลังถอนฟัน' และ 'อาการผิดปกติ' จึงอยู่ในขอบเขต\"\n",
      "🔍 Step 2: Clarity Check\n",
      "✅ Clarity Result: clarification_needed=False reason='คำถามชัดเจน มีบริบทและหัตถการครบถ้วน'\n",
      "📊 Step 3: Category Classification\n"
     ]
    },
    {
     "name": "stderr",
     "output_type": "stream",
     "text": [
      "  5%|▌         | 2/39 [00:42<13:27, 21.83s/it]"
     ]
    },
    {
     "name": "stdout",
     "output_type": "stream",
     "text": [
      "🚦 Step 1: Out-of-Domain Check\n",
      "✅ Out-of-Domain Result: out_of_domain=False reason='มีคำว่า ย่อปนตันบัน เป็นยอย่อปนตันที่'\n",
      "🔍 Step 2: Clarity Check\n",
      "✅ Clarity Result: clarification_needed=False reason='คำถามชัดเจน มีบริบทและหัตถการครบถ้วน'\n",
      "📊 Step 3: Category Classification\n"
     ]
    },
    {
     "name": "stderr",
     "output_type": "stream",
     "text": [
      "  8%|▊         | 3/39 [01:08<14:09, 23.60s/it]"
     ]
    },
    {
     "name": "stdout",
     "output_type": "stream",
     "text": [
      "🚦 Step 1: Out-of-Domain Check\n",
      "✅ Out-of-Domain Result: out_of_domain=False reason=\"มีคำว่า 'หลังถอนฟัน' และ 'การติดเชื้อ' จึงอยู่ในขอบเขต\"\n",
      "🔍 Step 2: Clarity Check\n",
      "✅ Clarity Result: clarification_needed=False reason='คำถามชัดเจน มีบริบทและหัตถการครบถ้วน'\n",
      "📊 Step 3: Category Classification\n"
     ]
    },
    {
     "name": "stderr",
     "output_type": "stream",
     "text": [
      " 10%|█         | 4/39 [01:34<14:23, 24.67s/it]"
     ]
    },
    {
     "name": "stdout",
     "output_type": "stream",
     "text": [
      "🚦 Step 1: Out-of-Domain Check\n",
      "✅ Out-of-Domain Result: out_of_domain=False reason='มีคำว่า ผังอย์เป็นย์ประเป็น เป็นอย่างอังเป็นอย่างบับ'\n",
      "🔍 Step 2: Clarity Check\n",
      "✅ Clarity Result: clarification_needed=False reason='เจตนาชัดเจน มีบริบทและหัตถการครบ'\n",
      "📊 Step 3: Category Classification\n"
     ]
    },
    {
     "name": "stderr",
     "output_type": "stream",
     "text": [
      " 13%|█▎        | 5/39 [01:54<13:01, 23.00s/it]"
     ]
    },
    {
     "name": "stdout",
     "output_type": "stream",
     "text": [
      "🚦 Step 1: Out-of-Domain Check\n",
      "✅ Out-of-Domain Result: out_of_domain=False reason='มีคำว่า ย่อปนตัน เป็นตัน อย่มงหม่อย่มง เป็นตัน อย่มงหม่อ'\n",
      "🔍 Step 2: Clarity Check\n",
      "✅ Clarity Result: clarification_needed=False reason='คำถามชัดเจน มีบริบทและหัตถการครบถ้วน'\n",
      "📊 Step 3: Category Classification\n"
     ]
    },
    {
     "name": "stderr",
     "output_type": "stream",
     "text": [
      " 15%|█▌        | 6/39 [02:19<12:57, 23.57s/it]"
     ]
    },
    {
     "name": "stdout",
     "output_type": "stream",
     "text": [
      "🚦 Step 1: Out-of-Domain Check\n",
      "✅ Out-of-Domain Result: out_of_domain=False reason='มีคำว่า ท้อปนตัน เป็นตัน อย่าง ผระเป็น อย่าง บ้เป็น อย่าง'\n",
      "🔍 Step 2: Clarity Check\n",
      "✅ Clarity Result: clarification_needed=False reason='คำถามชัดเจน มีบริบทและหัตถการครบถ้วน'\n",
      "📊 Step 3: Category Classification\n"
     ]
    },
    {
     "name": "stderr",
     "output_type": "stream",
     "text": [
      " 18%|█▊        | 7/39 [02:48<13:27, 25.23s/it]"
     ]
    },
    {
     "name": "stdout",
     "output_type": "stream",
     "text": [
      "🚦 Step 1: Out-of-Domain Check\n",
      "✅ Out-of-Domain Result: out_of_domain=False reason='มีคำว่า ท้อนฟ่าน เป็นตย์ อย่างหย่าง ไม่ป็นย์'\n",
      "🔍 Step 2: Clarity Check\n",
      "✅ Clarity Result: clarification_needed=False reason='คำถามชัดเจน มีบริบทและหัตถการครบถ้วน'\n",
      "📊 Step 3: Category Classification\n"
     ]
    },
    {
     "name": "stderr",
     "output_type": "stream",
     "text": [
      " 21%|██        | 8/39 [03:14<13:09, 25.46s/it]"
     ]
    },
    {
     "name": "stdout",
     "output_type": "stream",
     "text": [
      "🚦 Step 1: Out-of-Domain Check\n",
      "✅ Out-of-Domain Result: out_of_domain=False reason=\"มีคำว่า 'หลังถอนฟัน' และ 'ห้ามเลือด' จึงอยู่ในขอบเขต\"\n",
      "🔍 Step 2: Clarity Check\n",
      "✅ Clarity Result: clarification_needed=False reason='คำถามชัดเจน มีบริบทและหัตถการครบถ้วน'\n",
      "📊 Step 3: Category Classification\n"
     ]
    },
    {
     "name": "stderr",
     "output_type": "stream",
     "text": [
      " 23%|██▎       | 9/39 [03:30<11:20, 22.69s/it]"
     ]
    },
    {
     "name": "stdout",
     "output_type": "stream",
     "text": [
      "🚦 Step 1: Out-of-Domain Check\n",
      "✅ Out-of-Domain Result: out_of_domain=False reason='มีคำว่า ท้อยฟ่าน ตั้งอย่าน เป็นอย่าน สั้งอย่าน บั้งอย่าน ตั้งอย่าน เป็นอย่าน สั้งอย่าน บั้งอย่าน ตั้งอย่าน เป็นอย่าน สั้งอย่าน บั้งอย่าน'\n",
      "🔍 Step 2: Clarity Check\n",
      "✅ Clarity Result: clarification_needed=False reason='มีเจตนาถาม มีบริบททางทันตกรรม และระบุประเภทหัตถการ'\n",
      "📊 Step 3: Category Classification\n"
     ]
    },
    {
     "name": "stderr",
     "output_type": "stream",
     "text": [
      " 26%|██▌       | 10/39 [03:58<11:39, 24.13s/it]"
     ]
    },
    {
     "name": "stdout",
     "output_type": "stream",
     "text": [
      "🚦 Step 1: Out-of-Domain Check\n",
      "✅ Out-of-Domain Result: out_of_domain=False reason='มีคำว่า ท้อยฟ่างป็นตัวย์'\n",
      "🔍 Step 2: Clarity Check\n",
      "✅ Clarity Result: clarification_needed=False reason='คำถามชัดเจน มีบริบทและหัตถการครบถ้วน'\n",
      "📊 Step 3: Category Classification\n"
     ]
    },
    {
     "name": "stderr",
     "output_type": "stream",
     "text": [
      " 28%|██▊       | 11/39 [04:24<11:32, 24.73s/it]"
     ]
    },
    {
     "name": "stdout",
     "output_type": "stream",
     "text": [
      "🚦 Step 1: Out-of-Domain Check\n",
      "✅ Out-of-Domain Result: out_of_domain=False reason='ม'\n",
      "🔍 Step 2: Clarity Check\n"
     ]
    },
    {
     "name": "stderr",
     "output_type": "stream",
     "text": [
      " 31%|███       | 12/39 [04:35<09:14, 20.52s/it]"
     ]
    },
    {
     "name": "stdout",
     "output_type": "stream",
     "text": [
      "✅ Clarity Result: clarification_needed=True reason='ไม่มีเจตนาถาม'\n",
      "🚦 Step 1: Out-of-Domain Check\n",
      "✅ Out-of-Domain Result: out_of_domain=False reason=\"มีคำว่า 'หลังถอนฟัน' และ 'อาการปวด' จึงอยู่ในขอบเขต\"\n",
      "🔍 Step 2: Clarity Check\n",
      "✅ Clarity Result: clarification_needed=False reason='คำถามชัดเจน มีบริบทและหัตถการครบถ้วน'\n",
      "📊 Step 3: Category Classification\n"
     ]
    },
    {
     "name": "stderr",
     "output_type": "stream",
     "text": [
      " 33%|███▎      | 13/39 [04:50<08:17, 19.12s/it]"
     ]
    },
    {
     "name": "stdout",
     "output_type": "stream",
     "text": [
      "🚦 Step 1: Out-of-Domain Check\n",
      "✅ Out-of-Domain Result: out_of_domain=False reason=\"มีคำว่า 'หลังถอนฟัน' และ 'ปวด' จึงอยู่ในขอบเขต\"\n",
      "🔍 Step 2: Clarity Check\n",
      "✅ Clarity Result: clarification_needed=False reason='เจตนาชัดเจน มีบริบทและหัตถการครบ'\n",
      "📊 Step 3: Category Classification\n"
     ]
    },
    {
     "name": "stderr",
     "output_type": "stream",
     "text": [
      " 36%|███▌      | 14/39 [05:24<09:47, 23.48s/it]"
     ]
    },
    {
     "name": "stdout",
     "output_type": "stream",
     "text": [
      "🚦 Step 1: Out-of-Domain Check\n",
      "✅ Out-of-Domain Result: out_of_domain=False reason='มีคำว่า ผ้เป็นป็น๊อย์ดิฟ เป็นป็นอย่างสื่อ บัตวับอย่างสื่อ ไร็นป็นเป็นป็นอย่างสื่อ บัตวับอย่างสื่อ ไร็นป็นเป็นป็นอย่างสื่อ'\n",
      "🔍 Step 2: Clarity Check\n",
      "✅ Clarity Result: clarification_needed=False reason='มีเจตนาถาม มีบริบททางทันตกรรม และระบุประเภทหัตถการชัดเจน'\n",
      "📊 Step 3: Category Classification\n"
     ]
    },
    {
     "name": "stderr",
     "output_type": "stream",
     "text": [
      " 38%|███▊      | 15/39 [05:58<10:38, 26.60s/it]"
     ]
    },
    {
     "name": "stdout",
     "output_type": "stream",
     "text": [
      "🚦 Step 1: Out-of-Domain Check\n",
      "✅ Out-of-Domain Result: out_of_domain=False reason=\"มีคำว่า 'แผลถอนฟัน' จึงอยู่ในขอบเขต\"\n",
      "🔍 Step 2: Clarity Check\n",
      "✅ Clarity Result: clarification_needed=False reason='คำถามชัดเจน มีบริบทและหัตถการครบถ้วน'\n",
      "📊 Step 3: Category Classification\n"
     ]
    },
    {
     "name": "stderr",
     "output_type": "stream",
     "text": [
      " 41%|████      | 16/39 [06:21<09:48, 25.58s/it]"
     ]
    },
    {
     "name": "stdout",
     "output_type": "stream",
     "text": [
      "🚦 Step 1: Out-of-Domain Check\n",
      "✅ Out-of-Domain Result: out_of_domain=False reason=\"มีคำว่า 'แผลหลังถอนฟัน' จึงอยู่ในขอบเขต\"\n",
      "🔍 Step 2: Clarity Check\n",
      "✅ Clarity Result: clarification_needed=False reason='คำถามชัดเจน มีบริบทและหัตถการครบถ้วน'\n",
      "📊 Step 3: Category Classification\n"
     ]
    },
    {
     "name": "stderr",
     "output_type": "stream",
     "text": [
      " 44%|████▎     | 17/39 [06:45<09:11, 25.07s/it]"
     ]
    },
    {
     "name": "stdout",
     "output_type": "stream",
     "text": [
      "🚦 Step 1: Out-of-Domain Check\n",
      "✅ Out-of-Domain Result: out_of_domain=False reason='มีคำว่า ท้อย่านป็นตัวย์'\n",
      "🔍 Step 2: Clarity Check\n"
     ]
    },
    {
     "name": "stderr",
     "output_type": "stream",
     "text": [
      " 46%|████▌     | 18/39 [07:00<07:44, 22.13s/it]"
     ]
    },
    {
     "name": "stdout",
     "output_type": "stream",
     "text": [
      "✅ Clarity Result: clarification_needed=True reason='ไม่ระบุประเภทของหัตถการ เช่น ถอนฟันกราม'\n",
      "🚦 Step 1: Out-of-Domain Check\n",
      "✅ Out-of-Domain Result: out_of_domain=False reason=\"มีคำว่า 'แผลผ่าฟันคุด' และ 'แผลหายดี' จึงอยู่ในขอบเขต\"\n",
      "🔍 Step 2: Clarity Check\n",
      "✅ Clarity Result: clarification_needed=False reason='คำถามชัดเจน มีบริบทและหัตถการครบถ้วน'\n",
      "📊 Step 3: Category Classification\n"
     ]
    },
    {
     "name": "stderr",
     "output_type": "stream",
     "text": [
      " 49%|████▊     | 19/39 [07:18<06:54, 20.70s/it]"
     ]
    },
    {
     "name": "stdout",
     "output_type": "stream",
     "text": [
      "🚦 Step 1: Out-of-Domain Check\n",
      "✅ Out-of-Domain Result: out_of_domain=False reason=\"มีคำว่า 'หลังถอนฟัน' และ 'ผ่าฟันคุด' จึงอยู่ในขอบเขต\"\n",
      "🔍 Step 2: Clarity Check\n",
      "✅ Clarity Result: clarification_needed=False reason='คำถามชัดเจน มีบริบทและหัตถการครบถ้วน'\n",
      "📊 Step 3: Category Classification\n"
     ]
    },
    {
     "name": "stderr",
     "output_type": "stream",
     "text": [
      " 51%|█████▏    | 20/39 [07:48<07:29, 23.67s/it]"
     ]
    },
    {
     "name": "stdout",
     "output_type": "stream",
     "text": [
      "🚦 Step 1: Out-of-Domain Check\n",
      "✅ Out-of-Domain Result: out_of_domain=False reason=\"มีคำว่า 'หลังถอนฟัน' จึงอยู่ในขอบเขต\"\n",
      "🔍 Step 2: Clarity Check\n",
      "✅ Clarity Result: clarification_needed=False reason='คำถามชัดเจน มีบริบทและหัตถการครบถ้วน'\n",
      "📊 Step 3: Category Classification\n"
     ]
    },
    {
     "name": "stderr",
     "output_type": "stream",
     "text": [
      " 54%|█████▍    | 21/39 [08:18<07:38, 25.45s/it]"
     ]
    },
    {
     "name": "stdout",
     "output_type": "stream",
     "text": [
      "🚦 Step 1: Out-of-Domain Check\n",
      "✅ Out-of-Domain Result: out_of_domain=False reason='มีคำว่า บ้เป็นตันบัน เป็นอย่างอย่าง ไม่ป็นตันบัน สุฑย่างอย่าง'\n",
      "🔍 Step 2: Clarity Check\n",
      "✅ Clarity Result: clarification_needed=False reason='คำถามชัดเจน มีบริบทและหัตถการครบถ้วน'\n",
      "📊 Step 3: Category Classification\n"
     ]
    },
    {
     "name": "stderr",
     "output_type": "stream",
     "text": [
      " 56%|█████▋    | 22/39 [08:45<07:22, 26.00s/it]"
     ]
    },
    {
     "name": "stdout",
     "output_type": "stream",
     "text": [
      "🚦 Step 1: Out-of-Domain Check\n",
      "✅ Out-of-Domain Result: out_of_domain=False reason=\"มีคำว่า 'ถอนฟัน' และ 'หลอด' จึงอยู่ในขอบเขต\"\n",
      "🔍 Step 2: Clarity Check\n",
      "✅ Clarity Result: clarification_needed=False reason='คำถามชัดเจน มีบริบทและหัตถการครบถ้วน'\n",
      "📊 Step 3: Category Classification\n"
     ]
    },
    {
     "name": "stderr",
     "output_type": "stream",
     "text": [
      " 59%|█████▉    | 23/39 [09:06<06:31, 24.49s/it]"
     ]
    },
    {
     "name": "stdout",
     "output_type": "stream",
     "text": [
      "🚦 Step 1: Out-of-Domain Check\n",
      "✅ Out-of-Domain Result: out_of_domain=False reason='มีคำว่า หล็ดอยป็นตัว เป็นอย่างอย่างเป็นอย่างสัวสถางอย่าง'\n",
      "🔍 Step 2: Clarity Check\n",
      "✅ Clarity Result: clarification_needed=False reason='มีเจตนาถาม มีบริบททางทันตกรรม และระบุประเภทหัตถการ'\n",
      "📊 Step 3: Category Classification\n"
     ]
    },
    {
     "name": "stderr",
     "output_type": "stream",
     "text": [
      " 62%|██████▏   | 24/39 [09:27<05:51, 23.40s/it]"
     ]
    },
    {
     "name": "stdout",
     "output_type": "stream",
     "text": [
      "🚦 Step 1: Out-of-Domain Check\n",
      "✅ Out-of-Domain Result: out_of_domain=False reason='มีคำว่า ยุทนเป็นตัว เป็นตัว บัวอย่างอย่างเป็นตัว'\n",
      "🔍 Step 2: Clarity Check\n",
      "✅ Clarity Result: clarification_needed=False reason='คำถามชัดเจน มีบริบทและหัตถการครบถ้วน'\n",
      "📊 Step 3: Category Classification\n"
     ]
    },
    {
     "name": "stderr",
     "output_type": "stream",
     "text": [
      " 64%|██████▍   | 25/39 [10:01<06:12, 26.64s/it]"
     ]
    },
    {
     "name": "stdout",
     "output_type": "stream",
     "text": [
      "🚦 Step 1: Out-of-Domain Check\n",
      "✅ Out-of-Domain Result: out_of_domain=False reason='มีคำว่า อ่างพันที่อนตัวสถางอย่างพันที่อน ไม่ป็นตัวสถางอย่างพันที่อนตัวสถางอย่างพันที่อนตัวสถางอย่างพันที่อนตัวสถางอย่างพันที่อนตัวสถางอย่างพันที่อนตัวสถางอย่างพันที่อนตัวสถางอย่างพันที่อนตัวสถางอย่างพันที่อนตัวสถางอย่างพันที่อนตัวสถางอย่างพันที'\n",
      "🔍 Step 2: Clarity Check\n",
      "✅ Clarity Result: clarification_needed=False reason='ไม่จำเป็นต้องขอความชัดเจนเพิ่มเติม'\n",
      "📊 Step 3: Category Classification\n"
     ]
    },
    {
     "name": "stderr",
     "output_type": "stream",
     "text": [
      " 67%|██████▋   | 26/39 [10:30<05:55, 27.32s/it]"
     ]
    },
    {
     "name": "stdout",
     "output_type": "stream",
     "text": [
      "🚦 Step 1: Out-of-Domain Check\n",
      "✅ Out-of-Domain Result: out_of_domain=False reason=\"มีคำว่า 'ถอนฟัน' และ 'หลังหัตถการ' จึงอยู่ในขอบเขต\"\n",
      "🔍 Step 2: Clarity Check\n",
      "✅ Clarity Result: clarification_needed=False reason='คำถามชัดเจน มีบริบทและหัตถการครบถ้วน'\n",
      "📊 Step 3: Category Classification\n"
     ]
    },
    {
     "name": "stderr",
     "output_type": "stream",
     "text": [
      " 69%|██████▉   | 27/39 [11:00<05:37, 28.09s/it]"
     ]
    },
    {
     "name": "stdout",
     "output_type": "stream",
     "text": [
      "🚦 Step 1: Out-of-Domain Check\n",
      "✅ Out-of-Domain Result: out_of_domain=False reason='มีคำว่า หันบันบันทันสันทันหันบันทันสันทันหันบันทันสันทันหันบันทันสันทันหันบันทันสันทันหันบันทันสันทันหันบันทันสันทันหันบันทันสันทันหันบันทันสันทันหันบันทันสันทันหันบันทันสันทันหันบันทันสันทันหันบันทันสันทันหันบันทันสันทันหันบันทันสันทันหันบันท'\n",
      "🔍 Step 2: Clarity Check\n",
      "✅ Clarity Result: clarification_needed=False reason='ไม่ต้องการการขยายความเพิ่มเติม'\n",
      "📊 Step 3: Category Classification\n"
     ]
    },
    {
     "name": "stderr",
     "output_type": "stream",
     "text": [
      " 72%|███████▏  | 28/39 [11:24<04:56, 26.92s/it]"
     ]
    },
    {
     "name": "stdout",
     "output_type": "stream",
     "text": [
      "🚦 Step 1: Out-of-Domain Check\n",
      "✅ Out-of-Domain Result: out_of_domain=False reason=\"มีคำว่า 'หลังถอนฟัน' และ 'กินข้าว' จึงอยู่ในขอบเขต\"\n",
      "🔍 Step 2: Clarity Check\n",
      "✅ Clarity Result: clarification_needed=False reason='เจตนาชัดเจน มีบริบทและหัตถการครบ'\n",
      "📊 Step 3: Category Classification\n"
     ]
    },
    {
     "name": "stderr",
     "output_type": "stream",
     "text": [
      " 74%|███████▍  | 29/39 [11:53<04:34, 27.46s/it]"
     ]
    },
    {
     "name": "stdout",
     "output_type": "stream",
     "text": [
      "🚦 Step 1: Out-of-Domain Check\n",
      "✅ Out-of-Domain Result: out_of_domain=False reason=\"มีคำว่า 'หลังถอนฟัน' และ 'เลือดหยุดไหล' จึงอยู่ในขอบเขต\"\n",
      "🔍 Step 2: Clarity Check\n",
      "✅ Clarity Result: clarification_needed=False reason='มีเจตนาถาม มีบริบททางทันตกรรม และระบุประเภทหัตถการ'\n",
      "📊 Step 3: Category Classification\n"
     ]
    },
    {
     "name": "stderr",
     "output_type": "stream",
     "text": [
      " 77%|███████▋  | 30/39 [12:26<04:23, 29.31s/it]"
     ]
    },
    {
     "name": "stdout",
     "output_type": "stream",
     "text": [
      "🚦 Step 1: Out-of-Domain Check\n",
      "✅ Out-of-Domain Result: out_of_domain=False reason=\"มีคำว่า 'หลังถอนฟัน' และ 'กิน' จึงอยู่ในขอบเขต\"\n",
      "🔍 Step 2: Clarity Check\n",
      "✅ Clarity Result: clarification_needed=False reason='มีเจตนาถาม มีบริบททางทันตกรรม และระบุประเภทหัตถการ'\n",
      "📊 Step 3: Category Classification\n"
     ]
    },
    {
     "name": "stderr",
     "output_type": "stream",
     "text": [
      " 79%|███████▉  | 31/39 [12:49<03:38, 27.30s/it]"
     ]
    },
    {
     "name": "stdout",
     "output_type": "stream",
     "text": [
      "🚦 Step 1: Out-of-Domain Check\n",
      "✅ Out-of-Domain Result: out_of_domain=False reason='มีคำว่า อ่างพันตัวสถาง เป็นอย่างอัวสถาง'\n",
      "🔍 Step 2: Clarity Check\n",
      "✅ Clarity Result: clarification_needed=False reason='คำถามชัดเจน มีบริบทและหัตถการครบถ้วน'\n",
      "📊 Step 3: Category Classification\n"
     ]
    },
    {
     "name": "stderr",
     "output_type": "stream",
     "text": [
      " 82%|████████▏ | 32/39 [13:17<03:11, 27.41s/it]"
     ]
    },
    {
     "name": "stdout",
     "output_type": "stream",
     "text": [
      "🚦 Step 1: Out-of-Domain Check\n",
      "✅ Out-of-Domain Result: out_of_domain=False reason='มีคำว่า ย่สพันท่าน'\n",
      "🔍 Step 2: Clarity Check\n",
      "✅ Clarity Result: clarification_needed=False reason='เจตนาชัดเจน มีบริบทและหัตถการครบ'\n",
      "📊 Step 3: Category Classification\n"
     ]
    },
    {
     "name": "stderr",
     "output_type": "stream",
     "text": [
      " 85%|████████▍ | 33/39 [13:53<03:01, 30.19s/it]"
     ]
    },
    {
     "name": "stdout",
     "output_type": "stream",
     "text": [
      "🚦 Step 1: Out-of-Domain Check\n",
      "✅ Out-of-Domain Result: out_of_domain=False reason=\"มีคำว่า 'ถอนฟัน' จึงอยู่ในขอบเขต\"\n",
      "🔍 Step 2: Clarity Check\n",
      "✅ Clarity Result: clarification_needed=False reason='มีเจตนาถาม มีบริบททางทันตกรรม และระบุประเภทหัตถการ'\n",
      "📊 Step 3: Category Classification\n"
     ]
    },
    {
     "name": "stderr",
     "output_type": "stream",
     "text": [
      " 87%|████████▋ | 34/39 [14:23<02:30, 30.13s/it]"
     ]
    },
    {
     "name": "stdout",
     "output_type": "stream",
     "text": [
      "🚦 Step 1: Out-of-Domain Check\n",
      "✅ Out-of-Domain Result: out_of_domain=False reason=\"มีคำว่า 'หลังถอนฟัน' จึงอยู่ในขอบเขต\"\n",
      "🔍 Step 2: Clarity Check\n",
      "✅ Clarity Result: clarification_needed=False reason='คำถามชัดเจน มีบริบทและหัตถการครบถ้วน'\n",
      "📊 Step 3: Category Classification\n"
     ]
    },
    {
     "name": "stderr",
     "output_type": "stream",
     "text": [
      " 90%|████████▉ | 35/39 [14:49<01:55, 28.90s/it]"
     ]
    },
    {
     "name": "stdout",
     "output_type": "stream",
     "text": [
      "🚦 Step 1: Out-of-Domain Check\n",
      "✅ Out-of-Domain Result: out_of_domain=False reason=\"มีคำว่า 'หลังถอนฟัน' จึงอยู่ในขอบเขต\"\n",
      "🔍 Step 2: Clarity Check\n",
      "✅ Clarity Result: clarification_needed=False reason='เจตนาชัดเจน มีบริบทและหัตถการครบ'\n",
      "📊 Step 3: Category Classification\n"
     ]
    },
    {
     "name": "stderr",
     "output_type": "stream",
     "text": [
      " 92%|█████████▏| 36/39 [15:20<01:28, 29.46s/it]"
     ]
    },
    {
     "name": "stdout",
     "output_type": "stream",
     "text": [
      "🚦 Step 1: Out-of-Domain Check\n",
      "✅ Out-of-Domain Result: out_of_domain=False reason=\"มีคำว่า 'หลังถอนฟัน' จึงอยู่ในขอบเขต\"\n",
      "🔍 Step 2: Clarity Check\n",
      "✅ Clarity Result: clarification_needed=False reason='คำถามชัดเจน มีบริบทและหัตถการครบถ้วน'\n",
      "📊 Step 3: Category Classification\n"
     ]
    },
    {
     "name": "stderr",
     "output_type": "stream",
     "text": [
      " 95%|█████████▍| 37/39 [15:51<00:59, 29.75s/it]"
     ]
    },
    {
     "name": "stdout",
     "output_type": "stream",
     "text": [
      "🚦 Step 1: Out-of-Domain Check\n",
      "✅ Out-of-Domain Result: out_of_domain=False reason='มีคำว่า ยางพันตัวนย่างอย่าง เป็นตัวนย่างอย่าง บัวนย่างอย่าง เป็นตัวนย่างอย่าง บัวนย่างอย่าง เป็นตัวนย่างอย่าง บัวนย่างอย่าง เป็นตัวนย่างอย่าง บัวนย่างอย่าง เป็นตัวนย่างอย่าง บัวนย่างอย่าง เป็นตัวนย่างอย่าง บัวนย่างอย่าง เป็นตัวนย่างอย่าง บัวนย่างอย่าง เป็นตั'\n",
      "🔍 Step 2: Clarity Check\n",
      "✅ Clarity Result: clarification_needed=False reason='ไม่จำเป็นต้องมีการขยายความเพิ่มเติม'\n",
      "📊 Step 3: Category Classification\n"
     ]
    },
    {
     "name": "stderr",
     "output_type": "stream",
     "text": [
      " 97%|█████████▋| 38/39 [16:27<00:31, 31.89s/it]"
     ]
    },
    {
     "name": "stdout",
     "output_type": "stream",
     "text": [
      "🚦 Step 1: Out-of-Domain Check\n",
      "✅ Out-of-Domain Result: out_of_domain=False reason=\"มีคำว่า ✅✅✅'หลังถอนฟัน' และ 'น้ำยาบ้วนปาก' จึงอยู่ในขอบเขต\"\n",
      "🔍 Step 2: Clarity Check\n",
      "✅ Clarity Result: clarification_needed=False reason='มีเจตนาถาม มีบริบททางทันตกรรม และระบุประเภทหัตถการ'\n",
      "📊 Step 3: Category Classification\n"
     ]
    },
    {
     "name": "stderr",
     "output_type": "stream",
     "text": [
      "100%|██████████| 39/39 [17:03<00:00, 26.23s/it]\n"
     ]
    }
   ],
   "source": [
    "\n",
    "import pandas as pd\n",
    "from tqdm import tqdm\n",
    "import sys\n",
    "import os\n",
    "\n",
    "sys.path.append(os.path.abspath(\"..\"))\n",
    "\n",
    "df = pd.read_excel(\"question_2categorylevel.xlsx\")\n",
    "df.columns = df.columns.str.strip()\n",
    "results = []\n",
    "\n",
    "for _, row in tqdm(df.iterrows(), total=len(df)):\n",
    "    query = row[\"question\"]\n",
    "    expected_lv1 = row[\"category_level1\"]\n",
    "    expected_lv2 = row[\"category_level2\"]\n",
    "\n",
    "    try:\n",
    "        initial_state = AgentState(user_query=query)\n",
    "        state = graph.invoke(initial_state)\n",
    "        state_obj = AgentState(**state)\n",
    "\n",
    "        # หมวดหมู่ที่ model ทำนาย\n",
    "        if state_obj.classification_result.category_level_1:\n",
    "            predicted_lv1 = state_obj.classification_result.category_level_1[0].category\n",
    "        else:\n",
    "            predicted_lv1 = \"\"\n",
    "\n",
    "        if state_obj.classification_result.category_level_2:\n",
    "            predicted_lv2 = state_obj.classification_result.category_level_2[0].subcategory\n",
    "        else:\n",
    "            predicted_lv2 = \"\"\n",
    "\n",
    "        # เปรียบเทียบกับที่ถูกต้อง\n",
    "        correct_lv1 = predicted_lv1 == expected_lv1\n",
    "        correct_lv2 = predicted_lv2 == expected_lv2\n",
    "\n",
    "        # latency และ token usage\n",
    "        latency = state_obj.latency or {}\n",
    "        total_latency = round(sum(v for k, v in latency.items() if isinstance(v, float)), 3)\n",
    "\n",
    "        results.append({\n",
    "            \"query\": query,\n",
    "            \"expected_lv1\": expected_lv1,\n",
    "            \"predicted_lv1\": predicted_lv1,\n",
    "            \"correct_lv1\": correct_lv1,\n",
    "            \"expected_lv2\": expected_lv2,\n",
    "            \"predicted_lv2\": predicted_lv2,\n",
    "            \"correct_lv2\": correct_lv2,\n",
    "            \"latency_out_of_domain\": latency.get(\"out_of_domain\"),\n",
    "            \"latency_clarification\": latency.get(\"clarification\"),\n",
    "            \"latency_classification\": latency.get(\"classification\"),\n",
    "            \"tokens_out_of_domain\": latency.get(\"tokens_out_of_domain\"),\n",
    "            \"tokens_clarification\": latency.get(\"tokens_clarification\"),\n",
    "            \"tokens_classification\": latency.get(\"tokens_classification\"),\n",
    "            \"total_latency\": total_latency,\n",
    "            \"error\": \"\"\n",
    "        })\n",
    "\n",
    "    except Exception as e:\n",
    "        results.append({\n",
    "            \"query\": query,\n",
    "            \"expected_lv1\": expected_lv1,\n",
    "            \"predicted_lv1\": \"\",\n",
    "            \"correct_lv1\": False,\n",
    "            \"expected_lv2\": expected_lv2,\n",
    "            \"predicted_lv2\": \"\",\n",
    "            \"correct_lv2\": False,\n",
    "            \"latency_out_of_domain\": None,\n",
    "            \"latency_clarification\": None,\n",
    "            \"latency_classification\": None,\n",
    "            \"tokens_out_of_domain\": None,\n",
    "            \"tokens_clarification\": None,\n",
    "            \"tokens_classification\": None,\n",
    "            \"total_latency\": None,\n",
    "            \"error\": str(e)\n",
    "        })"
   ]
  },
  {
   "cell_type": "code",
   "execution_count": null,
   "id": "a2d2632f",
   "metadata": {},
   "outputs": [
    {
     "data": {
      "text/plain": [
       "[{'query': ' ยาชาถอนฟันจะอยู่ได้นานกี่ชั่วโมง?',\n",
       "  'expected_lv1': 'หัตถการ',\n",
       "  'predicted_lv1': 'อาการ/ภาวะแทรกซ้อน',\n",
       "  'correct_lv1': False,\n",
       "  'expected_lv2': 'การใช้ยาชา',\n",
       "  'predicted_lv2': 'wound healing',\n",
       "  'correct_lv2': False,\n",
       "  'error': ''},\n",
       " {'query': 'หลังถอนฟัน อาการผิดปกติแบบไหนที่ควรกลับไปพบทันตแพทย์',\n",
       "  'expected_lv1': 'อาการ/ภาวะแทรกซ้อน',\n",
       "  'predicted_lv1': 'อาการ/ภาวะแทรกซ้อน',\n",
       "  'correct_lv1': True,\n",
       "  'expected_lv2': 'overall',\n",
       "  'predicted_lv2': 'wound healing',\n",
       "  'correct_lv2': False,\n",
       "  'error': ''},\n",
       " {'query': 'ความเสี่ยงและผลกระทบที่เกิดจากการถอนฟัน',\n",
       "  'expected_lv1': 'อาการ/ภาวะแทรกซ้อน',\n",
       "  'predicted_lv1': 'อาการ/ภาวะแทรกซ้อน',\n",
       "  'correct_lv1': True,\n",
       "  'expected_lv2': 'overall',\n",
       "  'predicted_lv2': 'wound healing',\n",
       "  'correct_lv2': False,\n",
       "  'error': ''},\n",
       " {'query': 'สัญญาณของการติดเชื้อหลังถอนฟัน',\n",
       "  'expected_lv1': 'อาการ/ภาวะแทรกซ้อน',\n",
       "  'predicted_lv1': 'อาการ/ภาวะแทรกซ้อน',\n",
       "  'correct_lv1': True,\n",
       "  'expected_lv2': 'overall',\n",
       "  'predicted_lv2': 'wound healing',\n",
       "  'correct_lv2': False,\n",
       "  'error': ''},\n",
       " {'query': 'หลังผ่าเสร็จจะมีอาการอย่างไร ปวดบวมมากน้อยแค่ไหน?',\n",
       "  'expected_lv1': 'อาการ/ภาวะแทรกซ้อน',\n",
       "  'predicted_lv1': 'อาการ/ภาวะแทรกซ้อน',\n",
       "  'correct_lv1': True,\n",
       "  'expected_lv2': 'overall',\n",
       "  'predicted_lv2': 'wound healing',\n",
       "  'correct_lv2': False,\n",
       "  'error': ''},\n",
       " {'query': 'ทำไมถอนฟันแล้วเลือดไหลเยอะมาก',\n",
       "  'expected_lv1': 'อาการ/ภาวะแทรกซ้อน',\n",
       "  'predicted_lv1': 'อาการ/ภาวะแทรกซ้อน',\n",
       "  'correct_lv1': True,\n",
       "  'expected_lv2': 'bleeding',\n",
       "  'predicted_lv2': 'wound healing',\n",
       "  'correct_lv2': False,\n",
       "  'error': ''},\n",
       " {'query': 'ถอนฟันเลือดไหลกี่ชั่วโมง ถ้าเลือดไหลไม่หยุด ทำอย่างไรดี?',\n",
       "  'expected_lv1': 'อาการ/ภาวะแทรกซ้อน',\n",
       "  'predicted_lv1': 'อาการ/ภาวะแทรกซ้อน',\n",
       "  'correct_lv1': True,\n",
       "  'expected_lv2': 'bleeding',\n",
       "  'predicted_lv2': 'wound healing',\n",
       "  'correct_lv2': False,\n",
       "  'error': ''},\n",
       " {'query': 'ถอนฟันแล้วเลือดไหลไม่หยุด อันตรายไหม',\n",
       "  'expected_lv1': 'อาการ/ภาวะแทรกซ้อน',\n",
       "  'predicted_lv1': 'อาการ/ภาวะแทรกซ้อน',\n",
       "  'correct_lv1': True,\n",
       "  'expected_lv2': 'bleeding',\n",
       "  'predicted_lv2': 'wound healing',\n",
       "  'correct_lv2': False,\n",
       "  'error': ''},\n",
       " {'query': 'วิธีห้ามเลือดหลังถอนฟัน',\n",
       "  'expected_lv1': 'อาการ/ภาวะแทรกซ้อน',\n",
       "  'predicted_lv1': 'อาการ/ภาวะแทรกซ้อน',\n",
       "  'correct_lv1': True,\n",
       "  'expected_lv2': 'bleeding',\n",
       "  'predicted_lv2': 'wound healing',\n",
       "  'correct_lv2': False,\n",
       "  'error': ''},\n",
       " {'query': 'ถอนฟันแล้วอมน้ำแข็งเพื่อให้เลือดหยุดไหลได้จริงหรือไม่ ',\n",
       "  'expected_lv1': 'อาการ/ภาวะแทรกซ้อน',\n",
       "  'predicted_lv1': 'อาการ/ภาวะแทรกซ้อน',\n",
       "  'correct_lv1': True,\n",
       "  'expected_lv2': 'bleeding',\n",
       "  'predicted_lv2': 'wound healing',\n",
       "  'correct_lv2': False,\n",
       "  'error': ''},\n",
       " {'query': 'ถอนฟันกรามกี่วันหายปวด',\n",
       "  'expected_lv1': 'อาการ/ภาวะแทรกซ้อน',\n",
       "  'predicted_lv1': 'อาการ/ภาวะแทรกซ้อน',\n",
       "  'correct_lv1': True,\n",
       "  'expected_lv2': 'pain',\n",
       "  'predicted_lv2': 'wound healing',\n",
       "  'correct_lv2': False,\n",
       "  'error': ''},\n",
       " {'query': 'ฉันควรทำอย่างไรหากรู้สึกปวดอย่างต่อเนื่อง',\n",
       "  'expected_lv1': 'อาการ/ภาวะแทรกซ้อน',\n",
       "  'predicted_lv1': 'อาการ/ภาวะแทรกซ้อน',\n",
       "  'correct_lv1': True,\n",
       "  'expected_lv2': 'pain',\n",
       "  'predicted_lv2': 'wound healing',\n",
       "  'correct_lv2': False,\n",
       "  'error': ''},\n",
       " {'query': 'วิธีบรรเทาอาการปวดหลังถอนฟัน',\n",
       "  'expected_lv1': 'อาการ/ภาวะแทรกซ้อน',\n",
       "  'predicted_lv1': 'อาการ/ภาวะแทรกซ้อน',\n",
       "  'correct_lv1': True,\n",
       "  'expected_lv2': 'pain',\n",
       "  'predicted_lv2': 'wound healing',\n",
       "  'correct_lv2': False,\n",
       "  'error': ''},\n",
       " {'query': 'วิธีแก้ปวดหลังถอนฟัน',\n",
       "  'expected_lv1': 'อาการ/ภาวะแทรกซ้อน',\n",
       "  'predicted_lv1': 'อาการ/ภาวะแทรกซ้อน',\n",
       "  'correct_lv1': True,\n",
       "  'expected_lv2': 'pain',\n",
       "  'predicted_lv2': 'wound healing',\n",
       "  'correct_lv2': False,\n",
       "  'error': ''},\n",
       " {'query': 'ผ่าฟันคุด หรือถอนฟันแล้ว ยังคงมีอาการปวดมากไม่หาย กินยาแก้ปวดก็ไม่หาย ซึ่งถ้าเป็นอาการของ กระดูกเบ้าฟันอักเสบ (Dry socket) จะต้องทำอย่างไร?',\n",
       "  'expected_lv1': 'อาการ/ภาวะแทรกซ้อน',\n",
       "  'predicted_lv1': 'อาการ/ภาวะแทรกซ้อน',\n",
       "  'correct_lv1': True,\n",
       "  'expected_lv2': 'pain',\n",
       "  'predicted_lv2': 'wound healing',\n",
       "  'correct_lv2': False,\n",
       "  'error': ''},\n",
       " {'query': 'แผลถอนฟันจะหายสนิทในเวลากี่วัน?',\n",
       "  'expected_lv1': 'อาการ/ภาวะแทรกซ้อน',\n",
       "  'predicted_lv1': 'อาการ/ภาวะแทรกซ้อน',\n",
       "  'correct_lv1': True,\n",
       "  'expected_lv2': 'wound healing',\n",
       "  'predicted_lv2': 'wound healing',\n",
       "  'correct_lv2': True,\n",
       "  'error': ''},\n",
       " {'query': 'แผลหลังถอนฟันหายนานแค่ไหน',\n",
       "  'expected_lv1': 'อาการ/ภาวะแทรกซ้อน',\n",
       "  'predicted_lv1': 'อาการ/ภาวะแทรกซ้อน',\n",
       "  'correct_lv1': True,\n",
       "  'expected_lv2': 'wound healing',\n",
       "  'predicted_lv2': 'wound healing',\n",
       "  'correct_lv2': True,\n",
       "  'error': ''},\n",
       " {'query': 'ถอนฟันกรามกี่วันหาย?',\n",
       "  'expected_lv1': 'อาการ/ภาวะแทรกซ้อน',\n",
       "  'predicted_lv1': 'อาการ/ภาวะแทรกซ้อน',\n",
       "  'correct_lv1': True,\n",
       "  'expected_lv2': 'wound healing',\n",
       "  'predicted_lv2': 'wound healing',\n",
       "  'correct_lv2': True,\n",
       "  'error': ''},\n",
       " {'query': 'ถ้าเป็นแผลผ่าฟันคุดต้องใช้เวลานานแค่ไหน กว่าแผลจะหายดี?',\n",
       "  'expected_lv1': 'อาการ/ภาวะแทรกซ้อน',\n",
       "  'predicted_lv1': 'อาการ/ภาวะแทรกซ้อน',\n",
       "  'correct_lv1': True,\n",
       "  'expected_lv2': 'wound healing',\n",
       "  'predicted_lv2': 'wound healing',\n",
       "  'correct_lv2': True,\n",
       "  'error': ''},\n",
       " {'query': 'หลังถอนฟันหรือผ่าฟันคุด ควรปฏิบัติตัวอย่างไร?',\n",
       "  'expected_lv1': 'การปฏิบัติตัวหลังทำหัตถการ',\n",
       "  'predicted_lv1': 'อาการ/ภาวะแทรกซ้อน',\n",
       "  'correct_lv1': False,\n",
       "  'expected_lv2': 'overall',\n",
       "  'predicted_lv2': 'wound healing',\n",
       "  'correct_lv2': False,\n",
       "  'error': ''},\n",
       " {'query': 'หลังถอนฟัน ควรปฏิบัติตัวอย่างไร?',\n",
       "  'expected_lv1': 'การปฏิบัติตัวหลังทำหัตถการ',\n",
       "  'predicted_lv1': 'อาการ/ภาวะแทรกซ้อน',\n",
       "  'correct_lv1': False,\n",
       "  'expected_lv2': 'overall',\n",
       "  'predicted_lv2': 'wound healing',\n",
       "  'correct_lv2': False,\n",
       "  'error': ''},\n",
       " {'query': 'ทำอย่างไรให้แผลถอนฟันหายเร็วขึ้น',\n",
       "  'expected_lv1': 'การปฏิบัติตัวหลังทำหัตถการ',\n",
       "  'predicted_lv1': 'อาการ/ภาวะแทรกซ้อน',\n",
       "  'correct_lv1': False,\n",
       "  'expected_lv2': 'overall',\n",
       "  'predicted_lv2': 'wound healing',\n",
       "  'correct_lv2': False,\n",
       "  'error': ''},\n",
       " {'query': 'ถอนฟันห้ามใช้หลอดกี่วัน?',\n",
       "  'expected_lv1': 'การปฏิบัติตัวหลังทำหัตถการ',\n",
       "  'predicted_lv1': 'อาการ/ภาวะแทรกซ้อน',\n",
       "  'correct_lv1': False,\n",
       "  'expected_lv2': 'drinking straw',\n",
       "  'predicted_lv2': 'wound healing',\n",
       "  'correct_lv2': False,\n",
       "  'error': ''},\n",
       " {'query': 'หลังการถอนฟันฉันสามารถดื่มน้ำด้วยหลอดได้หรือไม่',\n",
       "  'expected_lv1': 'การปฏิบัติตัวหลังทำหัตถการ',\n",
       "  'predicted_lv1': 'อาการ/ภาวะแทรกซ้อน',\n",
       "  'correct_lv1': False,\n",
       "  'expected_lv2': 'drinking straw',\n",
       "  'predicted_lv2': 'wound healing',\n",
       "  'correct_lv2': False,\n",
       "  'error': ''},\n",
       " {'query': 'สามารถใช้หลอดดื่มหลังถอนฟันได้หรือไม่',\n",
       "  'expected_lv1': 'การปฏิบัติตัวหลังทำหัตถการ',\n",
       "  'predicted_lv1': 'อาการ/ภาวะแทรกซ้อน',\n",
       "  'correct_lv1': False,\n",
       "  'expected_lv2': 'drinking straw',\n",
       "  'predicted_lv2': 'wound healing',\n",
       "  'correct_lv2': False,\n",
       "  'error': ''},\n",
       " {'query': 'ทำไมหลังถอนฟันแล้วดื่มน้ำโดยการใช้หลอดดูดน้ำไม่ได้',\n",
       "  'expected_lv1': 'การปฏิบัติตัวหลังทำหัตถการ',\n",
       "  'predicted_lv1': 'อาการ/ภาวะแทรกซ้อน',\n",
       "  'correct_lv1': False,\n",
       "  'expected_lv2': 'drinking straw',\n",
       "  'predicted_lv2': 'wound healing',\n",
       "  'correct_lv2': False,\n",
       "  'error': ''},\n",
       " {'query': 'ถอนฟันกินเหล้าได้ไหม?',\n",
       "  'expected_lv1': 'การปฏิบัติตัวหลังทำหัตถการ',\n",
       "  'predicted_lv1': 'อาการ/ภาวะแทรกซ้อน',\n",
       "  'correct_lv1': False,\n",
       "  'expected_lv2': 'alcohol',\n",
       "  'predicted_lv2': 'wound healing',\n",
       "  'correct_lv2': False,\n",
       "  'error': ''},\n",
       " {'query': 'ทำไมต้องงดออกกำลังกาย หลังการถอนฟัน  ',\n",
       "  'expected_lv1': 'การปฏิบัติตัวหลังทำหัตถการ',\n",
       "  'predicted_lv1': 'อาการ/ภาวะแทรกซ้อน',\n",
       "  'correct_lv1': False,\n",
       "  'expected_lv2': 'workout',\n",
       "  'predicted_lv2': 'wound healing',\n",
       "  'correct_lv2': False,\n",
       "  'error': ''},\n",
       " {'query': 'หลังถอนฟันกินข้าวได้ตอนไหน?',\n",
       "  'expected_lv1': 'การปฏิบัติตัวหลังทำหัตถการ',\n",
       "  'predicted_lv1': 'อาการ/ภาวะแทรกซ้อน',\n",
       "  'correct_lv1': False,\n",
       "  'expected_lv2': 'food',\n",
       "  'predicted_lv2': 'wound healing',\n",
       "  'correct_lv2': False,\n",
       "  'error': ''},\n",
       " {'query': 'หลังถอนฟัน ถ้าเลือดหยุดไหลแล้ว สามารถกินข้าวได้เลยมั้ย',\n",
       "  'expected_lv1': 'การปฏิบัติตัวหลังทำหัตถการ',\n",
       "  'predicted_lv1': 'อาการ/ภาวะแทรกซ้อน',\n",
       "  'correct_lv1': False,\n",
       "  'expected_lv2': 'food',\n",
       "  'predicted_lv2': 'wound healing',\n",
       "  'correct_lv2': False,\n",
       "  'error': ''},\n",
       " {'query': 'หลังถอนฟันสามารถกินอะไรได้บ้าง',\n",
       "  'expected_lv1': 'การปฏิบัติตัวหลังทำหัตถการ',\n",
       "  'predicted_lv1': 'อาการ/ภาวะแทรกซ้อน',\n",
       "  'correct_lv1': False,\n",
       "  'expected_lv2': 'food',\n",
       "  'predicted_lv2': 'wound healing',\n",
       "  'correct_lv2': False,\n",
       "  'error': ''},\n",
       " {'query': 'อาหารอ่อนที่ดีต่อการฟื้นตัวหลังการถอนฟัน',\n",
       "  'expected_lv1': 'การปฏิบัติตัวหลังทำหัตถการ',\n",
       "  'predicted_lv1': 'อาการ/ภาวะแทรกซ้อน',\n",
       "  'correct_lv1': False,\n",
       "  'expected_lv2': 'food',\n",
       "  'predicted_lv2': 'wound healing',\n",
       "  'correct_lv2': False,\n",
       "  'error': ''},\n",
       " {'query': 'อาหารที่ทานได้ทันทีหลังการถอนฟัน',\n",
       "  'expected_lv1': 'การปฏิบัติตัวหลังทำหัตถการ',\n",
       "  'predicted_lv1': 'อาการ/ภาวะแทรกซ้อน',\n",
       "  'correct_lv1': False,\n",
       "  'expected_lv2': 'food',\n",
       "  'predicted_lv2': 'wound healing',\n",
       "  'correct_lv2': False,\n",
       "  'error': ''},\n",
       " {'query': 'ถอนฟัน ห้ามกินอะไร?',\n",
       "  'expected_lv1': 'การปฏิบัติตัวหลังทำหัตถการ',\n",
       "  'predicted_lv1': 'อาการ/ภาวะแทรกซ้อน',\n",
       "  'correct_lv1': False,\n",
       "  'expected_lv2': 'food',\n",
       "  'predicted_lv2': 'wound healing',\n",
       "  'correct_lv2': False,\n",
       "  'error': ''},\n",
       " {'query': 'ห้ามกินอะไรหลังถอนฟันบ้าง\\xa0\\xa0',\n",
       "  'expected_lv1': 'การปฏิบัติตัวหลังทำหัตถการ',\n",
       "  'predicted_lv1': 'อาการ/ภาวะแทรกซ้อน',\n",
       "  'correct_lv1': False,\n",
       "  'expected_lv2': 'food',\n",
       "  'predicted_lv2': 'wound healing',\n",
       "  'correct_lv2': False,\n",
       "  'error': ''},\n",
       " {'query': 'หลังถอนฟันควรหลีกเลี่ยงการกินอะไรบ้าง',\n",
       "  'expected_lv1': 'การปฏิบัติตัวหลังทำหัตถการ',\n",
       "  'predicted_lv1': 'อาการ/ภาวะแทรกซ้อน',\n",
       "  'correct_lv1': False,\n",
       "  'expected_lv2': 'food',\n",
       "  'predicted_lv2': 'wound healing',\n",
       "  'correct_lv2': False,\n",
       "  'error': ''},\n",
       " {'query': 'หลังถอนฟันห้ามกินไข่ จริงหรือ?',\n",
       "  'expected_lv1': 'การปฏิบัติตัวหลังทำหัตถการ',\n",
       "  'predicted_lv1': 'อาการ/ภาวะแทรกซ้อน',\n",
       "  'correct_lv1': False,\n",
       "  'expected_lv2': 'food',\n",
       "  'predicted_lv2': 'wound healing',\n",
       "  'correct_lv2': False,\n",
       "  'error': ''},\n",
       " {'query': 'ฉันสามารถรับประทานอาหารที่แข็งหลังการถอนฟันได้ทันทีหรือไม่',\n",
       "  'expected_lv1': 'การปฏิบัติตัวหลังทำหัตถการ',\n",
       "  'predicted_lv1': 'อาการ/ภาวะแทรกซ้อน',\n",
       "  'correct_lv1': False,\n",
       "  'expected_lv2': 'food',\n",
       "  'predicted_lv2': 'wound healing',\n",
       "  'correct_lv2': False,\n",
       "  'error': ''},\n",
       " {'query': 'หลังถอนฟันแล้ว ใช้น้ำยาบ้วนปากได้มั้ย',\n",
       "  'expected_lv1': 'การปฏิบัติตัวหลังทำหัตถการ',\n",
       "  'predicted_lv1': 'อาการ/ภาวะแทรกซ้อน',\n",
       "  'correct_lv1': False,\n",
       "  'expected_lv2': 'oral hygiene',\n",
       "  'predicted_lv2': 'wound healing',\n",
       "  'correct_lv2': False,\n",
       "  'error': ''}]"
      ]
     },
     "execution_count": 25,
     "metadata": {},
     "output_type": "execute_result"
    }
   ],
   "source": [
    "results"
   ]
  },
  {
   "cell_type": "code",
   "execution_count": 3,
   "id": "a58eb9ab",
   "metadata": {},
   "outputs": [],
   "source": [
    "import pandas as pd\n",
    "\n",
    "# สมมุติว่า results เป็น list ของ dictionary\n",
    "results_df4 = pd.DataFrame(results)\n",
    "\n",
    "# แล้วค่อยบันทึกเป็น Excel\n",
    "results_df4.to_excel(\"results4.xlsx\", index=False)\n",
    "\n"
   ]
  },
  {
   "cell_type": "code",
   "execution_count": 20,
   "id": "6bbe9792",
   "metadata": {},
   "outputs": [],
   "source": [
    "import pandas as pd\n",
    "\n",
    "# สมมุติว่า results เป็น list ของ dictionary\n",
    "results_df = pd.DataFrame(results)\n",
    "\n",
    "# แล้วค่อยบันทึกเป็น Excel\n",
    "results_df.to_excel(\"results.xlsx\", index=False)\n",
    "\n"
   ]
  },
  {
   "cell_type": "code",
   "execution_count": 12,
   "id": "18bb8aba",
   "metadata": {},
   "outputs": [
    {
     "name": "stdout",
     "output_type": "stream",
     "text": [
      "['category_level1', 'category_level2', 'question']\n"
     ]
    }
   ],
   "source": [
    "print(df.columns.tolist())\n"
   ]
  },
  {
   "cell_type": "code",
   "execution_count": 18,
   "id": "9f733049",
   "metadata": {},
   "outputs": [
    {
     "name": "stderr",
     "output_type": "stream",
     "text": [
      "  0%|          | 0/15 [00:00<?, ?it/s]"
     ]
    },
    {
     "name": "stdout",
     "output_type": "stream",
     "text": [
      "🚦 Step 1: Out-of-Domain Check\n"
     ]
    },
    {
     "name": "stderr",
     "output_type": "stream",
     "text": [
      "  7%|▋         | 1/15 [00:02<00:29,  2.08s/it]"
     ]
    },
    {
     "name": "stdout",
     "output_type": "stream",
     "text": [
      "✅ Out-of-Domain Result: out_of_domain=True reason='ไม่พบคำที่เกี่ยวข้องกับทันตกรรมหรือบริบทหลังการรักษา'\n",
      "🚦 Step 1: Out-of-Domain Check\n",
      "✅ Out-of-Domain Result: out_of_domain=False reason='มีคำว่า อย่างอย่างเป็นย์'\n",
      "🔍 Step 2: Clarity Check\n"
     ]
    },
    {
     "name": "stderr",
     "output_type": "stream",
     "text": [
      " 13%|█▎        | 2/15 [00:23<02:55, 13.47s/it]"
     ]
    },
    {
     "name": "stdout",
     "output_type": "stream",
     "text": [
      "🚦 Step 1: Out-of-Domain Check\n"
     ]
    },
    {
     "name": "stderr",
     "output_type": "stream",
     "text": [
      " 20%|██        | 3/15 [00:26<01:43,  8.64s/it]"
     ]
    },
    {
     "name": "stdout",
     "output_type": "stream",
     "text": [
      "✅ Out-of-Domain Result: out_of_domain=True reason='ไม่เกี่ยวข้องกับการดูแลหลังหัตถการ'\n",
      "🚦 Step 1: Out-of-Domain Check\n",
      "✅ Out-of-Domain Result: out_of_domain=False reason=\"มีคำว่า 'บวม' จึงอยู่ในขอบเขต\"\n",
      "🔍 Step 2: Clarity Check\n"
     ]
    },
    {
     "name": "stderr",
     "output_type": "stream",
     "text": [
      " 27%|██▋       | 4/15 [00:47<02:30, 13.65s/it]"
     ]
    },
    {
     "name": "stdout",
     "output_type": "stream",
     "text": [
      "🚦 Step 1: Out-of-Domain Check\n",
      "✅ Out-of-Domain Result: out_of_domain=False reason='มีคำว่า ผังตับ'\n",
      "🔍 Step 2: Clarity Check\n"
     ]
    },
    {
     "name": "stderr",
     "output_type": "stream",
     "text": [
      " 33%|███▎      | 5/15 [00:58<02:07, 12.75s/it]"
     ]
    },
    {
     "name": "stdout",
     "output_type": "stream",
     "text": [
      "🚦 Step 1: Out-of-Domain Check\n",
      "✅ Out-of-Domain Result: out_of_domain=False reason=\"มีคำว่า 'ยาชา' จึงอยู่ในขอบเขต\"\n",
      "🔍 Step 2: Clarity Check\n",
      "📊 Step 3: Category Classification\n"
     ]
    },
    {
     "name": "stderr",
     "output_type": "stream",
     "text": [
      " 40%|████      | 6/15 [01:15<02:07, 14.13s/it]"
     ]
    },
    {
     "name": "stdout",
     "output_type": "stream",
     "text": [
      "🚦 Step 1: Out-of-Domain Check\n"
     ]
    },
    {
     "name": "stderr",
     "output_type": "stream",
     "text": [
      " 47%|████▋     | 7/15 [01:26<01:44, 13.06s/it]"
     ]
    },
    {
     "name": "stdout",
     "output_type": "stream",
     "text": [
      "✅ Out-of-Domain Result: out_of_domain=True reason='ไม่เกี่ยวข้องกับการดูแลหลังหัตถการ'\n",
      "🚦 Step 1: Out-of-Domain Check\n"
     ]
    },
    {
     "name": "stderr",
     "output_type": "stream",
     "text": [
      " 53%|█████▎    | 8/15 [01:29<01:09,  9.91s/it]"
     ]
    },
    {
     "name": "stdout",
     "output_type": "stream",
     "text": [
      "✅ Out-of-Domain Result: out_of_domain=True reason='ไม่มีคำที่เกี่ยวข้องกับทันตกรรมหรือบริบทหลังการรักษา'\n",
      "🚦 Step 1: Out-of-Domain Check\n"
     ]
    },
    {
     "name": "stderr",
     "output_type": "stream",
     "text": [
      " 60%|██████    | 9/15 [01:41<01:03, 10.57s/it]"
     ]
    },
    {
     "name": "stdout",
     "output_type": "stream",
     "text": [
      "✅ Out-of-Domain Result: out_of_domain=True reason='ไม่เกี่ยวข้องกับการดูแลหลังหัตถการทางทันตกรรม'\n",
      "🚦 Step 1: Out-of-Domain Check\n",
      "✅ Out-of-Domain Result: out_of_domain=False reason=\"มีคำว่า 'หลังถอนฟัน' และ 'ใช'' จึงอยู่ในขอบเขต\"\n",
      "🔍 Step 2: Clarity Check\n",
      "📊 Step 3: Category Classification\n"
     ]
    },
    {
     "name": "stderr",
     "output_type": "stream",
     "text": [
      " 67%|██████▋   | 10/15 [02:03<01:10, 14.07s/it]"
     ]
    },
    {
     "name": "stdout",
     "output_type": "stream",
     "text": [
      "🚦 Step 1: Out-of-Domain Check\n",
      "✅ Out-of-Domain Result: out_of_domain=False reason=\"มีคำว่า 'ยาชา' จึงอยู่ในขอบเขต\"\n",
      "🔍 Step 2: Clarity Check\n"
     ]
    },
    {
     "name": "stderr",
     "output_type": "stream",
     "text": [
      " 73%|███████▎  | 11/15 [02:17<00:55, 14.00s/it]"
     ]
    },
    {
     "name": "stdout",
     "output_type": "stream",
     "text": [
      "🚦 Step 1: Out-of-Domain Check\n"
     ]
    },
    {
     "name": "stderr",
     "output_type": "stream",
     "text": [
      " 80%|████████  | 12/15 [02:32<00:42, 14.19s/it]"
     ]
    },
    {
     "name": "stdout",
     "output_type": "stream",
     "text": [
      "✅ Out-of-Domain Result: out_of_domain=True reason='ไม่เกี่ยวข้องกับทันตกรรม'\n",
      "🚦 Step 1: Out-of-Domain Check\n"
     ]
    },
    {
     "name": "stderr",
     "output_type": "stream",
     "text": [
      " 87%|████████▋ | 13/15 [02:38<00:23, 11.86s/it]"
     ]
    },
    {
     "name": "stdout",
     "output_type": "stream",
     "text": [
      "✅ Out-of-Domain Result: out_of_domain=True reason='ไม่เกี่ยวข้องกับทันตกรรม'\n",
      "🚦 Step 1: Out-of-Domain Check\n"
     ]
    },
    {
     "name": "stderr",
     "output_type": "stream",
     "text": [
      " 93%|█████████▎| 14/15 [02:50<00:11, 11.74s/it]"
     ]
    },
    {
     "name": "stdout",
     "output_type": "stream",
     "text": [
      "✅ Out-of-Domain Result: out_of_domain=True reason='ไม่พบคำที่เกี่ยวข้องกับทันตกรรมหรือบริบทหลังการรักษา'\n",
      "🚦 Step 1: Out-of-Domain Check\n"
     ]
    },
    {
     "name": "stderr",
     "output_type": "stream",
     "text": [
      "100%|██████████| 15/15 [02:57<00:00, 11.85s/it]"
     ]
    },
    {
     "name": "stdout",
     "output_type": "stream",
     "text": [
      "✅ Out-of-Domain Result: out_of_domain=True reason='ไม่มีบริบทเกี่ยวกับการดูแลหลังหัตถการ'\n"
     ]
    },
    {
     "name": "stderr",
     "output_type": "stream",
     "text": [
      "\n"
     ]
    }
   ],
   "source": [
    "from tqdm import tqdm\n",
    "import pandas as pd\n",
    "\n",
    "df = pd.read_excel(\"question_clari_test.xlsx\")\n",
    "df.columns = df.columns.str.strip()\n",
    "df[\"clarification_needed_expected\"] = True\n",
    "results_clari = []\n",
    "\n",
    "for _, row in tqdm(df.iterrows(), total=len(df)):\n",
    "    query = row[\"question\"]\n",
    "    expected_clarification = row[\"clarification_needed_expected\"]\n",
    "\n",
    "    try:\n",
    "        initial_state = AgentState(user_query=query)\n",
    "        state = graph.invoke(initial_state)\n",
    "        state_obj = AgentState(**state)\n",
    "\n",
    "        # ✅ ดึงผลลัพธ์จาก state\n",
    "        predicted_clarification = getattr(state_obj.classification_result, \"clarification_needed\", None)\n",
    "        clarification_reason = getattr(state_obj.classification_result, \"clarification_reason\", \"\")\n",
    "        out_of_domain = getattr(state_obj.classification_result, \"out_of_domain\", None)\n",
    "        out_of_domain_reason = getattr(state_obj.classification_result, \"out_of_domain_reason\", \"\")\n",
    "\n",
    "        correct_clarification = predicted_clarification == expected_clarification\n",
    "\n",
    "        latency = state_obj.latency or {}\n",
    "        total_latency = round(sum(v for k, v in latency.items() if isinstance(v, float)), 3)\n",
    "\n",
    "        # ✅ เพิ่ม note เฉพาะกรณี out_of_domain=True\n",
    "        note = \"\"\n",
    "        if out_of_domain is True:\n",
    "            note = f\"out_of_domain = True, reason: {out_of_domain_reason}\"\n",
    "\n",
    "        results_clari.append({\n",
    "            \"query\": query,\n",
    "            \"expected_clarification\": expected_clarification,\n",
    "            \"predicted_clarification\": predicted_clarification,\n",
    "            \"correct_clarification\": correct_clarification,\n",
    "            \"clarification_reason\": clarification_reason,\n",
    "            \"latency_clarification\": latency.get(\"clarification\"),\n",
    "            \"tokens_clarification\": latency.get(\"tokens_clarification\"),\n",
    "            \"total_latency\": total_latency,\n",
    "            \"note\": note,\n",
    "            \"error\": \"\"\n",
    "        })\n",
    "\n",
    "    except Exception as e:\n",
    "        results_clari.append({\n",
    "            \"query\": query,\n",
    "            \"expected_clarification\": expected_clarification,\n",
    "            \"predicted_clarification\": \"\",\n",
    "            \"correct_clarification\": False,\n",
    "            \"clarification_reason\": \"\",\n",
    "            \"latency_clarification\": None,\n",
    "            \"tokens_clarification\": None,\n",
    "            \"total_latency\": None,\n",
    "            \"note\": \"\",\n",
    "            \"error\": str(e)\n",
    "        })\n"
   ]
  },
  {
   "cell_type": "code",
   "execution_count": 15,
   "id": "2a64d8b0",
   "metadata": {},
   "outputs": [
    {
     "data": {
      "text/plain": [
       "[{'query': 'ต้องพักกี่วันถึงจะหายดี',\n",
       "  'expected_clarification': True,\n",
       "  'predicted_clarification': None,\n",
       "  'correct_clarification': False,\n",
       "  'clarification_reason': '',\n",
       "  'latency_clarification': None,\n",
       "  'tokens_clarification': None,\n",
       "  'total_latency': 24.04,\n",
       "  'note': 'out_of_domain = True, reason: ',\n",
       "  'error': ''},\n",
       " {'query': 'ยังมีเลือดซึมอยู่นิดหน่อย',\n",
       "  'expected_clarification': True,\n",
       "  'predicted_clarification': True,\n",
       "  'correct_clarification': True,\n",
       "  'clarification_reason': '',\n",
       "  'latency_clarification': 9.536,\n",
       "  'tokens_clarification': 26.0,\n",
       "  'total_latency': 74.97,\n",
       "  'note': '',\n",
       "  'error': ''},\n",
       " {'query': 'กินเผ็ดได้ไหมคะ',\n",
       "  'expected_clarification': True,\n",
       "  'predicted_clarification': None,\n",
       "  'correct_clarification': False,\n",
       "  'clarification_reason': '',\n",
       "  'latency_clarification': None,\n",
       "  'tokens_clarification': None,\n",
       "  'total_latency': 17.241,\n",
       "  'note': 'out_of_domain = True, reason: ',\n",
       "  'error': ''},\n",
       " {'query': 'ทำไมยังบวมอยู่',\n",
       "  'expected_clarification': True,\n",
       "  'predicted_clarification': True,\n",
       "  'correct_clarification': True,\n",
       "  'clarification_reason': '',\n",
       "  'latency_clarification': 2.305,\n",
       "  'tokens_clarification': 13.0,\n",
       "  'total_latency': 37.036,\n",
       "  'note': '',\n",
       "  'error': ''},\n",
       " {'query': 'ยังปวดตุบ ๆ อยู่เลย',\n",
       "  'expected_clarification': True,\n",
       "  'predicted_clarification': True,\n",
       "  'correct_clarification': True,\n",
       "  'clarification_reason': '',\n",
       "  'latency_clarification': 12.094,\n",
       "  'tokens_clarification': 20.0,\n",
       "  'total_latency': 64.516,\n",
       "  'note': '',\n",
       "  'error': ''},\n",
       " {'query': 'ยาชาหมดฤทธิ์กี่โมงคะ',\n",
       "  'expected_clarification': True,\n",
       "  'predicted_clarification': False,\n",
       "  'correct_clarification': False,\n",
       "  'clarification_reason': '',\n",
       "  'latency_clarification': 11.928,\n",
       "  'tokens_clarification': 22.0,\n",
       "  'total_latency': 87.726,\n",
       "  'note': '',\n",
       "  'error': ''},\n",
       " {'query': 'ออกกำลังกายได้หรือยัง',\n",
       "  'expected_clarification': True,\n",
       "  'predicted_clarification': None,\n",
       "  'correct_clarification': False,\n",
       "  'clarification_reason': '',\n",
       "  'latency_clarification': None,\n",
       "  'tokens_clarification': None,\n",
       "  'total_latency': 30.47,\n",
       "  'note': 'out_of_domain = True, reason: ',\n",
       "  'error': ''},\n",
       " {'query': 'ต้องทำยังไงดีคะ',\n",
       "  'expected_clarification': True,\n",
       "  'predicted_clarification': None,\n",
       "  'correct_clarification': False,\n",
       "  'clarification_reason': '',\n",
       "  'latency_clarification': None,\n",
       "  'tokens_clarification': None,\n",
       "  'total_latency': 21.009,\n",
       "  'note': 'out_of_domain = True, reason: ',\n",
       "  'error': ''},\n",
       " {'query': 'ยังเคี้ยวข้าวไม่ได้เลย',\n",
       "  'expected_clarification': True,\n",
       "  'predicted_clarification': None,\n",
       "  'correct_clarification': False,\n",
       "  'clarification_reason': '',\n",
       "  'latency_clarification': None,\n",
       "  'tokens_clarification': None,\n",
       "  'total_latency': 24.022,\n",
       "  'note': 'out_of_domain = True, reason: ',\n",
       "  'error': ''},\n",
       " {'query': 'ใช้หลอดดูดน้ำได้ไหม',\n",
       "  'expected_clarification': True,\n",
       "  'predicted_clarification': False,\n",
       "  'correct_clarification': False,\n",
       "  'clarification_reason': '',\n",
       "  'latency_clarification': 6.384,\n",
       "  'tokens_clarification': 19.0,\n",
       "  'total_latency': 76.159,\n",
       "  'note': '',\n",
       "  'error': ''},\n",
       " {'query': 'เมื่อไหร่ยาจะหมดฤทธิ์',\n",
       "  'expected_clarification': True,\n",
       "  'predicted_clarification': True,\n",
       "  'correct_clarification': True,\n",
       "  'clarification_reason': '',\n",
       "  'latency_clarification': 19.974,\n",
       "  'tokens_clarification': 22.0,\n",
       "  'total_latency': 68.067,\n",
       "  'note': '',\n",
       "  'error': ''},\n",
       " {'query': 'นอนหมอนสูงดีไหม',\n",
       "  'expected_clarification': True,\n",
       "  'predicted_clarification': None,\n",
       "  'correct_clarification': False,\n",
       "  'clarification_reason': '',\n",
       "  'latency_clarification': None,\n",
       "  'tokens_clarification': None,\n",
       "  'total_latency': 18.331,\n",
       "  'note': 'out_of_domain = True, reason: ',\n",
       "  'error': ''},\n",
       " {'query': 'ยังกลืนไม่ค่อยได้',\n",
       "  'expected_clarification': True,\n",
       "  'predicted_clarification': None,\n",
       "  'correct_clarification': False,\n",
       "  'clarification_reason': '',\n",
       "  'latency_clarification': None,\n",
       "  'tokens_clarification': None,\n",
       "  'total_latency': 35.189,\n",
       "  'note': 'out_of_domain = True, reason: ',\n",
       "  'error': ''},\n",
       " {'query': 'กังวลว่าจะติดเชื้อ',\n",
       "  'expected_clarification': True,\n",
       "  'predicted_clarification': None,\n",
       "  'correct_clarification': False,\n",
       "  'clarification_reason': '',\n",
       "  'latency_clarification': None,\n",
       "  'tokens_clarification': None,\n",
       "  'total_latency': 19.958,\n",
       "  'note': 'out_of_domain = True, reason: ',\n",
       "  'error': ''},\n",
       " {'query': 'ต้องไปหาหมออีกทีเมื่อไหร่',\n",
       "  'expected_clarification': True,\n",
       "  'predicted_clarification': None,\n",
       "  'correct_clarification': False,\n",
       "  'clarification_reason': '',\n",
       "  'latency_clarification': None,\n",
       "  'tokens_clarification': None,\n",
       "  'total_latency': 33.585,\n",
       "  'note': 'out_of_domain = True, reason: ',\n",
       "  'error': ''}]"
      ]
     },
     "execution_count": 15,
     "metadata": {},
     "output_type": "execute_result"
    }
   ],
   "source": [
    "results_clari"
   ]
  },
  {
   "cell_type": "code",
   "execution_count": 19,
   "id": "51e5e0ea",
   "metadata": {},
   "outputs": [],
   "source": [
    "import pandas as pd\n",
    "\n",
    "# สมมุติว่า results เป็น list ของ dictionary\n",
    "results_clari = pd.DataFrame(results_clari)\n",
    "\n",
    "# แล้วค่อยบันทึกเป็น Excel\n",
    "results_clari.to_excel(\"results_clari3.xlsx\", index=False)"
   ]
  },
  {
   "cell_type": "code",
   "execution_count": null,
   "id": "270e45f6",
   "metadata": {},
   "outputs": [],
   "source": []
  }
 ],
 "metadata": {
  "kernelspec": {
   "display_name": "langchain_env",
   "language": "python",
   "name": "python3"
  },
  "language_info": {
   "codemirror_mode": {
    "name": "ipython",
    "version": 3
   },
   "file_extension": ".py",
   "mimetype": "text/x-python",
   "name": "python",
   "nbconvert_exporter": "python",
   "pygments_lexer": "ipython3",
   "version": "3.9.20"
  }
 },
 "nbformat": 4,
 "nbformat_minor": 5
}
