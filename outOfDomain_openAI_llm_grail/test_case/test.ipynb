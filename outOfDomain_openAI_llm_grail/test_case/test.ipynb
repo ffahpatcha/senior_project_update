{
 "cells": [
  {
   "cell_type": "code",
   "execution_count": 1,
   "id": "511e4441",
   "metadata": {},
   "outputs": [],
   "source": [
    "import sys\n",
    "import os\n",
    "\n",
    "# เพิ่ม path ของโฟลเดอร์หลักเข้าไปใน sys.path\n",
    "sys.path.append(os.path.abspath(\"..\"))\n",
    "\n",
    "# ตอนนี้สามารถ import ได้เลย\n",
    "from main_graph import graph\n",
    "from state_schema import AgentState\n"
   ]
  },
  {
   "cell_type": "code",
   "execution_count": 2,
   "id": "2121e8fc",
   "metadata": {},
   "outputs": [],
   "source": [
    "import pandas as pd\n",
    "from tqdm import tqdm"
   ]
  },
  {
   "cell_type": "code",
   "execution_count": 3,
   "id": "e99e0ee9",
   "metadata": {},
   "outputs": [
    {
     "name": "stderr",
     "output_type": "stream",
     "text": [
      "  0%|          | 0/39 [00:00<?, ?it/s]"
     ]
    },
    {
     "name": "stdout",
     "output_type": "stream",
     "text": [
      "START PIPELINE\n",
      "Step 1: Clarity Check\n",
      "Clarity Result: clarification_needed=False reason='คำถามชัดเจน มีบริบทและหัตถการครบถ้วน'\n",
      "should_terminate? False\n",
      "Step 2: Category Classification\n"
     ]
    },
    {
     "name": "stderr",
     "output_type": "stream",
     "text": [
      "  3%|▎         | 1/39 [00:15<09:55, 15.67s/it]"
     ]
    },
    {
     "name": "stdout",
     "output_type": "stream",
     "text": [
      "RESPONSE SET: หมวดหมู่ที่ตรวจพบ:\n",
      "- หมวดหลัก: หัตถการ\n",
      "- หมวดย่อย: การใช้ยาชา\n",
      "START PIPELINE\n",
      "Step 1: Clarity Check\n",
      "Clarity Result: clarification_needed=False reason='คำถามชัดเจน มีบริบทและหัตถการครบถ้วน'\n",
      "should_terminate? False\n",
      "Step 2: Category Classification\n"
     ]
    },
    {
     "name": "stderr",
     "output_type": "stream",
     "text": [
      "  5%|▌         | 2/39 [00:24<07:16, 11.80s/it]"
     ]
    },
    {
     "name": "stdout",
     "output_type": "stream",
     "text": [
      "RESPONSE SET: หมวดหมู่ที่ตรวจพบ:\n",
      "- หมวดหลัก: อาการ/ภาวะแทรกซ้อน\n",
      "- หมวดย่อย: overall\n",
      "START PIPELINE\n",
      "Step 1: Clarity Check\n",
      "Clarity Result: clarification_needed=False reason='คำถามชัดเจน มีบริบทและหัตถการครบถ้วน'\n",
      "should_terminate? False\n",
      "Step 2: Category Classification\n"
     ]
    },
    {
     "name": "stderr",
     "output_type": "stream",
     "text": [
      "  8%|▊         | 3/39 [00:47<09:59, 16.67s/it]"
     ]
    },
    {
     "name": "stdout",
     "output_type": "stream",
     "text": [
      "RESPONSE SET: หมวดหมู่ที่ตรวจพบ:\n",
      "- หมวดหลัก: อาการ/ภาวะแทรกซ้อน\n",
      "- หมวดย่อย: overall\n",
      "START PIPELINE\n",
      "Step 1: Clarity Check\n",
      "Clarity Result: clarification_needed=False reason='คำถามชัดเจน มีบริบทและหัตถการครบถ้วน'\n",
      "should_terminate? False\n",
      "Step 2: Category Classification\n"
     ]
    },
    {
     "name": "stderr",
     "output_type": "stream",
     "text": [
      " 10%|█         | 4/39 [00:56<07:54, 13.56s/it]"
     ]
    },
    {
     "name": "stdout",
     "output_type": "stream",
     "text": [
      "RESPONSE SET: หมวดหมู่ที่ตรวจพบ:\n",
      "- หมวดหลัก: อาการ/ภาวะแทรกซ้อน\n",
      "- หมวดย่อย: overall\n",
      "START PIPELINE\n",
      "Step 1: Clarity Check\n"
     ]
    },
    {
     "name": "stderr",
     "output_type": "stream",
     "text": [
      " 13%|█▎        | 5/39 [01:02<06:11, 10.91s/it]"
     ]
    },
    {
     "name": "stdout",
     "output_type": "stream",
     "text": [
      "START PIPELINE\n",
      "Step 1: Clarity Check\n",
      "Clarity Result: clarification_needed=False reason='คำถามชัดเจน มีบริบทและหัตถการครบถ้วน'\n",
      "should_terminate? False\n",
      "Step 2: Category Classification\n"
     ]
    },
    {
     "name": "stderr",
     "output_type": "stream",
     "text": [
      " 15%|█▌        | 6/39 [01:11<05:44, 10.45s/it]"
     ]
    },
    {
     "name": "stdout",
     "output_type": "stream",
     "text": [
      "RESPONSE SET: หมวดหมู่ที่ตรวจพบ:\n",
      "- หมวดหลัก: อาการ/ภาวะแทรกซ้อน\n",
      "- หมวดย่อย: bleeding\n",
      "START PIPELINE\n",
      "Step 1: Clarity Check\n",
      "Clarity Result: clarification_needed=False reason='คำถามชัดเจน มีบริบทและหัตถการครบถ้วน'\n",
      "should_terminate? False\n",
      "Step 2: Category Classification\n"
     ]
    },
    {
     "name": "stderr",
     "output_type": "stream",
     "text": [
      " 18%|█▊        | 7/39 [01:31<07:14, 13.58s/it]"
     ]
    },
    {
     "name": "stdout",
     "output_type": "stream",
     "text": [
      "RESPONSE SET: หมวดหมู่ที่ตรวจพบ:\n",
      "- หมวดหลัก: อาการ/ภาวะแทรกซ้อน\n",
      "- หมวดย่อย: bleeding\n",
      "START PIPELINE\n",
      "Step 1: Clarity Check\n",
      "Clarity Result: clarification_needed=False reason='คำถามชัดเจน มีบริบทและหัตถการครบถ้วน'\n",
      "should_terminate? False\n",
      "Step 2: Category Classification\n"
     ]
    },
    {
     "name": "stderr",
     "output_type": "stream",
     "text": [
      " 21%|██        | 8/39 [01:59<09:20, 18.09s/it]"
     ]
    },
    {
     "name": "stdout",
     "output_type": "stream",
     "text": [
      "RESPONSE SET: หมวดหมู่ที่ตรวจพบ:\n",
      "- หมวดหลัก: อาการ/ภาวะแทรกซ้อน\n",
      "- หมวดย่อย: bleeding\n",
      "START PIPELINE\n",
      "Step 1: Clarity Check\n",
      "Clarity Result: clarification_needed=False reason='คำถามชัดเจน มีบริบทและหัตถการครบถ้วน'\n",
      "should_terminate? False\n",
      "Step 2: Category Classification\n"
     ]
    },
    {
     "name": "stderr",
     "output_type": "stream",
     "text": [
      " 23%|██▎       | 9/39 [02:12<08:13, 16.45s/it]"
     ]
    },
    {
     "name": "stdout",
     "output_type": "stream",
     "text": [
      "RESPONSE SET: หมวดหมู่ที่ตรวจพบ:\n",
      "- หมวดหลัก: อาการ/ภาวะแทรกซ้อน\n",
      "- หมวดย่อย: bleeding\n",
      "START PIPELINE\n",
      "Step 1: Clarity Check\n",
      "Clarity Result: clarification_needed=False reason='คำถามชัดเจน มีบริบทและหัตถการครบถ้วน'\n",
      "should_terminate? False\n",
      "Step 2: Category Classification\n"
     ]
    },
    {
     "name": "stderr",
     "output_type": "stream",
     "text": [
      " 26%|██▌       | 10/39 [02:30<08:08, 16.86s/it]"
     ]
    },
    {
     "name": "stdout",
     "output_type": "stream",
     "text": [
      "RESPONSE SET: หมวดหมู่ที่ตรวจพบ:\n",
      "- หมวดหลัก: อาการ/ภาวะแทรกซ้อน\n",
      "- หมวดย่อย: bleeding\n",
      "START PIPELINE\n",
      "Step 1: Clarity Check\n",
      "Clarity Result: clarification_needed=False reason='คำถามชัดเจน มีบริบทและหัตถการครบถ้วน'\n",
      "should_terminate? False\n",
      "Step 2: Category Classification\n"
     ]
    },
    {
     "name": "stderr",
     "output_type": "stream",
     "text": [
      " 28%|██▊       | 11/39 [02:48<08:02, 17.23s/it]"
     ]
    },
    {
     "name": "stdout",
     "output_type": "stream",
     "text": [
      "RESPONSE SET: หมวดหมู่ที่ตรวจพบ:\n",
      "- หมวดหลัก: อาการ/ภาวะแทรกซ้อน\n",
      "- หมวดย่อย: pain\n",
      "START PIPELINE\n",
      "Step 1: Clarity Check\n"
     ]
    },
    {
     "name": "stderr",
     "output_type": "stream",
     "text": [
      " 31%|███       | 12/39 [02:53<06:07, 13.60s/it]"
     ]
    },
    {
     "name": "stdout",
     "output_type": "stream",
     "text": [
      "Clarity Result: clarification_needed=True reason='ไม่มีบริบทหรือหัตถการ'\n",
      "should_terminate? True\n",
      "TERMINATE after Clarity\n",
      "START PIPELINE\n",
      "Step 1: Clarity Check\n",
      "Clarity Result: clarification_needed=False reason='คำถามชัดเจน มีบริบทและหัตถการครบถ้วน'\n",
      "should_terminate? False\n",
      "Step 2: Category Classification\n"
     ]
    },
    {
     "name": "stderr",
     "output_type": "stream",
     "text": [
      " 33%|███▎      | 13/39 [03:13<06:40, 15.42s/it]"
     ]
    },
    {
     "name": "stdout",
     "output_type": "stream",
     "text": [
      "RESPONSE SET: หมวดหมู่ที่ตรวจพบ:\n",
      "- หมวดหลัก: อาการ/ภาวะแทรกซ้อน\n",
      "- หมวดย่อย: pain\n",
      "START PIPELINE\n",
      "Step 1: Clarity Check\n"
     ]
    },
    {
     "name": "stderr",
     "output_type": "stream",
     "text": [
      " 36%|███▌      | 14/39 [03:19<05:16, 12.65s/it]"
     ]
    },
    {
     "name": "stdout",
     "output_type": "stream",
     "text": [
      "Clarity Result: clarification_needed=True reason='ไม่มีบริบททางทันตกรรม'\n",
      "should_terminate? True\n",
      "TERMINATE after Clarity\n",
      "START PIPELINE\n",
      "Step 1: Clarity Check\n",
      "Clarity Result: clarification_needed=False reason='คำถามชัดเจน มีบริบทและหัตถการครบถ้วน'\n",
      "should_terminate? False\n",
      "Step 2: Category Classification\n"
     ]
    },
    {
     "name": "stderr",
     "output_type": "stream",
     "text": [
      " 38%|███▊      | 15/39 [03:55<07:56, 19.86s/it]"
     ]
    },
    {
     "name": "stdout",
     "output_type": "stream",
     "text": [
      "RESPONSE SET: หมวดหมู่ที่ตรวจพบ:\n",
      "- หมวดหลัก: อาการ/ภาวะแทรกซ้อน\n",
      "- หมวดย่อย: pain\n",
      "START PIPELINE\n",
      "Step 1: Clarity Check\n",
      "Clarity Result: clarification_needed=False reason='คำถามชัดเจน มีบริบทและหัตถการครบถ้วน'\n",
      "should_terminate? False\n",
      "Step 2: Category Classification\n"
     ]
    },
    {
     "name": "stderr",
     "output_type": "stream",
     "text": [
      " 41%|████      | 16/39 [04:08<06:49, 17.80s/it]"
     ]
    },
    {
     "name": "stdout",
     "output_type": "stream",
     "text": [
      "RESPONSE SET: หมวดหมู่ที่ตรวจพบ:\n",
      "- หมวดหลัก: อาการ/ภาวะแทรกซ้อน\n",
      "- หมวดย่อย: wound healing\n",
      "START PIPELINE\n",
      "Step 1: Clarity Check\n",
      "Clarity Result: clarification_needed=False reason='คำถามชัดเจน มีบริบทและหัตถการครบถ้วน'\n",
      "should_terminate? False\n",
      "Step 2: Category Classification\n"
     ]
    },
    {
     "name": "stderr",
     "output_type": "stream",
     "text": [
      " 44%|████▎     | 17/39 [04:30<06:53, 18.79s/it]"
     ]
    },
    {
     "name": "stdout",
     "output_type": "stream",
     "text": [
      "RESPONSE SET: หมวดหมู่ที่ตรวจพบ:\n",
      "- หมวดหลัก: อาการ/ภาวะแทรกซ้อน\n",
      "- หมวดย่อย: wound healing\n",
      "START PIPELINE\n",
      "Step 1: Clarity Check\n",
      "Clarity Result: clarification_needed=False reason='คำถามชัดเจน มีบริบทและหัตถการครบถ้วน'\n",
      "should_terminate? False\n",
      "Step 2: Category Classification\n"
     ]
    },
    {
     "name": "stderr",
     "output_type": "stream",
     "text": [
      " 46%|████▌     | 18/39 [04:42<05:56, 16.97s/it]"
     ]
    },
    {
     "name": "stdout",
     "output_type": "stream",
     "text": [
      "RESPONSE SET: หมวดหมู่ที่ตรวจพบ:\n",
      "- หมวดหลัก: อาการ/ภาวะแทรกซ้อน\n",
      "- หมวดย่อย: wound healing\n",
      "START PIPELINE\n",
      "Step 1: Clarity Check\n",
      "Clarity Result: clarification_needed=False reason='คำถามชัดเจน มีบริบทและหัตถการครบถ้วน'\n",
      "should_terminate? False\n",
      "Step 2: Category Classification\n"
     ]
    },
    {
     "name": "stderr",
     "output_type": "stream",
     "text": [
      " 49%|████▊     | 19/39 [04:57<05:25, 16.26s/it]"
     ]
    },
    {
     "name": "stdout",
     "output_type": "stream",
     "text": [
      "RESPONSE SET: หมวดหมู่ที่ตรวจพบ:\n",
      "- หมวดหลัก: อาการ/ภาวะแทรกซ้อน\n",
      "- หมวดย่อย: wound healing\n",
      "START PIPELINE\n",
      "Step 1: Clarity Check\n",
      "Clarity Result: clarification_needed=False reason='คำถามชัดเจน มีบริบทและหัตถการครบถ้วน'\n",
      "should_terminate? False\n",
      "Step 2: Category Classification\n"
     ]
    },
    {
     "name": "stderr",
     "output_type": "stream",
     "text": [
      " 51%|█████▏    | 20/39 [05:22<05:58, 18.88s/it]"
     ]
    },
    {
     "name": "stdout",
     "output_type": "stream",
     "text": [
      "RESPONSE SET: หมวดหมู่ที่ตรวจพบ:\n",
      "- หมวดหลัก: การปฏิบัติตัวหลังทำหัตถการ\n",
      "- หมวดย่อย: overall\n",
      "START PIPELINE\n",
      "Step 1: Clarity Check\n",
      "Clarity Result: clarification_needed=False reason='คำถามชัดเจน มีบริบทและหัตถการครบถ้วน'\n",
      "should_terminate? False\n",
      "Step 2: Category Classification\n"
     ]
    },
    {
     "name": "stderr",
     "output_type": "stream",
     "text": [
      " 54%|█████▍    | 21/39 [05:44<05:56, 19.79s/it]"
     ]
    },
    {
     "name": "stdout",
     "output_type": "stream",
     "text": [
      "RESPONSE SET: หมวดหมู่ที่ตรวจพบ:\n",
      "- หมวดหลัก: การปฏิบัติตัวหลังทำหัตถการ\n",
      "- หมวดย่อย: overall\n",
      "START PIPELINE\n",
      "Step 1: Clarity Check\n",
      "Clarity Result: clarification_needed=False reason='คำถามชัดเจน มีบริบทและหัตถการครบถ้วน'\n",
      "should_terminate? False\n",
      "Step 2: Category Classification\n"
     ]
    },
    {
     "name": "stderr",
     "output_type": "stream",
     "text": [
      " 56%|█████▋    | 22/39 [05:58<05:05, 18.00s/it]"
     ]
    },
    {
     "name": "stdout",
     "output_type": "stream",
     "text": [
      "RESPONSE SET: หมวดหมู่ที่ตรวจพบ:\n",
      "- หมวดหลัก: อาการ/ภาวะแทรกซ้อน\n",
      "- หมวดย่อย: wound healing\n",
      "START PIPELINE\n",
      "Step 1: Clarity Check\n",
      "Clarity Result: clarification_needed=False reason='คำถามชัดเจน มีบริบทและหัตถการครบถ้วน'\n",
      "should_terminate? False\n",
      "Step 2: Category Classification\n"
     ]
    },
    {
     "name": "stderr",
     "output_type": "stream",
     "text": [
      " 59%|█████▉    | 23/39 [06:22<05:17, 19.84s/it]"
     ]
    },
    {
     "name": "stdout",
     "output_type": "stream",
     "text": [
      "RESPONSE SET: หมวดหมู่ที่ตรวจพบ:\n",
      "- หมวดหลัก: การปฏิบัติตัวหลังทำหัตถการ\n",
      "- หมวดย่อย: drinking straw\n",
      "START PIPELINE\n",
      "Step 1: Clarity Check\n",
      "Clarity Result: clarification_needed=False reason='มีเจตนาถาม มีบริบททางทันตกรรม และระบุประเภทหัตถการ'\n",
      "should_terminate? False\n",
      "Step 2: Category Classification\n"
     ]
    },
    {
     "name": "stderr",
     "output_type": "stream",
     "text": [
      " 62%|██████▏   | 24/39 [06:42<04:57, 19.81s/it]"
     ]
    },
    {
     "name": "stdout",
     "output_type": "stream",
     "text": [
      "RESPONSE SET: หมวดหมู่ที่ตรวจพบ:\n",
      "- หมวดหลัก: การปฏิบัติตัวหลังทำหัตถการ\n",
      "- หมวดย่อย: drinking straw\n",
      "START PIPELINE\n",
      "Step 1: Clarity Check\n",
      "Clarity Result: clarification_needed=False reason='คำถามชัดเจน มีบริบทและหัตถการครบถ้วน'\n",
      "should_terminate? False\n",
      "Step 2: Category Classification\n"
     ]
    },
    {
     "name": "stderr",
     "output_type": "stream",
     "text": [
      " 64%|██████▍   | 25/39 [06:58<04:22, 18.75s/it]"
     ]
    },
    {
     "name": "stdout",
     "output_type": "stream",
     "text": [
      "RESPONSE SET: หมวดหมู่ที่ตรวจพบ:\n",
      "- หมวดหลัก: การปฏิบัติตัวหลังทำหัตถการ\n",
      "- หมวดย่อย: drinking straw\n",
      "START PIPELINE\n",
      "Step 1: Clarity Check\n",
      "Clarity Result: clarification_needed=False reason='ไม่จำเป็นต้องขอความชัดเจนเพิ่มเติม'\n",
      "should_terminate? False\n",
      "Step 2: Category Classification\n"
     ]
    },
    {
     "name": "stderr",
     "output_type": "stream",
     "text": [
      " 67%|██████▋   | 26/39 [07:10<03:39, 16.90s/it]"
     ]
    },
    {
     "name": "stdout",
     "output_type": "stream",
     "text": [
      "RESPONSE SET: หมวดหมู่ที่ตรวจพบ:\n",
      "- หมวดหลัก: การปฏิบัติตัวหลังทำหัตถการ\n",
      "- หมวดย่อย: drinking straw\n",
      "START PIPELINE\n",
      "Step 1: Clarity Check\n",
      "Clarity Result: clarification_needed=False reason='มีเจตนาถาม มีบริบททางทันตกรรม และระบุประเภทหัตถการ'\n",
      "should_terminate? False\n",
      "Step 2: Category Classification\n"
     ]
    },
    {
     "name": "stderr",
     "output_type": "stream",
     "text": [
      " 69%|██████▉   | 27/39 [07:27<03:23, 16.93s/it]"
     ]
    },
    {
     "name": "stdout",
     "output_type": "stream",
     "text": [
      "RESPONSE SET: หมวดหมู่ที่ตรวจพบ:\n",
      "- หมวดหลัก: การปฏิบัติตัวหลังทำหัตถการ\n",
      "- หมวดย่อย: alcohol\n",
      "START PIPELINE\n",
      "Step 1: Clarity Check\n",
      "Clarity Result: clarification_needed=False reason='ไม่ต้องการข้อมูลเพิ่มเติม'\n",
      "should_terminate? False\n",
      "Step 2: Category Classification\n"
     ]
    },
    {
     "name": "stderr",
     "output_type": "stream",
     "text": [
      " 72%|███████▏  | 28/39 [07:47<03:13, 17.62s/it]"
     ]
    },
    {
     "name": "stdout",
     "output_type": "stream",
     "text": [
      "RESPONSE SET: หมวดหมู่ที่ตรวจพบ:\n",
      "- หมวดหลัก: การปฏิบัติตัวหลังทำหัตถการ\n",
      "- หมวดย่อย: workout\n",
      "START PIPELINE\n",
      "Step 1: Clarity Check\n",
      "Clarity Result: clarification_needed=False reason='เจตนาชัดเจน มีบริบทและหัตถการครบ'\n",
      "should_terminate? False\n",
      "Step 2: Category Classification\n"
     ]
    },
    {
     "name": "stderr",
     "output_type": "stream",
     "text": [
      " 74%|███████▍  | 29/39 [07:59<02:40, 16.06s/it]"
     ]
    },
    {
     "name": "stdout",
     "output_type": "stream",
     "text": [
      "RESPONSE SET: หมวดหมู่ที่ตรวจพบ:\n",
      "- หมวดหลัก: การปฏิบัติตัวหลังทำหัตถการ\n",
      "- หมวดย่อย: food\n",
      "START PIPELINE\n",
      "Step 1: Clarity Check\n",
      "Clarity Result: clarification_needed=False reason='มีเจตนาถาม มีบริบททางทันตกรรม และระบุประเภทหัตถการ'\n",
      "should_terminate? False\n",
      "Step 2: Category Classification\n"
     ]
    },
    {
     "name": "stderr",
     "output_type": "stream",
     "text": [
      " 77%|███████▋  | 30/39 [08:12<02:17, 15.24s/it]"
     ]
    },
    {
     "name": "stdout",
     "output_type": "stream",
     "text": [
      "RESPONSE SET: หมวดหมู่ที่ตรวจพบ:\n",
      "- หมวดหลัก: อาการ/ภาวะแทรกซ้อน, การปฏิบัติตัวหลังทำหัตถการ\n",
      "- หมวดย่อย: bleeding, food\n",
      "START PIPELINE\n",
      "Step 1: Clarity Check\n",
      "Clarity Result: clarification_needed=False reason='เจตนาชัดเจน มีบริบทและหัตถการครบ'\n",
      "should_terminate? False\n",
      "Step 2: Category Classification\n"
     ]
    },
    {
     "name": "stderr",
     "output_type": "stream",
     "text": [
      " 79%|███████▉  | 31/39 [08:27<01:59, 14.91s/it]"
     ]
    },
    {
     "name": "stdout",
     "output_type": "stream",
     "text": [
      "RESPONSE SET: หมวดหมู่ที่ตรวจพบ:\n",
      "- หมวดหลัก: การปฏิบัติตัวหลังทำหัตถการ\n",
      "- หมวดย่อย: food\n",
      "START PIPELINE\n",
      "Step 1: Clarity Check\n",
      "Clarity Result: clarification_needed=False reason='คำถามชัดเจน มีบริบทและหัตถการครบถ้วน'\n",
      "should_terminate? False\n",
      "Step 2: Category Classification\n"
     ]
    },
    {
     "name": "stderr",
     "output_type": "stream",
     "text": [
      " 82%|████████▏ | 32/39 [08:50<02:02, 17.52s/it]"
     ]
    },
    {
     "name": "stdout",
     "output_type": "stream",
     "text": [
      "RESPONSE SET: หมวดหมู่ที่ตรวจพบ:\n",
      "- หมวดหลัก: การปฏิบัติตัวหลังทำหัตถการ\n",
      "- หมวดย่อย: food\n",
      "START PIPELINE\n",
      "Step 1: Clarity Check\n",
      "Clarity Result: clarification_needed=False reason='เจตนาชัดเจน มีบริบทและหัตถการครบ'\n",
      "should_terminate? False\n",
      "Step 2: Category Classification\n"
     ]
    },
    {
     "name": "stderr",
     "output_type": "stream",
     "text": [
      " 85%|████████▍ | 33/39 [09:05<01:40, 16.72s/it]"
     ]
    },
    {
     "name": "stdout",
     "output_type": "stream",
     "text": [
      "RESPONSE SET: หมวดหมู่ที่ตรวจพบ:\n",
      "- หมวดหลัก: การปฏิบัติตัวหลังทำหัตถการ\n",
      "- หมวดย่อย: food\n",
      "START PIPELINE\n",
      "Step 1: Clarity Check\n",
      "Clarity Result: clarification_needed=False reason='มีเจตนาถาม มีบริบททางทันตกรรม และระบุประเภทหัตถการ'\n",
      "should_terminate? False\n",
      "Step 2: Category Classification\n"
     ]
    },
    {
     "name": "stderr",
     "output_type": "stream",
     "text": [
      " 87%|████████▋ | 34/39 [09:24<01:26, 17.38s/it]"
     ]
    },
    {
     "name": "stdout",
     "output_type": "stream",
     "text": [
      "RESPONSE SET: หมวดหมู่ที่ตรวจพบ:\n",
      "- หมวดหลัก: การปฏิบัติตัวหลังทำหัตถการ\n",
      "- หมวดย่อย: food\n",
      "START PIPELINE\n",
      "Step 1: Clarity Check\n",
      "Clarity Result: clarification_needed=False reason='คำถามชัดเจน มีบริบทและหัตถการครบถ้วน'\n",
      "should_terminate? False\n",
      "Step 2: Category Classification\n"
     ]
    },
    {
     "name": "stderr",
     "output_type": "stream",
     "text": [
      " 90%|████████▉ | 35/39 [09:46<01:14, 18.67s/it]"
     ]
    },
    {
     "name": "stdout",
     "output_type": "stream",
     "text": [
      "RESPONSE SET: หมวดหมู่ที่ตรวจพบ:\n",
      "- หมวดหลัก: การปฏิบัติตัวหลังทำหัตถการ\n",
      "- หมวดย่อย: food\n",
      "START PIPELINE\n",
      "Step 1: Clarity Check\n",
      "Clarity Result: clarification_needed=False reason='เจตนาชัดเจน มีบริบทและหัตถการครบ'\n",
      "should_terminate? False\n",
      "Step 2: Category Classification\n"
     ]
    },
    {
     "name": "stderr",
     "output_type": "stream",
     "text": [
      " 92%|█████████▏| 36/39 [09:56<00:48, 16.07s/it]"
     ]
    },
    {
     "name": "stdout",
     "output_type": "stream",
     "text": [
      "START PIPELINE\n",
      "Step 1: Clarity Check\n",
      "Clarity Result: clarification_needed=False reason='คำถามชัดเจน มีบริบทและหัตถการครบถ้วน'\n",
      "should_terminate? False\n",
      "Step 2: Category Classification\n"
     ]
    },
    {
     "name": "stderr",
     "output_type": "stream",
     "text": [
      " 95%|█████████▍| 37/39 [10:06<00:28, 14.49s/it]"
     ]
    },
    {
     "name": "stdout",
     "output_type": "stream",
     "text": [
      "RESPONSE SET: หมวดหมู่ที่ตรวจพบ:\n",
      "- หมวดหลัก: การปฏิบัติตัวหลังทำหัตถการ\n",
      "- หมวดย่อย: food\n",
      "START PIPELINE\n",
      "Step 1: Clarity Check\n",
      "Clarity Result: clarification_needed=False reason='ไม่ต้องการข้อมูลเพิ่มเติม'\n",
      "should_terminate? False\n",
      "Step 2: Category Classification\n"
     ]
    },
    {
     "name": "stderr",
     "output_type": "stream",
     "text": [
      " 97%|█████████▋| 38/39 [10:25<00:15, 15.84s/it]"
     ]
    },
    {
     "name": "stdout",
     "output_type": "stream",
     "text": [
      "RESPONSE SET: หมวดหมู่ที่ตรวจพบ:\n",
      "- หมวดหลัก: การปฏิบัติตัวหลังทำหัตถการ\n",
      "- หมวดย่อย: food\n",
      "START PIPELINE\n",
      "Step 1: Clarity Check\n",
      "Clarity Result: clarification_needed=False reason='มีบริบทและหัตถการครบถ้วน'\n",
      "should_terminate? False\n",
      "Step 2: Category Classification\n"
     ]
    },
    {
     "name": "stderr",
     "output_type": "stream",
     "text": [
      "100%|██████████| 39/39 [10:44<00:00, 16.53s/it]"
     ]
    },
    {
     "name": "stdout",
     "output_type": "stream",
     "text": [
      "RESPONSE SET: หมวดหมู่ที่ตรวจพบ:\n",
      "- หมวดหลัก: การปฏิบัติตัวหลังทำหัตถการ\n",
      "- หมวดย่อย: oral hygiene\n"
     ]
    },
    {
     "name": "stderr",
     "output_type": "stream",
     "text": [
      "\n"
     ]
    },
    {
     "ename": "PermissionError",
     "evalue": "[Errno 13] Permission denied: 'evaluation_results.csv'",
     "output_type": "error",
     "traceback": [
      "\u001b[1;31m---------------------------------------------------------------------------\u001b[0m",
      "\u001b[1;31mPermissionError\u001b[0m                           Traceback (most recent call last)",
      "Cell \u001b[1;32mIn[3], line 120\u001b[0m\n\u001b[0;32m    117\u001b[0m     \u001b[38;5;28mprint\u001b[39m(\u001b[38;5;124m\"\u001b[39m\u001b[38;5;124m✅ Evaluation completed and saved to evaluation_results.csv\u001b[39m\u001b[38;5;124m\"\u001b[39m)\n\u001b[0;32m    119\u001b[0m \u001b[38;5;66;03m# ⭐️ ใน Jupyter Notebook ให้รันด้วย:\u001b[39;00m\n\u001b[1;32m--> 120\u001b[0m \u001b[38;5;28;01mawait\u001b[39;00m main()\n",
      "Cell \u001b[1;32mIn[3], line 116\u001b[0m, in \u001b[0;36mmain\u001b[1;34m()\u001b[0m\n\u001b[0;32m    113\u001b[0m     results\u001b[38;5;241m.\u001b[39mappend(res)\n\u001b[0;32m    115\u001b[0m df_results \u001b[38;5;241m=\u001b[39m pd\u001b[38;5;241m.\u001b[39mDataFrame(results)\n\u001b[1;32m--> 116\u001b[0m df_results\u001b[38;5;241m.\u001b[39mto_csv(\u001b[38;5;124m\"\u001b[39m\u001b[38;5;124mevaluation_results.csv\u001b[39m\u001b[38;5;124m\"\u001b[39m, index\u001b[38;5;241m=\u001b[39m\u001b[38;5;28;01mFalse\u001b[39;00m, encoding\u001b[38;5;241m=\u001b[39m\u001b[38;5;124m\"\u001b[39m\u001b[38;5;124mutf-8-sig\u001b[39m\u001b[38;5;124m\"\u001b[39m)\n\u001b[0;32m    117\u001b[0m \u001b[38;5;28mprint\u001b[39m(\u001b[38;5;124m\"\u001b[39m\u001b[38;5;124m✅ Evaluation completed and saved to evaluation_results.csv\u001b[39m\u001b[38;5;124m\"\u001b[39m)\n",
      "File \u001b[1;32mc:\\Users\\fahpatcha\\anaconda3\\envs\\langchain_env\\lib\\site-packages\\pandas\\util\\_decorators.py:333\u001b[0m, in \u001b[0;36mdeprecate_nonkeyword_arguments.<locals>.decorate.<locals>.wrapper\u001b[1;34m(*args, **kwargs)\u001b[0m\n\u001b[0;32m    327\u001b[0m \u001b[38;5;28;01mif\u001b[39;00m \u001b[38;5;28mlen\u001b[39m(args) \u001b[38;5;241m>\u001b[39m num_allow_args:\n\u001b[0;32m    328\u001b[0m     warnings\u001b[38;5;241m.\u001b[39mwarn(\n\u001b[0;32m    329\u001b[0m         msg\u001b[38;5;241m.\u001b[39mformat(arguments\u001b[38;5;241m=\u001b[39m_format_argument_list(allow_args)),\n\u001b[0;32m    330\u001b[0m         \u001b[38;5;167;01mFutureWarning\u001b[39;00m,\n\u001b[0;32m    331\u001b[0m         stacklevel\u001b[38;5;241m=\u001b[39mfind_stack_level(),\n\u001b[0;32m    332\u001b[0m     )\n\u001b[1;32m--> 333\u001b[0m \u001b[38;5;28;01mreturn\u001b[39;00m func(\u001b[38;5;241m*\u001b[39margs, \u001b[38;5;241m*\u001b[39m\u001b[38;5;241m*\u001b[39mkwargs)\n",
      "File \u001b[1;32mc:\\Users\\fahpatcha\\anaconda3\\envs\\langchain_env\\lib\\site-packages\\pandas\\core\\generic.py:3967\u001b[0m, in \u001b[0;36mNDFrame.to_csv\u001b[1;34m(self, path_or_buf, sep, na_rep, float_format, columns, header, index, index_label, mode, encoding, compression, quoting, quotechar, lineterminator, chunksize, date_format, doublequote, escapechar, decimal, errors, storage_options)\u001b[0m\n\u001b[0;32m   3956\u001b[0m df \u001b[38;5;241m=\u001b[39m \u001b[38;5;28mself\u001b[39m \u001b[38;5;28;01mif\u001b[39;00m \u001b[38;5;28misinstance\u001b[39m(\u001b[38;5;28mself\u001b[39m, ABCDataFrame) \u001b[38;5;28;01melse\u001b[39;00m \u001b[38;5;28mself\u001b[39m\u001b[38;5;241m.\u001b[39mto_frame()\n\u001b[0;32m   3958\u001b[0m formatter \u001b[38;5;241m=\u001b[39m DataFrameFormatter(\n\u001b[0;32m   3959\u001b[0m     frame\u001b[38;5;241m=\u001b[39mdf,\n\u001b[0;32m   3960\u001b[0m     header\u001b[38;5;241m=\u001b[39mheader,\n\u001b[1;32m   (...)\u001b[0m\n\u001b[0;32m   3964\u001b[0m     decimal\u001b[38;5;241m=\u001b[39mdecimal,\n\u001b[0;32m   3965\u001b[0m )\n\u001b[1;32m-> 3967\u001b[0m \u001b[38;5;28;01mreturn\u001b[39;00m \u001b[43mDataFrameRenderer\u001b[49m\u001b[43m(\u001b[49m\u001b[43mformatter\u001b[49m\u001b[43m)\u001b[49m\u001b[38;5;241;43m.\u001b[39;49m\u001b[43mto_csv\u001b[49m\u001b[43m(\u001b[49m\n\u001b[0;32m   3968\u001b[0m \u001b[43m    \u001b[49m\u001b[43mpath_or_buf\u001b[49m\u001b[43m,\u001b[49m\n\u001b[0;32m   3969\u001b[0m \u001b[43m    \u001b[49m\u001b[43mlineterminator\u001b[49m\u001b[38;5;241;43m=\u001b[39;49m\u001b[43mlineterminator\u001b[49m\u001b[43m,\u001b[49m\n\u001b[0;32m   3970\u001b[0m \u001b[43m    \u001b[49m\u001b[43msep\u001b[49m\u001b[38;5;241;43m=\u001b[39;49m\u001b[43msep\u001b[49m\u001b[43m,\u001b[49m\n\u001b[0;32m   3971\u001b[0m \u001b[43m    \u001b[49m\u001b[43mencoding\u001b[49m\u001b[38;5;241;43m=\u001b[39;49m\u001b[43mencoding\u001b[49m\u001b[43m,\u001b[49m\n\u001b[0;32m   3972\u001b[0m \u001b[43m    \u001b[49m\u001b[43merrors\u001b[49m\u001b[38;5;241;43m=\u001b[39;49m\u001b[43merrors\u001b[49m\u001b[43m,\u001b[49m\n\u001b[0;32m   3973\u001b[0m \u001b[43m    \u001b[49m\u001b[43mcompression\u001b[49m\u001b[38;5;241;43m=\u001b[39;49m\u001b[43mcompression\u001b[49m\u001b[43m,\u001b[49m\n\u001b[0;32m   3974\u001b[0m \u001b[43m    \u001b[49m\u001b[43mquoting\u001b[49m\u001b[38;5;241;43m=\u001b[39;49m\u001b[43mquoting\u001b[49m\u001b[43m,\u001b[49m\n\u001b[0;32m   3975\u001b[0m \u001b[43m    \u001b[49m\u001b[43mcolumns\u001b[49m\u001b[38;5;241;43m=\u001b[39;49m\u001b[43mcolumns\u001b[49m\u001b[43m,\u001b[49m\n\u001b[0;32m   3976\u001b[0m \u001b[43m    \u001b[49m\u001b[43mindex_label\u001b[49m\u001b[38;5;241;43m=\u001b[39;49m\u001b[43mindex_label\u001b[49m\u001b[43m,\u001b[49m\n\u001b[0;32m   3977\u001b[0m \u001b[43m    \u001b[49m\u001b[43mmode\u001b[49m\u001b[38;5;241;43m=\u001b[39;49m\u001b[43mmode\u001b[49m\u001b[43m,\u001b[49m\n\u001b[0;32m   3978\u001b[0m \u001b[43m    \u001b[49m\u001b[43mchunksize\u001b[49m\u001b[38;5;241;43m=\u001b[39;49m\u001b[43mchunksize\u001b[49m\u001b[43m,\u001b[49m\n\u001b[0;32m   3979\u001b[0m \u001b[43m    \u001b[49m\u001b[43mquotechar\u001b[49m\u001b[38;5;241;43m=\u001b[39;49m\u001b[43mquotechar\u001b[49m\u001b[43m,\u001b[49m\n\u001b[0;32m   3980\u001b[0m \u001b[43m    \u001b[49m\u001b[43mdate_format\u001b[49m\u001b[38;5;241;43m=\u001b[39;49m\u001b[43mdate_format\u001b[49m\u001b[43m,\u001b[49m\n\u001b[0;32m   3981\u001b[0m \u001b[43m    \u001b[49m\u001b[43mdoublequote\u001b[49m\u001b[38;5;241;43m=\u001b[39;49m\u001b[43mdoublequote\u001b[49m\u001b[43m,\u001b[49m\n\u001b[0;32m   3982\u001b[0m \u001b[43m    \u001b[49m\u001b[43mescapechar\u001b[49m\u001b[38;5;241;43m=\u001b[39;49m\u001b[43mescapechar\u001b[49m\u001b[43m,\u001b[49m\n\u001b[0;32m   3983\u001b[0m \u001b[43m    \u001b[49m\u001b[43mstorage_options\u001b[49m\u001b[38;5;241;43m=\u001b[39;49m\u001b[43mstorage_options\u001b[49m\u001b[43m,\u001b[49m\n\u001b[0;32m   3984\u001b[0m \u001b[43m\u001b[49m\u001b[43m)\u001b[49m\n",
      "File \u001b[1;32mc:\\Users\\fahpatcha\\anaconda3\\envs\\langchain_env\\lib\\site-packages\\pandas\\io\\formats\\format.py:1014\u001b[0m, in \u001b[0;36mDataFrameRenderer.to_csv\u001b[1;34m(self, path_or_buf, encoding, sep, columns, index_label, mode, compression, quoting, quotechar, lineterminator, chunksize, date_format, doublequote, escapechar, errors, storage_options)\u001b[0m\n\u001b[0;32m    993\u001b[0m     created_buffer \u001b[38;5;241m=\u001b[39m \u001b[38;5;28;01mFalse\u001b[39;00m\n\u001b[0;32m    995\u001b[0m csv_formatter \u001b[38;5;241m=\u001b[39m CSVFormatter(\n\u001b[0;32m    996\u001b[0m     path_or_buf\u001b[38;5;241m=\u001b[39mpath_or_buf,\n\u001b[0;32m    997\u001b[0m     lineterminator\u001b[38;5;241m=\u001b[39mlineterminator,\n\u001b[1;32m   (...)\u001b[0m\n\u001b[0;32m   1012\u001b[0m     formatter\u001b[38;5;241m=\u001b[39m\u001b[38;5;28mself\u001b[39m\u001b[38;5;241m.\u001b[39mfmt,\n\u001b[0;32m   1013\u001b[0m )\n\u001b[1;32m-> 1014\u001b[0m \u001b[43mcsv_formatter\u001b[49m\u001b[38;5;241;43m.\u001b[39;49m\u001b[43msave\u001b[49m\u001b[43m(\u001b[49m\u001b[43m)\u001b[49m\n\u001b[0;32m   1016\u001b[0m \u001b[38;5;28;01mif\u001b[39;00m created_buffer:\n\u001b[0;32m   1017\u001b[0m     \u001b[38;5;28;01massert\u001b[39;00m \u001b[38;5;28misinstance\u001b[39m(path_or_buf, StringIO)\n",
      "File \u001b[1;32mc:\\Users\\fahpatcha\\anaconda3\\envs\\langchain_env\\lib\\site-packages\\pandas\\io\\formats\\csvs.py:251\u001b[0m, in \u001b[0;36mCSVFormatter.save\u001b[1;34m(self)\u001b[0m\n\u001b[0;32m    247\u001b[0m \u001b[38;5;250m\u001b[39m\u001b[38;5;124;03m\"\"\"\u001b[39;00m\n\u001b[0;32m    248\u001b[0m \u001b[38;5;124;03mCreate the writer & save.\u001b[39;00m\n\u001b[0;32m    249\u001b[0m \u001b[38;5;124;03m\"\"\"\u001b[39;00m\n\u001b[0;32m    250\u001b[0m \u001b[38;5;66;03m# apply compression and byte/text conversion\u001b[39;00m\n\u001b[1;32m--> 251\u001b[0m \u001b[38;5;28;01mwith\u001b[39;00m \u001b[43mget_handle\u001b[49m\u001b[43m(\u001b[49m\n\u001b[0;32m    252\u001b[0m \u001b[43m    \u001b[49m\u001b[38;5;28;43mself\u001b[39;49m\u001b[38;5;241;43m.\u001b[39;49m\u001b[43mfilepath_or_buffer\u001b[49m\u001b[43m,\u001b[49m\n\u001b[0;32m    253\u001b[0m \u001b[43m    \u001b[49m\u001b[38;5;28;43mself\u001b[39;49m\u001b[38;5;241;43m.\u001b[39;49m\u001b[43mmode\u001b[49m\u001b[43m,\u001b[49m\n\u001b[0;32m    254\u001b[0m \u001b[43m    \u001b[49m\u001b[43mencoding\u001b[49m\u001b[38;5;241;43m=\u001b[39;49m\u001b[38;5;28;43mself\u001b[39;49m\u001b[38;5;241;43m.\u001b[39;49m\u001b[43mencoding\u001b[49m\u001b[43m,\u001b[49m\n\u001b[0;32m    255\u001b[0m \u001b[43m    \u001b[49m\u001b[43merrors\u001b[49m\u001b[38;5;241;43m=\u001b[39;49m\u001b[38;5;28;43mself\u001b[39;49m\u001b[38;5;241;43m.\u001b[39;49m\u001b[43merrors\u001b[49m\u001b[43m,\u001b[49m\n\u001b[0;32m    256\u001b[0m \u001b[43m    \u001b[49m\u001b[43mcompression\u001b[49m\u001b[38;5;241;43m=\u001b[39;49m\u001b[38;5;28;43mself\u001b[39;49m\u001b[38;5;241;43m.\u001b[39;49m\u001b[43mcompression\u001b[49m\u001b[43m,\u001b[49m\n\u001b[0;32m    257\u001b[0m \u001b[43m    \u001b[49m\u001b[43mstorage_options\u001b[49m\u001b[38;5;241;43m=\u001b[39;49m\u001b[38;5;28;43mself\u001b[39;49m\u001b[38;5;241;43m.\u001b[39;49m\u001b[43mstorage_options\u001b[49m\u001b[43m,\u001b[49m\n\u001b[0;32m    258\u001b[0m \u001b[43m\u001b[49m\u001b[43m)\u001b[49m \u001b[38;5;28;01mas\u001b[39;00m handles:\n\u001b[0;32m    259\u001b[0m     \u001b[38;5;66;03m# Note: self.encoding is irrelevant here\u001b[39;00m\n\u001b[0;32m    260\u001b[0m     \u001b[38;5;28mself\u001b[39m\u001b[38;5;241m.\u001b[39mwriter \u001b[38;5;241m=\u001b[39m csvlib\u001b[38;5;241m.\u001b[39mwriter(\n\u001b[0;32m    261\u001b[0m         handles\u001b[38;5;241m.\u001b[39mhandle,\n\u001b[0;32m    262\u001b[0m         lineterminator\u001b[38;5;241m=\u001b[39m\u001b[38;5;28mself\u001b[39m\u001b[38;5;241m.\u001b[39mlineterminator,\n\u001b[1;32m   (...)\u001b[0m\n\u001b[0;32m    267\u001b[0m         quotechar\u001b[38;5;241m=\u001b[39m\u001b[38;5;28mself\u001b[39m\u001b[38;5;241m.\u001b[39mquotechar,\n\u001b[0;32m    268\u001b[0m     )\n\u001b[0;32m    270\u001b[0m     \u001b[38;5;28mself\u001b[39m\u001b[38;5;241m.\u001b[39m_save()\n",
      "File \u001b[1;32mc:\\Users\\fahpatcha\\anaconda3\\envs\\langchain_env\\lib\\site-packages\\pandas\\io\\common.py:873\u001b[0m, in \u001b[0;36mget_handle\u001b[1;34m(path_or_buf, mode, encoding, compression, memory_map, is_text, errors, storage_options)\u001b[0m\n\u001b[0;32m    868\u001b[0m \u001b[38;5;28;01melif\u001b[39;00m \u001b[38;5;28misinstance\u001b[39m(handle, \u001b[38;5;28mstr\u001b[39m):\n\u001b[0;32m    869\u001b[0m     \u001b[38;5;66;03m# Check whether the filename is to be opened in binary mode.\u001b[39;00m\n\u001b[0;32m    870\u001b[0m     \u001b[38;5;66;03m# Binary mode does not support 'encoding' and 'newline'.\u001b[39;00m\n\u001b[0;32m    871\u001b[0m     \u001b[38;5;28;01mif\u001b[39;00m ioargs\u001b[38;5;241m.\u001b[39mencoding \u001b[38;5;129;01mand\u001b[39;00m \u001b[38;5;124m\"\u001b[39m\u001b[38;5;124mb\u001b[39m\u001b[38;5;124m\"\u001b[39m \u001b[38;5;129;01mnot\u001b[39;00m \u001b[38;5;129;01min\u001b[39;00m ioargs\u001b[38;5;241m.\u001b[39mmode:\n\u001b[0;32m    872\u001b[0m         \u001b[38;5;66;03m# Encoding\u001b[39;00m\n\u001b[1;32m--> 873\u001b[0m         handle \u001b[38;5;241m=\u001b[39m \u001b[38;5;28;43mopen\u001b[39;49m\u001b[43m(\u001b[49m\n\u001b[0;32m    874\u001b[0m \u001b[43m            \u001b[49m\u001b[43mhandle\u001b[49m\u001b[43m,\u001b[49m\n\u001b[0;32m    875\u001b[0m \u001b[43m            \u001b[49m\u001b[43mioargs\u001b[49m\u001b[38;5;241;43m.\u001b[39;49m\u001b[43mmode\u001b[49m\u001b[43m,\u001b[49m\n\u001b[0;32m    876\u001b[0m \u001b[43m            \u001b[49m\u001b[43mencoding\u001b[49m\u001b[38;5;241;43m=\u001b[39;49m\u001b[43mioargs\u001b[49m\u001b[38;5;241;43m.\u001b[39;49m\u001b[43mencoding\u001b[49m\u001b[43m,\u001b[49m\n\u001b[0;32m    877\u001b[0m \u001b[43m            \u001b[49m\u001b[43merrors\u001b[49m\u001b[38;5;241;43m=\u001b[39;49m\u001b[43merrors\u001b[49m\u001b[43m,\u001b[49m\n\u001b[0;32m    878\u001b[0m \u001b[43m            \u001b[49m\u001b[43mnewline\u001b[49m\u001b[38;5;241;43m=\u001b[39;49m\u001b[38;5;124;43m\"\u001b[39;49m\u001b[38;5;124;43m\"\u001b[39;49m\u001b[43m,\u001b[49m\n\u001b[0;32m    879\u001b[0m \u001b[43m        \u001b[49m\u001b[43m)\u001b[49m\n\u001b[0;32m    880\u001b[0m     \u001b[38;5;28;01melse\u001b[39;00m:\n\u001b[0;32m    881\u001b[0m         \u001b[38;5;66;03m# Binary mode\u001b[39;00m\n\u001b[0;32m    882\u001b[0m         handle \u001b[38;5;241m=\u001b[39m \u001b[38;5;28mopen\u001b[39m(handle, ioargs\u001b[38;5;241m.\u001b[39mmode)\n",
      "\u001b[1;31mPermissionError\u001b[0m: [Errno 13] Permission denied: 'evaluation_results.csv'"
     ]
    }
   ],
   "source": [
    "import sys\n",
    "import os\n",
    "import pandas as pd\n",
    "from tqdm import tqdm\n",
    "import asyncio\n",
    "import nest_asyncio\n",
    "\n",
    "nest_asyncio.apply()  # ⭐️ สำคัญสำหรับ Jupyter / IPython\n",
    "\n",
    "sys.path.append(os.path.abspath(\"..\"))\n",
    "\n",
    "# โหลด DataFrame\n",
    "df = pd.read_excel(\"question_2categorylevel.xlsx\")\n",
    "df.columns = df.columns.str.strip()\n",
    "\n",
    "results = []\n",
    "\n",
    "async def process_query(query, expected_lv1, expected_lv2):\n",
    "    try:\n",
    "        initial_state = AgentState(user_query=query)\n",
    "        state_raw = await graph.ainvoke(initial_state)\n",
    "        state_obj = AgentState(**state_raw)\n",
    "\n",
    "        classification = getattr(state_obj, \"classification_result\", None)\n",
    "        if classification is None:\n",
    "            # ถ้าไม่มี classification_result\n",
    "            classification = {}\n",
    "\n",
    "        out_of_domain = getattr(classification, \"out_of_domain\", False)\n",
    "        out_of_domain_reason = getattr(classification, \"out_of_domain_reason\", \"\")\n",
    "\n",
    "        # ถ้าไม่มีเหตุผล ให้ใส่ default\n",
    "        if out_of_domain and not out_of_domain_reason:\n",
    "            out_of_domain_reason = \"Out-of-domain without specific reason.\"\n",
    "\n",
    "        if out_of_domain:\n",
    "            predicted_lv1 = \"OUT_OF_DOMAIN\"\n",
    "            predicted_lv2 = \"OUT_OF_DOMAIN\"\n",
    "            correct_lv1 = expected_lv1.strip().upper() == \"OUT_OF_DOMAIN\"\n",
    "            correct_lv2 = expected_lv2.strip().upper() == \"OUT_OF_DOMAIN\"\n",
    "\n",
    "            # log กรณี Out-of-domain\n",
    "            print(f\"🔹 Out-of-domain detected: {query}\")\n",
    "            print(f\"   Reason: {out_of_domain_reason}\")\n",
    "\n",
    "        else:\n",
    "            cat_lv1 = getattr(classification, \"category_level_1\", []) or []\n",
    "            if cat_lv1 and len(cat_lv1) > 0:\n",
    "                predicted_lv1 = cat_lv1[0].category\n",
    "            else:\n",
    "                predicted_lv1 = \"\"\n",
    "\n",
    "            cat_lv2 = getattr(classification, \"category_level_2\", []) or []\n",
    "            if cat_lv2 and len(cat_lv2) > 0:\n",
    "                predicted_lv2 = cat_lv2[0].subcategory\n",
    "            else:\n",
    "                predicted_lv2 = \"\"\n",
    "\n",
    "            correct_lv1 = predicted_lv1 == expected_lv1\n",
    "            correct_lv2 = predicted_lv2 == expected_lv2\n",
    "\n",
    "        latency = state_obj.latency or {}\n",
    "        total_latency = round(\n",
    "            sum(v for k, v in latency.items() if isinstance(v, float)), 3\n",
    "        )\n",
    "\n",
    "        return {\n",
    "            \"query\": query,\n",
    "            \"expected_lv1\": expected_lv1,\n",
    "            \"predicted_lv1\": predicted_lv1,\n",
    "            \"correct_lv1\": correct_lv1,\n",
    "            \"expected_lv2\": expected_lv2,\n",
    "            \"predicted_lv2\": predicted_lv2,\n",
    "            \"correct_lv2\": correct_lv2,\n",
    "            \"out_of_domain\": out_of_domain,\n",
    "            \"out_of_domain_reason\": out_of_domain_reason,\n",
    "            \"latency_out_of_domain\": latency.get(\"out_of_domain\"),\n",
    "            \"latency_clarification\": latency.get(\"clarification\"),\n",
    "            \"latency_classification\": latency.get(\"classification\"),\n",
    "            \"tokens_out_of_domain\": latency.get(\"tokens_out_of_domain\"),\n",
    "            \"tokens_clarification\": latency.get(\"tokens_clarification\"),\n",
    "            \"tokens_classification\": latency.get(\"tokens_classification\"),\n",
    "            \"total_latency\": total_latency,\n",
    "            \"error\": \"\"\n",
    "        }\n",
    "    except Exception as e:\n",
    "        return {\n",
    "            \"query\": query,\n",
    "            \"expected_lv1\": expected_lv1,\n",
    "            \"predicted_lv1\": \"\",\n",
    "            \"correct_lv1\": False,\n",
    "            \"expected_lv2\": expected_lv2,\n",
    "            \"predicted_lv2\": \"\",\n",
    "            \"correct_lv2\": False,\n",
    "            \"out_of_domain\": None,\n",
    "            \"out_of_domain_reason\": \"\",\n",
    "            \"latency_out_of_domain\": None,\n",
    "            \"latency_clarification\": None,\n",
    "            \"latency_classification\": None,\n",
    "            \"tokens_out_of_domain\": None,\n",
    "            \"tokens_clarification\": None,\n",
    "            \"tokens_classification\": None,\n",
    "            \"total_latency\": None,\n",
    "            \"error\": str(e)\n",
    "        }\n",
    "\n",
    "async def main():\n",
    "    for _, row in tqdm(df.iterrows(), total=len(df)):\n",
    "        query = row[\"question\"]\n",
    "        expected_lv1 = row[\"category_level1\"]\n",
    "        expected_lv2 = row[\"category_level2\"]\n",
    "        res = await process_query(query, expected_lv1, expected_lv2)\n",
    "        results.append(res)\n",
    "\n",
    "    df_results = pd.DataFrame(results)\n",
    "    df_results.to_csv(\"evaluation_results.csv\", index=False, encoding=\"utf-8-sig\")\n",
    "    print(\"✅ Evaluation completed and saved to evaluation_results.csv\")\n",
    "\n",
    "# ⭐️ ใน Jupyter Notebook ให้รันด้วย:\n",
    "await main()\n"
   ]
  },
  {
   "cell_type": "code",
   "execution_count": null,
   "id": "a2d2632f",
   "metadata": {},
   "outputs": [
    {
     "data": {
      "text/plain": [
       "[{'query': ' ยาชาถอนฟันจะอยู่ได้นานกี่ชั่วโมง?',\n",
       "  'expected_lv1': 'หัตถการ',\n",
       "  'predicted_lv1': 'อาการ/ภาวะแทรกซ้อน',\n",
       "  'correct_lv1': False,\n",
       "  'expected_lv2': 'การใช้ยาชา',\n",
       "  'predicted_lv2': 'wound healing',\n",
       "  'correct_lv2': False,\n",
       "  'error': ''},\n",
       " {'query': 'หลังถอนฟัน อาการผิดปกติแบบไหนที่ควรกลับไปพบทันตแพทย์',\n",
       "  'expected_lv1': 'อาการ/ภาวะแทรกซ้อน',\n",
       "  'predicted_lv1': 'อาการ/ภาวะแทรกซ้อน',\n",
       "  'correct_lv1': True,\n",
       "  'expected_lv2': 'overall',\n",
       "  'predicted_lv2': 'wound healing',\n",
       "  'correct_lv2': False,\n",
       "  'error': ''},\n",
       " {'query': 'ความเสี่ยงและผลกระทบที่เกิดจากการถอนฟัน',\n",
       "  'expected_lv1': 'อาการ/ภาวะแทรกซ้อน',\n",
       "  'predicted_lv1': 'อาการ/ภาวะแทรกซ้อน',\n",
       "  'correct_lv1': True,\n",
       "  'expected_lv2': 'overall',\n",
       "  'predicted_lv2': 'wound healing',\n",
       "  'correct_lv2': False,\n",
       "  'error': ''},\n",
       " {'query': 'สัญญาณของการติดเชื้อหลังถอนฟัน',\n",
       "  'expected_lv1': 'อาการ/ภาวะแทรกซ้อน',\n",
       "  'predicted_lv1': 'อาการ/ภาวะแทรกซ้อน',\n",
       "  'correct_lv1': True,\n",
       "  'expected_lv2': 'overall',\n",
       "  'predicted_lv2': 'wound healing',\n",
       "  'correct_lv2': False,\n",
       "  'error': ''},\n",
       " {'query': 'หลังผ่าเสร็จจะมีอาการอย่างไร ปวดบวมมากน้อยแค่ไหน?',\n",
       "  'expected_lv1': 'อาการ/ภาวะแทรกซ้อน',\n",
       "  'predicted_lv1': 'อาการ/ภาวะแทรกซ้อน',\n",
       "  'correct_lv1': True,\n",
       "  'expected_lv2': 'overall',\n",
       "  'predicted_lv2': 'wound healing',\n",
       "  'correct_lv2': False,\n",
       "  'error': ''},\n",
       " {'query': 'ทำไมถอนฟันแล้วเลือดไหลเยอะมาก',\n",
       "  'expected_lv1': 'อาการ/ภาวะแทรกซ้อน',\n",
       "  'predicted_lv1': 'อาการ/ภาวะแทรกซ้อน',\n",
       "  'correct_lv1': True,\n",
       "  'expected_lv2': 'bleeding',\n",
       "  'predicted_lv2': 'wound healing',\n",
       "  'correct_lv2': False,\n",
       "  'error': ''},\n",
       " {'query': 'ถอนฟันเลือดไหลกี่ชั่วโมง ถ้าเลือดไหลไม่หยุด ทำอย่างไรดี?',\n",
       "  'expected_lv1': 'อาการ/ภาวะแทรกซ้อน',\n",
       "  'predicted_lv1': 'อาการ/ภาวะแทรกซ้อน',\n",
       "  'correct_lv1': True,\n",
       "  'expected_lv2': 'bleeding',\n",
       "  'predicted_lv2': 'wound healing',\n",
       "  'correct_lv2': False,\n",
       "  'error': ''},\n",
       " {'query': 'ถอนฟันแล้วเลือดไหลไม่หยุด อันตรายไหม',\n",
       "  'expected_lv1': 'อาการ/ภาวะแทรกซ้อน',\n",
       "  'predicted_lv1': 'อาการ/ภาวะแทรกซ้อน',\n",
       "  'correct_lv1': True,\n",
       "  'expected_lv2': 'bleeding',\n",
       "  'predicted_lv2': 'wound healing',\n",
       "  'correct_lv2': False,\n",
       "  'error': ''},\n",
       " {'query': 'วิธีห้ามเลือดหลังถอนฟัน',\n",
       "  'expected_lv1': 'อาการ/ภาวะแทรกซ้อน',\n",
       "  'predicted_lv1': 'อาการ/ภาวะแทรกซ้อน',\n",
       "  'correct_lv1': True,\n",
       "  'expected_lv2': 'bleeding',\n",
       "  'predicted_lv2': 'wound healing',\n",
       "  'correct_lv2': False,\n",
       "  'error': ''},\n",
       " {'query': 'ถอนฟันแล้วอมน้ำแข็งเพื่อให้เลือดหยุดไหลได้จริงหรือไม่ ',\n",
       "  'expected_lv1': 'อาการ/ภาวะแทรกซ้อน',\n",
       "  'predicted_lv1': 'อาการ/ภาวะแทรกซ้อน',\n",
       "  'correct_lv1': True,\n",
       "  'expected_lv2': 'bleeding',\n",
       "  'predicted_lv2': 'wound healing',\n",
       "  'correct_lv2': False,\n",
       "  'error': ''},\n",
       " {'query': 'ถอนฟันกรามกี่วันหายปวด',\n",
       "  'expected_lv1': 'อาการ/ภาวะแทรกซ้อน',\n",
       "  'predicted_lv1': 'อาการ/ภาวะแทรกซ้อน',\n",
       "  'correct_lv1': True,\n",
       "  'expected_lv2': 'pain',\n",
       "  'predicted_lv2': 'wound healing',\n",
       "  'correct_lv2': False,\n",
       "  'error': ''},\n",
       " {'query': 'ฉันควรทำอย่างไรหากรู้สึกปวดอย่างต่อเนื่อง',\n",
       "  'expected_lv1': 'อาการ/ภาวะแทรกซ้อน',\n",
       "  'predicted_lv1': 'อาการ/ภาวะแทรกซ้อน',\n",
       "  'correct_lv1': True,\n",
       "  'expected_lv2': 'pain',\n",
       "  'predicted_lv2': 'wound healing',\n",
       "  'correct_lv2': False,\n",
       "  'error': ''},\n",
       " {'query': 'วิธีบรรเทาอาการปวดหลังถอนฟัน',\n",
       "  'expected_lv1': 'อาการ/ภาวะแทรกซ้อน',\n",
       "  'predicted_lv1': 'อาการ/ภาวะแทรกซ้อน',\n",
       "  'correct_lv1': True,\n",
       "  'expected_lv2': 'pain',\n",
       "  'predicted_lv2': 'wound healing',\n",
       "  'correct_lv2': False,\n",
       "  'error': ''},\n",
       " {'query': 'วิธีแก้ปวดหลังถอนฟัน',\n",
       "  'expected_lv1': 'อาการ/ภาวะแทรกซ้อน',\n",
       "  'predicted_lv1': 'อาการ/ภาวะแทรกซ้อน',\n",
       "  'correct_lv1': True,\n",
       "  'expected_lv2': 'pain',\n",
       "  'predicted_lv2': 'wound healing',\n",
       "  'correct_lv2': False,\n",
       "  'error': ''},\n",
       " {'query': 'ผ่าฟันคุด หรือถอนฟันแล้ว ยังคงมีอาการปวดมากไม่หาย กินยาแก้ปวดก็ไม่หาย ซึ่งถ้าเป็นอาการของ กระดูกเบ้าฟันอักเสบ (Dry socket) จะต้องทำอย่างไร?',\n",
       "  'expected_lv1': 'อาการ/ภาวะแทรกซ้อน',\n",
       "  'predicted_lv1': 'อาการ/ภาวะแทรกซ้อน',\n",
       "  'correct_lv1': True,\n",
       "  'expected_lv2': 'pain',\n",
       "  'predicted_lv2': 'wound healing',\n",
       "  'correct_lv2': False,\n",
       "  'error': ''},\n",
       " {'query': 'แผลถอนฟันจะหายสนิทในเวลากี่วัน?',\n",
       "  'expected_lv1': 'อาการ/ภาวะแทรกซ้อน',\n",
       "  'predicted_lv1': 'อาการ/ภาวะแทรกซ้อน',\n",
       "  'correct_lv1': True,\n",
       "  'expected_lv2': 'wound healing',\n",
       "  'predicted_lv2': 'wound healing',\n",
       "  'correct_lv2': True,\n",
       "  'error': ''},\n",
       " {'query': 'แผลหลังถอนฟันหายนานแค่ไหน',\n",
       "  'expected_lv1': 'อาการ/ภาวะแทรกซ้อน',\n",
       "  'predicted_lv1': 'อาการ/ภาวะแทรกซ้อน',\n",
       "  'correct_lv1': True,\n",
       "  'expected_lv2': 'wound healing',\n",
       "  'predicted_lv2': 'wound healing',\n",
       "  'correct_lv2': True,\n",
       "  'error': ''},\n",
       " {'query': 'ถอนฟันกรามกี่วันหาย?',\n",
       "  'expected_lv1': 'อาการ/ภาวะแทรกซ้อน',\n",
       "  'predicted_lv1': 'อาการ/ภาวะแทรกซ้อน',\n",
       "  'correct_lv1': True,\n",
       "  'expected_lv2': 'wound healing',\n",
       "  'predicted_lv2': 'wound healing',\n",
       "  'correct_lv2': True,\n",
       "  'error': ''},\n",
       " {'query': 'ถ้าเป็นแผลผ่าฟันคุดต้องใช้เวลานานแค่ไหน กว่าแผลจะหายดี?',\n",
       "  'expected_lv1': 'อาการ/ภาวะแทรกซ้อน',\n",
       "  'predicted_lv1': 'อาการ/ภาวะแทรกซ้อน',\n",
       "  'correct_lv1': True,\n",
       "  'expected_lv2': 'wound healing',\n",
       "  'predicted_lv2': 'wound healing',\n",
       "  'correct_lv2': True,\n",
       "  'error': ''},\n",
       " {'query': 'หลังถอนฟันหรือผ่าฟันคุด ควรปฏิบัติตัวอย่างไร?',\n",
       "  'expected_lv1': 'การปฏิบัติตัวหลังทำหัตถการ',\n",
       "  'predicted_lv1': 'อาการ/ภาวะแทรกซ้อน',\n",
       "  'correct_lv1': False,\n",
       "  'expected_lv2': 'overall',\n",
       "  'predicted_lv2': 'wound healing',\n",
       "  'correct_lv2': False,\n",
       "  'error': ''},\n",
       " {'query': 'หลังถอนฟัน ควรปฏิบัติตัวอย่างไร?',\n",
       "  'expected_lv1': 'การปฏิบัติตัวหลังทำหัตถการ',\n",
       "  'predicted_lv1': 'อาการ/ภาวะแทรกซ้อน',\n",
       "  'correct_lv1': False,\n",
       "  'expected_lv2': 'overall',\n",
       "  'predicted_lv2': 'wound healing',\n",
       "  'correct_lv2': False,\n",
       "  'error': ''},\n",
       " {'query': 'ทำอย่างไรให้แผลถอนฟันหายเร็วขึ้น',\n",
       "  'expected_lv1': 'การปฏิบัติตัวหลังทำหัตถการ',\n",
       "  'predicted_lv1': 'อาการ/ภาวะแทรกซ้อน',\n",
       "  'correct_lv1': False,\n",
       "  'expected_lv2': 'overall',\n",
       "  'predicted_lv2': 'wound healing',\n",
       "  'correct_lv2': False,\n",
       "  'error': ''},\n",
       " {'query': 'ถอนฟันห้ามใช้หลอดกี่วัน?',\n",
       "  'expected_lv1': 'การปฏิบัติตัวหลังทำหัตถการ',\n",
       "  'predicted_lv1': 'อาการ/ภาวะแทรกซ้อน',\n",
       "  'correct_lv1': False,\n",
       "  'expected_lv2': 'drinking straw',\n",
       "  'predicted_lv2': 'wound healing',\n",
       "  'correct_lv2': False,\n",
       "  'error': ''},\n",
       " {'query': 'หลังการถอนฟันฉันสามารถดื่มน้ำด้วยหลอดได้หรือไม่',\n",
       "  'expected_lv1': 'การปฏิบัติตัวหลังทำหัตถการ',\n",
       "  'predicted_lv1': 'อาการ/ภาวะแทรกซ้อน',\n",
       "  'correct_lv1': False,\n",
       "  'expected_lv2': 'drinking straw',\n",
       "  'predicted_lv2': 'wound healing',\n",
       "  'correct_lv2': False,\n",
       "  'error': ''},\n",
       " {'query': 'สามารถใช้หลอดดื่มหลังถอนฟันได้หรือไม่',\n",
       "  'expected_lv1': 'การปฏิบัติตัวหลังทำหัตถการ',\n",
       "  'predicted_lv1': 'อาการ/ภาวะแทรกซ้อน',\n",
       "  'correct_lv1': False,\n",
       "  'expected_lv2': 'drinking straw',\n",
       "  'predicted_lv2': 'wound healing',\n",
       "  'correct_lv2': False,\n",
       "  'error': ''},\n",
       " {'query': 'ทำไมหลังถอนฟันแล้วดื่มน้ำโดยการใช้หลอดดูดน้ำไม่ได้',\n",
       "  'expected_lv1': 'การปฏิบัติตัวหลังทำหัตถการ',\n",
       "  'predicted_lv1': 'อาการ/ภาวะแทรกซ้อน',\n",
       "  'correct_lv1': False,\n",
       "  'expected_lv2': 'drinking straw',\n",
       "  'predicted_lv2': 'wound healing',\n",
       "  'correct_lv2': False,\n",
       "  'error': ''},\n",
       " {'query': 'ถอนฟันกินเหล้าได้ไหม?',\n",
       "  'expected_lv1': 'การปฏิบัติตัวหลังทำหัตถการ',\n",
       "  'predicted_lv1': 'อาการ/ภาวะแทรกซ้อน',\n",
       "  'correct_lv1': False,\n",
       "  'expected_lv2': 'alcohol',\n",
       "  'predicted_lv2': 'wound healing',\n",
       "  'correct_lv2': False,\n",
       "  'error': ''},\n",
       " {'query': 'ทำไมต้องงดออกกำลังกาย หลังการถอนฟัน  ',\n",
       "  'expected_lv1': 'การปฏิบัติตัวหลังทำหัตถการ',\n",
       "  'predicted_lv1': 'อาการ/ภาวะแทรกซ้อน',\n",
       "  'correct_lv1': False,\n",
       "  'expected_lv2': 'workout',\n",
       "  'predicted_lv2': 'wound healing',\n",
       "  'correct_lv2': False,\n",
       "  'error': ''},\n",
       " {'query': 'หลังถอนฟันกินข้าวได้ตอนไหน?',\n",
       "  'expected_lv1': 'การปฏิบัติตัวหลังทำหัตถการ',\n",
       "  'predicted_lv1': 'อาการ/ภาวะแทรกซ้อน',\n",
       "  'correct_lv1': False,\n",
       "  'expected_lv2': 'food',\n",
       "  'predicted_lv2': 'wound healing',\n",
       "  'correct_lv2': False,\n",
       "  'error': ''},\n",
       " {'query': 'หลังถอนฟัน ถ้าเลือดหยุดไหลแล้ว สามารถกินข้าวได้เลยมั้ย',\n",
       "  'expected_lv1': 'การปฏิบัติตัวหลังทำหัตถการ',\n",
       "  'predicted_lv1': 'อาการ/ภาวะแทรกซ้อน',\n",
       "  'correct_lv1': False,\n",
       "  'expected_lv2': 'food',\n",
       "  'predicted_lv2': 'wound healing',\n",
       "  'correct_lv2': False,\n",
       "  'error': ''},\n",
       " {'query': 'หลังถอนฟันสามารถกินอะไรได้บ้าง',\n",
       "  'expected_lv1': 'การปฏิบัติตัวหลังทำหัตถการ',\n",
       "  'predicted_lv1': 'อาการ/ภาวะแทรกซ้อน',\n",
       "  'correct_lv1': False,\n",
       "  'expected_lv2': 'food',\n",
       "  'predicted_lv2': 'wound healing',\n",
       "  'correct_lv2': False,\n",
       "  'error': ''},\n",
       " {'query': 'อาหารอ่อนที่ดีต่อการฟื้นตัวหลังการถอนฟัน',\n",
       "  'expected_lv1': 'การปฏิบัติตัวหลังทำหัตถการ',\n",
       "  'predicted_lv1': 'อาการ/ภาวะแทรกซ้อน',\n",
       "  'correct_lv1': False,\n",
       "  'expected_lv2': 'food',\n",
       "  'predicted_lv2': 'wound healing',\n",
       "  'correct_lv2': False,\n",
       "  'error': ''},\n",
       " {'query': 'อาหารที่ทานได้ทันทีหลังการถอนฟัน',\n",
       "  'expected_lv1': 'การปฏิบัติตัวหลังทำหัตถการ',\n",
       "  'predicted_lv1': 'อาการ/ภาวะแทรกซ้อน',\n",
       "  'correct_lv1': False,\n",
       "  'expected_lv2': 'food',\n",
       "  'predicted_lv2': 'wound healing',\n",
       "  'correct_lv2': False,\n",
       "  'error': ''},\n",
       " {'query': 'ถอนฟัน ห้ามกินอะไร?',\n",
       "  'expected_lv1': 'การปฏิบัติตัวหลังทำหัตถการ',\n",
       "  'predicted_lv1': 'อาการ/ภาวะแทรกซ้อน',\n",
       "  'correct_lv1': False,\n",
       "  'expected_lv2': 'food',\n",
       "  'predicted_lv2': 'wound healing',\n",
       "  'correct_lv2': False,\n",
       "  'error': ''},\n",
       " {'query': 'ห้ามกินอะไรหลังถอนฟันบ้าง\\xa0\\xa0',\n",
       "  'expected_lv1': 'การปฏิบัติตัวหลังทำหัตถการ',\n",
       "  'predicted_lv1': 'อาการ/ภาวะแทรกซ้อน',\n",
       "  'correct_lv1': False,\n",
       "  'expected_lv2': 'food',\n",
       "  'predicted_lv2': 'wound healing',\n",
       "  'correct_lv2': False,\n",
       "  'error': ''},\n",
       " {'query': 'หลังถอนฟันควรหลีกเลี่ยงการกินอะไรบ้าง',\n",
       "  'expected_lv1': 'การปฏิบัติตัวหลังทำหัตถการ',\n",
       "  'predicted_lv1': 'อาการ/ภาวะแทรกซ้อน',\n",
       "  'correct_lv1': False,\n",
       "  'expected_lv2': 'food',\n",
       "  'predicted_lv2': 'wound healing',\n",
       "  'correct_lv2': False,\n",
       "  'error': ''},\n",
       " {'query': 'หลังถอนฟันห้ามกินไข่ จริงหรือ?',\n",
       "  'expected_lv1': 'การปฏิบัติตัวหลังทำหัตถการ',\n",
       "  'predicted_lv1': 'อาการ/ภาวะแทรกซ้อน',\n",
       "  'correct_lv1': False,\n",
       "  'expected_lv2': 'food',\n",
       "  'predicted_lv2': 'wound healing',\n",
       "  'correct_lv2': False,\n",
       "  'error': ''},\n",
       " {'query': 'ฉันสามารถรับประทานอาหารที่แข็งหลังการถอนฟันได้ทันทีหรือไม่',\n",
       "  'expected_lv1': 'การปฏิบัติตัวหลังทำหัตถการ',\n",
       "  'predicted_lv1': 'อาการ/ภาวะแทรกซ้อน',\n",
       "  'correct_lv1': False,\n",
       "  'expected_lv2': 'food',\n",
       "  'predicted_lv2': 'wound healing',\n",
       "  'correct_lv2': False,\n",
       "  'error': ''},\n",
       " {'query': 'หลังถอนฟันแล้ว ใช้น้ำยาบ้วนปากได้มั้ย',\n",
       "  'expected_lv1': 'การปฏิบัติตัวหลังทำหัตถการ',\n",
       "  'predicted_lv1': 'อาการ/ภาวะแทรกซ้อน',\n",
       "  'correct_lv1': False,\n",
       "  'expected_lv2': 'oral hygiene',\n",
       "  'predicted_lv2': 'wound healing',\n",
       "  'correct_lv2': False,\n",
       "  'error': ''}]"
      ]
     },
     "execution_count": 25,
     "metadata": {},
     "output_type": "execute_result"
    }
   ],
   "source": [
    "results"
   ]
  },
  {
   "cell_type": "code",
   "execution_count": 4,
   "id": "a58eb9ab",
   "metadata": {},
   "outputs": [],
   "source": [
    "import pandas as pd\n",
    "\n",
    "# สมมุติว่า results เป็น list ของ dictionary\n",
    "results_df4 = pd.DataFrame(results)\n",
    "\n",
    "# แล้วค่อยบันทึกเป็น Excel\n",
    "results_df4.to_excel(\"results_category_11_7.xlsx\", index=False)\n",
    "\n"
   ]
  },
  {
   "cell_type": "code",
   "execution_count": 5,
   "id": "9f733049",
   "metadata": {},
   "outputs": [
    {
     "name": "stderr",
     "output_type": "stream",
     "text": [
      "  0%|          | 0/15 [00:00<?, ?it/s]"
     ]
    },
    {
     "name": "stdout",
     "output_type": "stream",
     "text": [
      "START PIPELINE\n",
      "Step 1: Clarity Check\n"
     ]
    },
    {
     "name": "stderr",
     "output_type": "stream",
     "text": [
      "  7%|▋         | 1/15 [00:05<01:13,  5.28s/it]"
     ]
    },
    {
     "name": "stdout",
     "output_type": "stream",
     "text": [
      "Clarity Result: clarification_needed=True reason='ไม่มีบริบททางทันตกรรม'\n",
      "should_terminate? True\n",
      "TERMINATE after Clarity\n",
      "START PIPELINE\n",
      "Step 1: Clarity Check\n"
     ]
    },
    {
     "name": "stderr",
     "output_type": "stream",
     "text": [
      " 13%|█▎        | 2/15 [00:18<02:10, 10.05s/it]"
     ]
    },
    {
     "name": "stdout",
     "output_type": "stream",
     "text": [
      "Clarity Result: clarification_needed=True reason='ไม่มีเจตนาถาม'\n",
      "should_terminate? True\n",
      "TERMINATE after Clarity\n",
      "START PIPELINE\n",
      "Step 1: Clarity Check\n"
     ]
    },
    {
     "name": "stderr",
     "output_type": "stream",
     "text": [
      " 20%|██        | 3/15 [00:34<02:33, 12.75s/it]"
     ]
    },
    {
     "name": "stdout",
     "output_type": "stream",
     "text": [
      "Clarity Result: clarification_needed=True reason='ไม่ระบุประเภทของหัตถการ เช่น ถอนฟัน ผ่าฟันคุด'\n",
      "should_terminate? True\n",
      "TERMINATE after Clarity\n",
      "START PIPELINE\n",
      "Step 1: Clarity Check\n"
     ]
    },
    {
     "name": "stderr",
     "output_type": "stream",
     "text": [
      " 27%|██▋       | 4/15 [00:44<02:08, 11.66s/it]"
     ]
    },
    {
     "name": "stdout",
     "output_type": "stream",
     "text": [
      "Clarity Result: clarification_needed=True reason='ไม่ระบุประเภทของหัตถการ เช่น ถอนฟัน ผ่าฟันคุด ฯลฯ'\n",
      "should_terminate? True\n",
      "TERMINATE after Clarity\n",
      "START PIPELINE\n",
      "Step 1: Clarity Check\n"
     ]
    },
    {
     "name": "stderr",
     "output_type": "stream",
     "text": [
      " 33%|███▎      | 5/15 [00:47<01:24,  8.41s/it]"
     ]
    },
    {
     "name": "stdout",
     "output_type": "stream",
     "text": [
      "Clarity Result: clarification_needed=True reason='ไม่มีเจตนาถาม'\n",
      "should_terminate? True\n",
      "TERMINATE after Clarity\n",
      "START PIPELINE\n",
      "Step 1: Clarity Check\n"
     ]
    },
    {
     "name": "stderr",
     "output_type": "stream",
     "text": [
      " 40%|████      | 6/15 [00:58<01:23,  9.24s/it]"
     ]
    },
    {
     "name": "stdout",
     "output_type": "stream",
     "text": [
      "Clarity Result: clarification_needed=True reason='ไม่ระบุประเภทของหัตถการ เช่น ถอนฟัน ผ่าฟันคุด'\n",
      "should_terminate? True\n",
      "TERMINATE after Clarity\n",
      "START PIPELINE\n",
      "Step 1: Clarity Check\n"
     ]
    },
    {
     "name": "stderr",
     "output_type": "stream",
     "text": [
      " 47%|████▋     | 7/15 [01:09<01:18,  9.87s/it]"
     ]
    },
    {
     "name": "stdout",
     "output_type": "stream",
     "text": [
      "Clarity Result: clarification_needed=True reason='ไม่ระบุประเภทของหัตถการ เช่น ถอนฟัน ผ่าฟันคุด'\n",
      "should_terminate? True\n",
      "TERMINATE after Clarity\n",
      "START PIPELINE\n",
      "Step 1: Clarity Check\n"
     ]
    },
    {
     "name": "stderr",
     "output_type": "stream",
     "text": [
      " 53%|█████▎    | 8/15 [01:20<01:11, 10.17s/it]"
     ]
    },
    {
     "name": "stdout",
     "output_type": "stream",
     "text": [
      "Clarity Result: clarification_needed=True reason='ไม่มีเจตนาถาม'\n",
      "should_terminate? True\n",
      "TERMINATE after Clarity\n",
      "START PIPELINE\n",
      "Step 1: Clarity Check\n"
     ]
    },
    {
     "name": "stderr",
     "output_type": "stream",
     "text": [
      " 60%|██████    | 9/15 [01:31<01:03, 10.55s/it]"
     ]
    },
    {
     "name": "stdout",
     "output_type": "stream",
     "text": [
      "Clarity Result: clarification_needed=True reason='ไม่มีเจตนาถาม'\n",
      "should_terminate? True\n",
      "TERMINATE after Clarity\n",
      "START PIPELINE\n",
      "Step 1: Clarity Check\n"
     ]
    },
    {
     "name": "stderr",
     "output_type": "stream",
     "text": [
      " 67%|██████▋   | 10/15 [01:42<00:53, 10.76s/it]"
     ]
    },
    {
     "name": "stdout",
     "output_type": "stream",
     "text": [
      "Clarity Result: clarification_needed=True reason='ไม่ระบุประเภทของหัตถการ เช่น ถอนฟัน ผ่าฟันคุด'\n",
      "should_terminate? True\n",
      "TERMINATE after Clarity\n",
      "START PIPELINE\n",
      "Step 1: Clarity Check\n"
     ]
    },
    {
     "name": "stderr",
     "output_type": "stream",
     "text": [
      " 73%|███████▎  | 11/15 [01:55<00:45, 11.35s/it]"
     ]
    },
    {
     "name": "stdout",
     "output_type": "stream",
     "text": [
      "Clarity Result: clarification_needed=True reason='ไม่ระบุประเภทของหัตถการ เช่น ถอนฟัน ผ่าฟันคุด'\n",
      "should_terminate? True\n",
      "TERMINATE after Clarity\n",
      "START PIPELINE\n",
      "Step 1: Clarity Check\n"
     ]
    },
    {
     "name": "stderr",
     "output_type": "stream",
     "text": [
      " 80%|████████  | 12/15 [02:15<00:41, 13.86s/it]"
     ]
    },
    {
     "name": "stdout",
     "output_type": "stream",
     "text": [
      "Clarity Result: clarification_needed=True reason='ไม่มีบริบททางทันตกรรม'\n",
      "should_terminate? True\n",
      "TERMINATE after Clarity\n",
      "START PIPELINE\n",
      "Step 1: Clarity Check\n"
     ]
    },
    {
     "name": "stderr",
     "output_type": "stream",
     "text": [
      " 87%|████████▋ | 13/15 [02:27<00:26, 13.33s/it]"
     ]
    },
    {
     "name": "stdout",
     "output_type": "stream",
     "text": [
      "Clarity Result: clarification_needed=True reason='ไม่มีเจตนาถาม'\n",
      "should_terminate? True\n",
      "TERMINATE after Clarity\n",
      "START PIPELINE\n",
      "Step 1: Clarity Check\n"
     ]
    },
    {
     "name": "stderr",
     "output_type": "stream",
     "text": [
      " 93%|█████████▎| 14/15 [02:35<00:11, 11.87s/it]"
     ]
    },
    {
     "name": "stdout",
     "output_type": "stream",
     "text": [
      "Clarity Result: clarification_needed=True reason='ไม่มีเจตนาถาม'\n",
      "should_terminate? True\n",
      "TERMINATE after Clarity\n",
      "START PIPELINE\n",
      "Step 1: Clarity Check\n"
     ]
    },
    {
     "name": "stderr",
     "output_type": "stream",
     "text": [
      "100%|██████████| 15/15 [02:42<00:00, 10.83s/it]"
     ]
    },
    {
     "name": "stdout",
     "output_type": "stream",
     "text": [
      "Clarity Result: clarification_needed=True reason='ไม่ระบุประเภทของหัตถการ เช่น ถอนฟัน ผ่าฟันคุด ฯลฯ'\n",
      "should_terminate? True\n",
      "TERMINATE after Clarity\n"
     ]
    },
    {
     "name": "stderr",
     "output_type": "stream",
     "text": [
      "\n"
     ]
    }
   ],
   "source": [
    "from tqdm import tqdm\n",
    "import pandas as pd\n",
    "\n",
    "df = pd.read_excel(\"question_clari_test.xlsx\")\n",
    "df.columns = df.columns.str.strip()\n",
    "df[\"clarification_needed_expected\"] = True\n",
    "results_clari = []\n",
    "\n",
    "for _, row in tqdm(df.iterrows(), total=len(df)):\n",
    "    query = row[\"question\"]\n",
    "    expected_clarification = row[\"clarification_needed_expected\"]\n",
    "\n",
    "    try:\n",
    "        initial_state = AgentState(user_query=query)\n",
    "        state = graph.invoke(initial_state)\n",
    "        state_obj = AgentState(**state)\n",
    "\n",
    "        # ✅ ดึงผลลัพธ์จาก state\n",
    "        predicted_clarification = getattr(state_obj.classification_result, \"clarification_needed\", None)\n",
    "        clarification_reason = getattr(state_obj.classification_result, \"clarification_reason\", \"\")\n",
    "        out_of_domain = getattr(state_obj.classification_result, \"out_of_domain\", None)\n",
    "        out_of_domain_reason = getattr(state_obj.classification_result, \"out_of_domain_reason\", \"\")\n",
    "\n",
    "        correct_clarification = predicted_clarification == expected_clarification\n",
    "\n",
    "        latency = state_obj.latency or {}\n",
    "        total_latency = round(sum(v for k, v in latency.items() if isinstance(v, float)), 3)\n",
    "\n",
    "        # ✅ เพิ่ม note เฉพาะกรณี out_of_domain=True\n",
    "        note = \"\"\n",
    "        if out_of_domain is True:\n",
    "            note = f\"out_of_domain = True, reason: {out_of_domain_reason}\"\n",
    "\n",
    "        results_clari.append({\n",
    "            \"query\": query,\n",
    "            \"expected_clarification\": expected_clarification,\n",
    "            \"predicted_clarification\": predicted_clarification,\n",
    "            \"correct_clarification\": correct_clarification,\n",
    "            \"clarification_reason\": clarification_reason,\n",
    "            \"latency_clarification\": latency.get(\"clarification\"),\n",
    "            \"tokens_clarification\": latency.get(\"tokens_clarification\"),\n",
    "            \"total_latency\": total_latency,\n",
    "            \"note\": note,\n",
    "            \"error\": \"\"\n",
    "        })\n",
    "\n",
    "    except Exception as e:\n",
    "        results_clari.append({\n",
    "            \"query\": query,\n",
    "            \"expected_clarification\": expected_clarification,\n",
    "            \"predicted_clarification\": \"\",\n",
    "            \"correct_clarification\": False,\n",
    "            \"clarification_reason\": \"\",\n",
    "            \"latency_clarification\": None,\n",
    "            \"tokens_clarification\": None,\n",
    "            \"total_latency\": None,\n",
    "            \"note\": \"\",\n",
    "            \"error\": str(e)\n",
    "        })\n"
   ]
  },
  {
   "cell_type": "code",
   "execution_count": 15,
   "id": "2a64d8b0",
   "metadata": {},
   "outputs": [
    {
     "data": {
      "text/plain": [
       "[{'query': 'ต้องพักกี่วันถึงจะหายดี',\n",
       "  'expected_clarification': True,\n",
       "  'predicted_clarification': None,\n",
       "  'correct_clarification': False,\n",
       "  'clarification_reason': '',\n",
       "  'latency_clarification': None,\n",
       "  'tokens_clarification': None,\n",
       "  'total_latency': 24.04,\n",
       "  'note': 'out_of_domain = True, reason: ',\n",
       "  'error': ''},\n",
       " {'query': 'ยังมีเลือดซึมอยู่นิดหน่อย',\n",
       "  'expected_clarification': True,\n",
       "  'predicted_clarification': True,\n",
       "  'correct_clarification': True,\n",
       "  'clarification_reason': '',\n",
       "  'latency_clarification': 9.536,\n",
       "  'tokens_clarification': 26.0,\n",
       "  'total_latency': 74.97,\n",
       "  'note': '',\n",
       "  'error': ''},\n",
       " {'query': 'กินเผ็ดได้ไหมคะ',\n",
       "  'expected_clarification': True,\n",
       "  'predicted_clarification': None,\n",
       "  'correct_clarification': False,\n",
       "  'clarification_reason': '',\n",
       "  'latency_clarification': None,\n",
       "  'tokens_clarification': None,\n",
       "  'total_latency': 17.241,\n",
       "  'note': 'out_of_domain = True, reason: ',\n",
       "  'error': ''},\n",
       " {'query': 'ทำไมยังบวมอยู่',\n",
       "  'expected_clarification': True,\n",
       "  'predicted_clarification': True,\n",
       "  'correct_clarification': True,\n",
       "  'clarification_reason': '',\n",
       "  'latency_clarification': 2.305,\n",
       "  'tokens_clarification': 13.0,\n",
       "  'total_latency': 37.036,\n",
       "  'note': '',\n",
       "  'error': ''},\n",
       " {'query': 'ยังปวดตุบ ๆ อยู่เลย',\n",
       "  'expected_clarification': True,\n",
       "  'predicted_clarification': True,\n",
       "  'correct_clarification': True,\n",
       "  'clarification_reason': '',\n",
       "  'latency_clarification': 12.094,\n",
       "  'tokens_clarification': 20.0,\n",
       "  'total_latency': 64.516,\n",
       "  'note': '',\n",
       "  'error': ''},\n",
       " {'query': 'ยาชาหมดฤทธิ์กี่โมงคะ',\n",
       "  'expected_clarification': True,\n",
       "  'predicted_clarification': False,\n",
       "  'correct_clarification': False,\n",
       "  'clarification_reason': '',\n",
       "  'latency_clarification': 11.928,\n",
       "  'tokens_clarification': 22.0,\n",
       "  'total_latency': 87.726,\n",
       "  'note': '',\n",
       "  'error': ''},\n",
       " {'query': 'ออกกำลังกายได้หรือยัง',\n",
       "  'expected_clarification': True,\n",
       "  'predicted_clarification': None,\n",
       "  'correct_clarification': False,\n",
       "  'clarification_reason': '',\n",
       "  'latency_clarification': None,\n",
       "  'tokens_clarification': None,\n",
       "  'total_latency': 30.47,\n",
       "  'note': 'out_of_domain = True, reason: ',\n",
       "  'error': ''},\n",
       " {'query': 'ต้องทำยังไงดีคะ',\n",
       "  'expected_clarification': True,\n",
       "  'predicted_clarification': None,\n",
       "  'correct_clarification': False,\n",
       "  'clarification_reason': '',\n",
       "  'latency_clarification': None,\n",
       "  'tokens_clarification': None,\n",
       "  'total_latency': 21.009,\n",
       "  'note': 'out_of_domain = True, reason: ',\n",
       "  'error': ''},\n",
       " {'query': 'ยังเคี้ยวข้าวไม่ได้เลย',\n",
       "  'expected_clarification': True,\n",
       "  'predicted_clarification': None,\n",
       "  'correct_clarification': False,\n",
       "  'clarification_reason': '',\n",
       "  'latency_clarification': None,\n",
       "  'tokens_clarification': None,\n",
       "  'total_latency': 24.022,\n",
       "  'note': 'out_of_domain = True, reason: ',\n",
       "  'error': ''},\n",
       " {'query': 'ใช้หลอดดูดน้ำได้ไหม',\n",
       "  'expected_clarification': True,\n",
       "  'predicted_clarification': False,\n",
       "  'correct_clarification': False,\n",
       "  'clarification_reason': '',\n",
       "  'latency_clarification': 6.384,\n",
       "  'tokens_clarification': 19.0,\n",
       "  'total_latency': 76.159,\n",
       "  'note': '',\n",
       "  'error': ''},\n",
       " {'query': 'เมื่อไหร่ยาจะหมดฤทธิ์',\n",
       "  'expected_clarification': True,\n",
       "  'predicted_clarification': True,\n",
       "  'correct_clarification': True,\n",
       "  'clarification_reason': '',\n",
       "  'latency_clarification': 19.974,\n",
       "  'tokens_clarification': 22.0,\n",
       "  'total_latency': 68.067,\n",
       "  'note': '',\n",
       "  'error': ''},\n",
       " {'query': 'นอนหมอนสูงดีไหม',\n",
       "  'expected_clarification': True,\n",
       "  'predicted_clarification': None,\n",
       "  'correct_clarification': False,\n",
       "  'clarification_reason': '',\n",
       "  'latency_clarification': None,\n",
       "  'tokens_clarification': None,\n",
       "  'total_latency': 18.331,\n",
       "  'note': 'out_of_domain = True, reason: ',\n",
       "  'error': ''},\n",
       " {'query': 'ยังกลืนไม่ค่อยได้',\n",
       "  'expected_clarification': True,\n",
       "  'predicted_clarification': None,\n",
       "  'correct_clarification': False,\n",
       "  'clarification_reason': '',\n",
       "  'latency_clarification': None,\n",
       "  'tokens_clarification': None,\n",
       "  'total_latency': 35.189,\n",
       "  'note': 'out_of_domain = True, reason: ',\n",
       "  'error': ''},\n",
       " {'query': 'กังวลว่าจะติดเชื้อ',\n",
       "  'expected_clarification': True,\n",
       "  'predicted_clarification': None,\n",
       "  'correct_clarification': False,\n",
       "  'clarification_reason': '',\n",
       "  'latency_clarification': None,\n",
       "  'tokens_clarification': None,\n",
       "  'total_latency': 19.958,\n",
       "  'note': 'out_of_domain = True, reason: ',\n",
       "  'error': ''},\n",
       " {'query': 'ต้องไปหาหมออีกทีเมื่อไหร่',\n",
       "  'expected_clarification': True,\n",
       "  'predicted_clarification': None,\n",
       "  'correct_clarification': False,\n",
       "  'clarification_reason': '',\n",
       "  'latency_clarification': None,\n",
       "  'tokens_clarification': None,\n",
       "  'total_latency': 33.585,\n",
       "  'note': 'out_of_domain = True, reason: ',\n",
       "  'error': ''}]"
      ]
     },
     "execution_count": 15,
     "metadata": {},
     "output_type": "execute_result"
    }
   ],
   "source": [
    "results_clari"
   ]
  },
  {
   "cell_type": "code",
   "execution_count": 6,
   "id": "51e5e0ea",
   "metadata": {},
   "outputs": [],
   "source": [
    "import pandas as pd\n",
    "\n",
    "# สมมุติว่า results เป็น list ของ dictionary\n",
    "results_clari = pd.DataFrame(results_clari)\n",
    "\n",
    "# แล้วค่อยบันทึกเป็น Excel\n",
    "results_clari.to_excel(\"results_clari_11_7.xlsx\", index=False)"
   ]
  },
  {
   "cell_type": "code",
   "execution_count": 8,
   "id": "270e45f6",
   "metadata": {},
   "outputs": [
    {
     "name": "stderr",
     "output_type": "stream",
     "text": [
      "  0%|          | 0/20 [00:00<?, ?it/s]\n"
     ]
    },
    {
     "ename": "KeyError",
     "evalue": "'category_level1'",
     "output_type": "error",
     "traceback": [
      "\u001b[1;31m---------------------------------------------------------------------------\u001b[0m",
      "\u001b[1;31mKeyError\u001b[0m                                  Traceback (most recent call last)",
      "File \u001b[1;32mc:\\Users\\fahpatcha\\anaconda3\\envs\\langchain_env\\lib\\site-packages\\pandas\\core\\indexes\\base.py:3805\u001b[0m, in \u001b[0;36mIndex.get_loc\u001b[1;34m(self, key)\u001b[0m\n\u001b[0;32m   3804\u001b[0m \u001b[38;5;28;01mtry\u001b[39;00m:\n\u001b[1;32m-> 3805\u001b[0m     \u001b[38;5;28;01mreturn\u001b[39;00m \u001b[38;5;28;43mself\u001b[39;49m\u001b[38;5;241;43m.\u001b[39;49m\u001b[43m_engine\u001b[49m\u001b[38;5;241;43m.\u001b[39;49m\u001b[43mget_loc\u001b[49m\u001b[43m(\u001b[49m\u001b[43mcasted_key\u001b[49m\u001b[43m)\u001b[49m\n\u001b[0;32m   3806\u001b[0m \u001b[38;5;28;01mexcept\u001b[39;00m \u001b[38;5;167;01mKeyError\u001b[39;00m \u001b[38;5;28;01mas\u001b[39;00m err:\n",
      "File \u001b[1;32mindex.pyx:167\u001b[0m, in \u001b[0;36mpandas._libs.index.IndexEngine.get_loc\u001b[1;34m()\u001b[0m\n",
      "File \u001b[1;32mindex.pyx:196\u001b[0m, in \u001b[0;36mpandas._libs.index.IndexEngine.get_loc\u001b[1;34m()\u001b[0m\n",
      "File \u001b[1;32mpandas\\\\_libs\\\\hashtable_class_helper.pxi:7081\u001b[0m, in \u001b[0;36mpandas._libs.hashtable.PyObjectHashTable.get_item\u001b[1;34m()\u001b[0m\n",
      "File \u001b[1;32mpandas\\\\_libs\\\\hashtable_class_helper.pxi:7089\u001b[0m, in \u001b[0;36mpandas._libs.hashtable.PyObjectHashTable.get_item\u001b[1;34m()\u001b[0m\n",
      "\u001b[1;31mKeyError\u001b[0m: 'category_level1'",
      "\nThe above exception was the direct cause of the following exception:\n",
      "\u001b[1;31mKeyError\u001b[0m                                  Traceback (most recent call last)",
      "Cell \u001b[1;32mIn[8], line 117\u001b[0m\n\u001b[0;32m    114\u001b[0m     \u001b[38;5;28mprint\u001b[39m(\u001b[38;5;124m\"\u001b[39m\u001b[38;5;124m✅ Evaluation completed and saved to evaluation_results.csv\u001b[39m\u001b[38;5;124m\"\u001b[39m)\n\u001b[0;32m    116\u001b[0m \u001b[38;5;28;01mif\u001b[39;00m \u001b[38;5;18m__name__\u001b[39m \u001b[38;5;241m==\u001b[39m \u001b[38;5;124m\"\u001b[39m\u001b[38;5;124m__main__\u001b[39m\u001b[38;5;124m\"\u001b[39m:\n\u001b[1;32m--> 117\u001b[0m     \u001b[43masyncio\u001b[49m\u001b[38;5;241;43m.\u001b[39;49m\u001b[43mrun\u001b[49m\u001b[43m(\u001b[49m\u001b[43mmain\u001b[49m\u001b[43m(\u001b[49m\u001b[43m)\u001b[49m\u001b[43m)\u001b[49m\n",
      "File \u001b[1;32m~\\AppData\\Roaming\\Python\\Python39\\site-packages\\nest_asyncio.py:30\u001b[0m, in \u001b[0;36m_patch_asyncio.<locals>.run\u001b[1;34m(main, debug)\u001b[0m\n\u001b[0;32m     28\u001b[0m task \u001b[38;5;241m=\u001b[39m asyncio\u001b[38;5;241m.\u001b[39mensure_future(main)\n\u001b[0;32m     29\u001b[0m \u001b[38;5;28;01mtry\u001b[39;00m:\n\u001b[1;32m---> 30\u001b[0m     \u001b[38;5;28;01mreturn\u001b[39;00m \u001b[43mloop\u001b[49m\u001b[38;5;241;43m.\u001b[39;49m\u001b[43mrun_until_complete\u001b[49m\u001b[43m(\u001b[49m\u001b[43mtask\u001b[49m\u001b[43m)\u001b[49m\n\u001b[0;32m     31\u001b[0m \u001b[38;5;28;01mfinally\u001b[39;00m:\n\u001b[0;32m     32\u001b[0m     \u001b[38;5;28;01mif\u001b[39;00m \u001b[38;5;129;01mnot\u001b[39;00m task\u001b[38;5;241m.\u001b[39mdone():\n",
      "File \u001b[1;32m~\\AppData\\Roaming\\Python\\Python39\\site-packages\\nest_asyncio.py:98\u001b[0m, in \u001b[0;36m_patch_loop.<locals>.run_until_complete\u001b[1;34m(self, future)\u001b[0m\n\u001b[0;32m     95\u001b[0m \u001b[38;5;28;01mif\u001b[39;00m \u001b[38;5;129;01mnot\u001b[39;00m f\u001b[38;5;241m.\u001b[39mdone():\n\u001b[0;32m     96\u001b[0m     \u001b[38;5;28;01mraise\u001b[39;00m \u001b[38;5;167;01mRuntimeError\u001b[39;00m(\n\u001b[0;32m     97\u001b[0m         \u001b[38;5;124m'\u001b[39m\u001b[38;5;124mEvent loop stopped before Future completed.\u001b[39m\u001b[38;5;124m'\u001b[39m)\n\u001b[1;32m---> 98\u001b[0m \u001b[38;5;28;01mreturn\u001b[39;00m \u001b[43mf\u001b[49m\u001b[38;5;241;43m.\u001b[39;49m\u001b[43mresult\u001b[49m\u001b[43m(\u001b[49m\u001b[43m)\u001b[49m\n",
      "File \u001b[1;32mc:\\Users\\fahpatcha\\anaconda3\\envs\\langchain_env\\lib\\asyncio\\futures.py:201\u001b[0m, in \u001b[0;36mFuture.result\u001b[1;34m(self)\u001b[0m\n\u001b[0;32m    199\u001b[0m \u001b[38;5;28mself\u001b[39m\u001b[38;5;241m.\u001b[39m__log_traceback \u001b[38;5;241m=\u001b[39m \u001b[38;5;28;01mFalse\u001b[39;00m\n\u001b[0;32m    200\u001b[0m \u001b[38;5;28;01mif\u001b[39;00m \u001b[38;5;28mself\u001b[39m\u001b[38;5;241m.\u001b[39m_exception \u001b[38;5;129;01mis\u001b[39;00m \u001b[38;5;129;01mnot\u001b[39;00m \u001b[38;5;28;01mNone\u001b[39;00m:\n\u001b[1;32m--> 201\u001b[0m     \u001b[38;5;28;01mraise\u001b[39;00m \u001b[38;5;28mself\u001b[39m\u001b[38;5;241m.\u001b[39m_exception\n\u001b[0;32m    202\u001b[0m \u001b[38;5;28;01mreturn\u001b[39;00m \u001b[38;5;28mself\u001b[39m\u001b[38;5;241m.\u001b[39m_result\n",
      "File \u001b[1;32mc:\\Users\\fahpatcha\\anaconda3\\envs\\langchain_env\\lib\\asyncio\\tasks.py:256\u001b[0m, in \u001b[0;36mTask.__step\u001b[1;34m(***failed resolving arguments***)\u001b[0m\n\u001b[0;32m    252\u001b[0m \u001b[38;5;28;01mtry\u001b[39;00m:\n\u001b[0;32m    253\u001b[0m     \u001b[38;5;28;01mif\u001b[39;00m exc \u001b[38;5;129;01mis\u001b[39;00m \u001b[38;5;28;01mNone\u001b[39;00m:\n\u001b[0;32m    254\u001b[0m         \u001b[38;5;66;03m# We use the `send` method directly, because coroutines\u001b[39;00m\n\u001b[0;32m    255\u001b[0m         \u001b[38;5;66;03m# don't have `__iter__` and `__next__` methods.\u001b[39;00m\n\u001b[1;32m--> 256\u001b[0m         result \u001b[38;5;241m=\u001b[39m \u001b[43mcoro\u001b[49m\u001b[38;5;241;43m.\u001b[39;49m\u001b[43msend\u001b[49m\u001b[43m(\u001b[49m\u001b[38;5;28;43;01mNone\u001b[39;49;00m\u001b[43m)\u001b[49m\n\u001b[0;32m    257\u001b[0m     \u001b[38;5;28;01melse\u001b[39;00m:\n\u001b[0;32m    258\u001b[0m         result \u001b[38;5;241m=\u001b[39m coro\u001b[38;5;241m.\u001b[39mthrow(exc)\n",
      "Cell \u001b[1;32mIn[8], line 107\u001b[0m, in \u001b[0;36mmain\u001b[1;34m()\u001b[0m\n\u001b[0;32m    105\u001b[0m \u001b[38;5;28;01mfor\u001b[39;00m _, row \u001b[38;5;129;01min\u001b[39;00m tqdm(df\u001b[38;5;241m.\u001b[39miterrows(), total\u001b[38;5;241m=\u001b[39m\u001b[38;5;28mlen\u001b[39m(df)):\n\u001b[0;32m    106\u001b[0m     query \u001b[38;5;241m=\u001b[39m row[\u001b[38;5;124m\"\u001b[39m\u001b[38;5;124mquestion\u001b[39m\u001b[38;5;124m\"\u001b[39m]\n\u001b[1;32m--> 107\u001b[0m     expected_lv1 \u001b[38;5;241m=\u001b[39m \u001b[43mrow\u001b[49m\u001b[43m[\u001b[49m\u001b[38;5;124;43m\"\u001b[39;49m\u001b[38;5;124;43mcategory_level1\u001b[39;49m\u001b[38;5;124;43m\"\u001b[39;49m\u001b[43m]\u001b[49m\n\u001b[0;32m    108\u001b[0m     expected_lv2 \u001b[38;5;241m=\u001b[39m row[\u001b[38;5;124m\"\u001b[39m\u001b[38;5;124mcategory_level2\u001b[39m\u001b[38;5;124m\"\u001b[39m]\n\u001b[0;32m    109\u001b[0m     res \u001b[38;5;241m=\u001b[39m \u001b[38;5;28;01mawait\u001b[39;00m process_query(query, expected_lv1, expected_lv2)\n",
      "File \u001b[1;32mc:\\Users\\fahpatcha\\anaconda3\\envs\\langchain_env\\lib\\site-packages\\pandas\\core\\series.py:1121\u001b[0m, in \u001b[0;36mSeries.__getitem__\u001b[1;34m(self, key)\u001b[0m\n\u001b[0;32m   1118\u001b[0m     \u001b[38;5;28;01mreturn\u001b[39;00m \u001b[38;5;28mself\u001b[39m\u001b[38;5;241m.\u001b[39m_values[key]\n\u001b[0;32m   1120\u001b[0m \u001b[38;5;28;01melif\u001b[39;00m key_is_scalar:\n\u001b[1;32m-> 1121\u001b[0m     \u001b[38;5;28;01mreturn\u001b[39;00m \u001b[38;5;28;43mself\u001b[39;49m\u001b[38;5;241;43m.\u001b[39;49m\u001b[43m_get_value\u001b[49m\u001b[43m(\u001b[49m\u001b[43mkey\u001b[49m\u001b[43m)\u001b[49m\n\u001b[0;32m   1123\u001b[0m \u001b[38;5;66;03m# Convert generator to list before going through hashable part\u001b[39;00m\n\u001b[0;32m   1124\u001b[0m \u001b[38;5;66;03m# (We will iterate through the generator there to check for slices)\u001b[39;00m\n\u001b[0;32m   1125\u001b[0m \u001b[38;5;28;01mif\u001b[39;00m is_iterator(key):\n",
      "File \u001b[1;32mc:\\Users\\fahpatcha\\anaconda3\\envs\\langchain_env\\lib\\site-packages\\pandas\\core\\series.py:1237\u001b[0m, in \u001b[0;36mSeries._get_value\u001b[1;34m(self, label, takeable)\u001b[0m\n\u001b[0;32m   1234\u001b[0m     \u001b[38;5;28;01mreturn\u001b[39;00m \u001b[38;5;28mself\u001b[39m\u001b[38;5;241m.\u001b[39m_values[label]\n\u001b[0;32m   1236\u001b[0m \u001b[38;5;66;03m# Similar to Index.get_value, but we do not fall back to positional\u001b[39;00m\n\u001b[1;32m-> 1237\u001b[0m loc \u001b[38;5;241m=\u001b[39m \u001b[38;5;28;43mself\u001b[39;49m\u001b[38;5;241;43m.\u001b[39;49m\u001b[43mindex\u001b[49m\u001b[38;5;241;43m.\u001b[39;49m\u001b[43mget_loc\u001b[49m\u001b[43m(\u001b[49m\u001b[43mlabel\u001b[49m\u001b[43m)\u001b[49m\n\u001b[0;32m   1239\u001b[0m \u001b[38;5;28;01mif\u001b[39;00m is_integer(loc):\n\u001b[0;32m   1240\u001b[0m     \u001b[38;5;28;01mreturn\u001b[39;00m \u001b[38;5;28mself\u001b[39m\u001b[38;5;241m.\u001b[39m_values[loc]\n",
      "File \u001b[1;32mc:\\Users\\fahpatcha\\anaconda3\\envs\\langchain_env\\lib\\site-packages\\pandas\\core\\indexes\\base.py:3812\u001b[0m, in \u001b[0;36mIndex.get_loc\u001b[1;34m(self, key)\u001b[0m\n\u001b[0;32m   3807\u001b[0m     \u001b[38;5;28;01mif\u001b[39;00m \u001b[38;5;28misinstance\u001b[39m(casted_key, \u001b[38;5;28mslice\u001b[39m) \u001b[38;5;129;01mor\u001b[39;00m (\n\u001b[0;32m   3808\u001b[0m         \u001b[38;5;28misinstance\u001b[39m(casted_key, abc\u001b[38;5;241m.\u001b[39mIterable)\n\u001b[0;32m   3809\u001b[0m         \u001b[38;5;129;01mand\u001b[39;00m \u001b[38;5;28many\u001b[39m(\u001b[38;5;28misinstance\u001b[39m(x, \u001b[38;5;28mslice\u001b[39m) \u001b[38;5;28;01mfor\u001b[39;00m x \u001b[38;5;129;01min\u001b[39;00m casted_key)\n\u001b[0;32m   3810\u001b[0m     ):\n\u001b[0;32m   3811\u001b[0m         \u001b[38;5;28;01mraise\u001b[39;00m InvalidIndexError(key)\n\u001b[1;32m-> 3812\u001b[0m     \u001b[38;5;28;01mraise\u001b[39;00m \u001b[38;5;167;01mKeyError\u001b[39;00m(key) \u001b[38;5;28;01mfrom\u001b[39;00m \u001b[38;5;21;01merr\u001b[39;00m\n\u001b[0;32m   3813\u001b[0m \u001b[38;5;28;01mexcept\u001b[39;00m \u001b[38;5;167;01mTypeError\u001b[39;00m:\n\u001b[0;32m   3814\u001b[0m     \u001b[38;5;66;03m# If we have a listlike key, _check_indexing_error will raise\u001b[39;00m\n\u001b[0;32m   3815\u001b[0m     \u001b[38;5;66;03m#  InvalidIndexError. Otherwise we fall through and re-raise\u001b[39;00m\n\u001b[0;32m   3816\u001b[0m     \u001b[38;5;66;03m#  the TypeError.\u001b[39;00m\n\u001b[0;32m   3817\u001b[0m     \u001b[38;5;28mself\u001b[39m\u001b[38;5;241m.\u001b[39m_check_indexing_error(key)\n",
      "\u001b[1;31mKeyError\u001b[0m: 'category_level1'"
     ]
    }
   ],
   "source": [
    "import sys\n",
    "import os\n",
    "import pandas as pd\n",
    "from tqdm import tqdm\n",
    "import asyncio\n",
    "\n",
    "# ถ้า AgentState และ graph มาจากไฟล์อื่น ให้ import ให้ถูก\n",
    "# from your_module import AgentState, graph\n",
    "\n",
    "sys.path.append(os.path.abspath(\"..\"))\n",
    "\n",
    "# โหลด DataFrame\n",
    "df = pd.read_excel(\"question_outofdomain_test.xlsx\")\n",
    "df.columns = df.columns.str.strip()\n",
    "\n",
    "results = []\n",
    "\n",
    "async def process_query(query, expected_lv1, expected_lv2):\n",
    "    try:\n",
    "        initial_state = AgentState(user_query=query)\n",
    "        state_raw = await graph.ainvoke(initial_state)\n",
    "        state_obj = AgentState(**state_raw)\n",
    "\n",
    "        classification = getattr(state_obj, \"classification_result\", None)\n",
    "        if classification is None:\n",
    "            classification = {}\n",
    "\n",
    "        out_of_domain = getattr(classification, \"out_of_domain\", False)\n",
    "        out_of_domain_reason = getattr(classification, \"out_of_domain_reason\", \"\")\n",
    "\n",
    "        if out_of_domain and not out_of_domain_reason:\n",
    "            out_of_domain_reason = \"Out-of-domain without specific reason.\"\n",
    "\n",
    "        if out_of_domain:\n",
    "            predicted_lv1 = \"OUT_OF_DOMAIN\"\n",
    "            predicted_lv2 = \"OUT_OF_DOMAIN\"\n",
    "            correct_lv1 = expected_lv1.strip().upper() == \"OUT_OF_DOMAIN\"\n",
    "            correct_lv2 = expected_lv2.strip().upper() == \"OUT_OF_DOMAIN\"\n",
    "\n",
    "            print(f\"🔹 Out-of-domain detected: {query}\")\n",
    "            print(f\"   Reason: {out_of_domain_reason}\")\n",
    "\n",
    "        else:\n",
    "            cat_lv1 = getattr(classification, \"category_level_1\", []) or []\n",
    "            if cat_lv1 and len(cat_lv1) > 0:\n",
    "                predicted_lv1 = cat_lv1[0].category\n",
    "            else:\n",
    "                predicted_lv1 = \"\"\n",
    "\n",
    "            cat_lv2 = getattr(classification, \"category_level_2\", []) or []\n",
    "            if cat_lv2 and len(cat_lv2) > 0:\n",
    "                predicted_lv2 = cat_lv2[0].subcategory\n",
    "            else:\n",
    "                predicted_lv2 = \"\"\n",
    "\n",
    "            correct_lv1 = predicted_lv1 == expected_lv1\n",
    "            correct_lv2 = predicted_lv2 == expected_lv2\n",
    "\n",
    "        latency = state_obj.latency or {}\n",
    "        total_latency = round(\n",
    "            sum(v for k, v in latency.items() if isinstance(v, float)), 3\n",
    "        )\n",
    "\n",
    "        return {\n",
    "            \"query\": query,\n",
    "            \"expected_lv1\": expected_lv1,\n",
    "            \"predicted_lv1\": predicted_lv1,\n",
    "            \"correct_lv1\": correct_lv1,\n",
    "            \"expected_lv2\": expected_lv2,\n",
    "            \"predicted_lv2\": predicted_lv2,\n",
    "            \"correct_lv2\": correct_lv2,\n",
    "            \"out_of_domain\": out_of_domain,\n",
    "            \"out_of_domain_reason\": out_of_domain_reason,\n",
    "            \"latency_out_of_domain\": latency.get(\"out_of_domain\"),\n",
    "            \"latency_clarification\": latency.get(\"clarification\"),\n",
    "            \"latency_classification\": latency.get(\"classification\"),\n",
    "            \"tokens_out_of_domain\": latency.get(\"tokens_out_of_domain\"),\n",
    "            \"tokens_clarification\": latency.get(\"tokens_clarification\"),\n",
    "            \"tokens_classification\": latency.get(\"tokens_classification\"),\n",
    "            \"total_latency\": total_latency,\n",
    "            \"error\": \"\"\n",
    "        }\n",
    "    except Exception as e:\n",
    "        return {\n",
    "            \"query\": query,\n",
    "            \"expected_lv1\": expected_lv1,\n",
    "            \"predicted_lv1\": \"\",\n",
    "            \"correct_lv1\": False,\n",
    "            \"expected_lv2\": expected_lv2,\n",
    "            \"predicted_lv2\": \"\",\n",
    "            \"correct_lv2\": False,\n",
    "            \"out_of_domain\": None,\n",
    "            \"out_of_domain_reason\": \"\",\n",
    "            \"latency_out_of_domain\": None,\n",
    "            \"latency_clarification\": None,\n",
    "            \"latency_classification\": None,\n",
    "            \"tokens_out_of_domain\": None,\n",
    "            \"tokens_clarification\": None,\n",
    "            \"tokens_classification\": None,\n",
    "            \"total_latency\": None,\n",
    "            \"error\": str(e)\n",
    "        }\n",
    "\n",
    "async def main():\n",
    "    for _, row in tqdm(df.iterrows(), total=len(df)):\n",
    "        query = row[\"question\"]\n",
    "        expected_lv1 = row[\"category_level1\"]\n",
    "        expected_lv2 = row[\"category_level2\"]\n",
    "        res = await process_query(query, expected_lv1, expected_lv2)\n",
    "        results.append(res)\n",
    "\n",
    "    df_results = pd.DataFrame(results)\n",
    "    df_results.to_csv(\"evaluation_results.csv\", index=False, encoding=\"utf-8-sig\")\n",
    "    print(\"✅ Evaluation completed and saved to evaluation_results.csv\")\n",
    "\n",
    "if __name__ == \"__main__\":\n",
    "    asyncio.run(main())\n"
   ]
  },
  {
   "cell_type": "code",
   "execution_count": 10,
   "id": "1486a3fb",
   "metadata": {},
   "outputs": [
    {
     "name": "stdout",
     "output_type": "stream",
     "text": [
      "Columns in DataFrame: ['question', 'เหตุผลที่อยู่นอกขอบเขต (Out of Domain)']\n"
     ]
    },
    {
     "name": "stderr",
     "output_type": "stream",
     "text": [
      "  0%|          | 0/20 [00:00<?, ?it/s]"
     ]
    },
    {
     "name": "stdout",
     "output_type": "stream",
     "text": [
      "START PIPELINE\n",
      "Step 1: Clarity Check\n"
     ]
    },
    {
     "name": "stderr",
     "output_type": "stream",
     "text": [
      "  5%|▌         | 1/20 [00:06<01:55,  6.10s/it]"
     ]
    },
    {
     "name": "stdout",
     "output_type": "stream",
     "text": [
      "Clarity Result: clarification_needed=True reason='ไม่มีบริบททางทันตกรรม'\n",
      "should_terminate? True\n",
      "TERMINATE after Clarity\n",
      "START PIPELINE\n",
      "Step 1: Clarity Check\n"
     ]
    },
    {
     "name": "stderr",
     "output_type": "stream",
     "text": [
      " 10%|█         | 2/20 [00:15<02:29,  8.32s/it]"
     ]
    },
    {
     "name": "stdout",
     "output_type": "stream",
     "text": [
      "Clarity Result: clarification_needed=True reason='ไม่มีบริบททางทันตกรรม'\n",
      "should_terminate? True\n",
      "TERMINATE after Clarity\n",
      "START PIPELINE\n",
      "Step 1: Clarity Check\n"
     ]
    },
    {
     "name": "stderr",
     "output_type": "stream",
     "text": [
      " 15%|█▌        | 3/20 [00:18<01:40,  5.88s/it]"
     ]
    },
    {
     "name": "stdout",
     "output_type": "stream",
     "text": [
      "Clarity Result: clarification_needed=True reason='ไม่มีเจตนาถาม'\n",
      "should_terminate? True\n",
      "TERMINATE after Clarity\n",
      "START PIPELINE\n",
      "Step 1: Clarity Check\n",
      "Clarity Result: clarification_needed=False reason='คำถามชัดเจน มีบริบทและหัตถการครบถ้วน'\n",
      "should_terminate? False\n",
      "Step 2: Category Classification\n"
     ]
    },
    {
     "name": "stderr",
     "output_type": "stream",
     "text": [
      " 20%|██        | 4/20 [00:40<03:10, 11.91s/it]"
     ]
    },
    {
     "name": "stdout",
     "output_type": "stream",
     "text": [
      "RESPONSE SET: หมวดหมู่ที่ตรวจพบ:\n",
      "- หมวดหลัก: ไม่พบ\n",
      "- หมวดย่อย: ไม่พบ\n",
      "START PIPELINE\n",
      "Step 1: Clarity Check\n"
     ]
    },
    {
     "name": "stderr",
     "output_type": "stream",
     "text": [
      " 25%|██▌       | 5/20 [00:51<02:56, 11.78s/it]"
     ]
    },
    {
     "name": "stdout",
     "output_type": "stream",
     "text": [
      "Clarity Result: clarification_needed=True reason='ไม่มีเจตนาถาม'\n",
      "should_terminate? True\n",
      "TERMINATE after Clarity\n",
      "START PIPELINE\n",
      "Step 1: Clarity Check\n"
     ]
    },
    {
     "name": "stderr",
     "output_type": "stream",
     "text": [
      " 30%|███       | 6/20 [00:58<02:19,  9.94s/it]"
     ]
    },
    {
     "name": "stdout",
     "output_type": "stream",
     "text": [
      "Clarity Result: clarification_needed=True reason='ไม่มีเจตนาถาม'\n",
      "should_terminate? True\n",
      "TERMINATE after Clarity\n",
      "START PIPELINE\n",
      "Step 1: Clarity Check\n"
     ]
    },
    {
     "name": "stderr",
     "output_type": "stream",
     "text": [
      " 35%|███▌      | 7/20 [01:10<02:18, 10.64s/it]"
     ]
    },
    {
     "name": "stdout",
     "output_type": "stream",
     "text": [
      "Clarity Result: clarification_needed=True reason='ไม่มีเจตนาถาม'\n",
      "should_terminate? True\n",
      "TERMINATE after Clarity\n",
      "START PIPELINE\n",
      "Step 1: Clarity Check\n"
     ]
    },
    {
     "name": "stderr",
     "output_type": "stream",
     "text": [
      " 40%|████      | 8/20 [01:17<01:53,  9.47s/it]"
     ]
    },
    {
     "name": "stdout",
     "output_type": "stream",
     "text": [
      "Clarity Result: clarification_needed=True reason='ไม่มีบริบททางทันตกรรม'\n",
      "should_terminate? True\n",
      "TERMINATE after Clarity\n",
      "START PIPELINE\n",
      "Step 1: Clarity Check\n"
     ]
    },
    {
     "name": "stderr",
     "output_type": "stream",
     "text": [
      " 45%|████▌     | 9/20 [01:27<01:47,  9.80s/it]"
     ]
    },
    {
     "name": "stdout",
     "output_type": "stream",
     "text": [
      "Clarity Result: clarification_needed=True reason='ไม่มีบริบททางทันตกรรม'\n",
      "should_terminate? True\n",
      "TERMINATE after Clarity\n",
      "START PIPELINE\n",
      "Step 1: Clarity Check\n",
      "Clarity Result: clarification_needed=False reason='ไม่เกี่ยวข้องกับการดูแลช่องปาก'\n",
      "should_terminate? False\n",
      "Step 2: Category Classification\n"
     ]
    },
    {
     "name": "stderr",
     "output_type": "stream",
     "text": [
      " 50%|█████     | 10/20 [01:43<01:56, 11.66s/it]"
     ]
    },
    {
     "name": "stdout",
     "output_type": "stream",
     "text": [
      "RESPONSE SET: หมวดหมู่ที่ตรวจพบ:\n",
      "- หมวดหลัก: ไม่พบ\n",
      "- หมวดย่อย: ไม่พบ\n",
      "START PIPELINE\n",
      "Step 1: Clarity Check\n"
     ]
    },
    {
     "name": "stderr",
     "output_type": "stream",
     "text": [
      " 55%|█████▌    | 11/20 [01:52<01:37, 10.88s/it]"
     ]
    },
    {
     "name": "stdout",
     "output_type": "stream",
     "text": [
      "Clarity Result: clarification_needed=True reason='ไม่มีเจตนาถาม'\n",
      "should_terminate? True\n",
      "TERMINATE after Clarity\n",
      "START PIPELINE\n",
      "Step 1: Clarity Check\n"
     ]
    },
    {
     "name": "stderr",
     "output_type": "stream",
     "text": [
      " 60%|██████    | 12/20 [01:55<01:06,  8.36s/it]"
     ]
    },
    {
     "name": "stdout",
     "output_type": "stream",
     "text": [
      "Clarity Result: clarification_needed=True reason='ไม่มีเจตนาถาม'\n",
      "should_terminate? True\n",
      "TERMINATE after Clarity\n",
      "START PIPELINE\n",
      "Step 1: Clarity Check\n"
     ]
    },
    {
     "name": "stderr",
     "output_type": "stream",
     "text": [
      " 65%|██████▌   | 13/20 [02:07<01:08,  9.72s/it]"
     ]
    },
    {
     "name": "stdout",
     "output_type": "stream",
     "text": [
      "Clarity Result: clarification_needed=True reason='ไม่มีเจตนาถาม'\n",
      "should_terminate? True\n",
      "TERMINATE after Clarity\n",
      "START PIPELINE\n",
      "Step 1: Clarity Check\n"
     ]
    },
    {
     "name": "stderr",
     "output_type": "stream",
     "text": [
      " 70%|███████   | 14/20 [02:10<00:46,  7.69s/it]"
     ]
    },
    {
     "name": "stdout",
     "output_type": "stream",
     "text": [
      "Clarity Result: clarification_needed=True reason='ไม่มีเจตนาถาม'\n",
      "should_terminate? True\n",
      "TERMINATE after Clarity\n",
      "START PIPELINE\n",
      "Step 1: Clarity Check\n"
     ]
    },
    {
     "name": "stderr",
     "output_type": "stream",
     "text": [
      " 75%|███████▌  | 15/20 [02:21<00:43,  8.61s/it]"
     ]
    },
    {
     "name": "stdout",
     "output_type": "stream",
     "text": [
      "Clarity Result: clarification_needed=True reason='ไม่มีบริบททางทันตกรรม'\n",
      "should_terminate? True\n",
      "TERMINATE after Clarity\n",
      "START PIPELINE\n",
      "Step 1: Clarity Check\n"
     ]
    },
    {
     "name": "stderr",
     "output_type": "stream",
     "text": [
      " 80%|████████  | 16/20 [02:32<00:37,  9.32s/it]"
     ]
    },
    {
     "name": "stdout",
     "output_type": "stream",
     "text": [
      "Clarity Result: clarification_needed=True reason='ไม่มีบริบททางทันตกรรม'\n",
      "should_terminate? True\n",
      "TERMINATE after Clarity\n",
      "START PIPELINE\n",
      "Step 1: Clarity Check\n"
     ]
    },
    {
     "name": "stderr",
     "output_type": "stream",
     "text": [
      " 85%|████████▌ | 17/20 [02:34<00:21,  7.16s/it]"
     ]
    },
    {
     "name": "stdout",
     "output_type": "stream",
     "text": [
      "Clarity Result: clarification_needed=True reason='ไม่มีเจตนาถาม'\n",
      "should_terminate? True\n",
      "TERMINATE after Clarity\n",
      "START PIPELINE\n",
      "Step 1: Clarity Check\n"
     ]
    },
    {
     "name": "stderr",
     "output_type": "stream",
     "text": [
      " 90%|█████████ | 18/20 [02:44<00:15,  7.95s/it]"
     ]
    },
    {
     "name": "stdout",
     "output_type": "stream",
     "text": [
      "START PIPELINE\n",
      "Step 1: Clarity Check\n"
     ]
    },
    {
     "name": "stderr",
     "output_type": "stream",
     "text": [
      " 95%|█████████▌| 19/20 [02:47<00:06,  6.41s/it]"
     ]
    },
    {
     "name": "stdout",
     "output_type": "stream",
     "text": [
      "Clarity Result: clarification_needed=True reason='ไม่มีเจตนาถาม'\n",
      "should_terminate? True\n",
      "TERMINATE after Clarity\n",
      "START PIPELINE\n",
      "Step 1: Clarity Check\n"
     ]
    },
    {
     "name": "stderr",
     "output_type": "stream",
     "text": [
      "100%|██████████| 20/20 [02:52<00:00,  8.61s/it]"
     ]
    },
    {
     "name": "stdout",
     "output_type": "stream",
     "text": [
      "Clarity Result: clarification_needed=True reason='ไม่มีบริบททางทันตกรรม'\n",
      "should_terminate? True\n",
      "TERMINATE after Clarity\n",
      "✅ Evaluation completed and saved to evaluation_results.csv\n"
     ]
    },
    {
     "name": "stderr",
     "output_type": "stream",
     "text": [
      "\n"
     ]
    }
   ],
   "source": [
    "import sys\n",
    "import os\n",
    "import pandas as pd\n",
    "from tqdm import tqdm\n",
    "import asyncio\n",
    "\n",
    "# ✨ ถ้า AgentState และ graph อยู่ในโมดูลอื่น ให้แก้ตรงนี้\n",
    "# from your_module import AgentState, graph\n",
    "\n",
    "sys.path.append(os.path.abspath(\"..\"))\n",
    "\n",
    "# โหลด DataFrame\n",
    "df = pd.read_excel(\"question_outofdomain_test.xlsx\")\n",
    "df.columns = df.columns.str.strip()\n",
    "\n",
    "results = []\n",
    "\n",
    "async def process_query(query, expected_lv1, expected_lv2):\n",
    "    try:\n",
    "        initial_state = AgentState(user_query=query)\n",
    "        state_raw = await graph.ainvoke(initial_state)\n",
    "        state_obj = AgentState(**state_raw)\n",
    "\n",
    "        classification = getattr(state_obj, \"classification_result\", None)\n",
    "        if classification is None:\n",
    "            classification = {}\n",
    "\n",
    "        out_of_domain = getattr(classification, \"out_of_domain\", False)\n",
    "        out_of_domain_reason = getattr(classification, \"out_of_domain_reason\", \"\")\n",
    "\n",
    "        if out_of_domain and not out_of_domain_reason:\n",
    "            out_of_domain_reason = \"Out-of-domain without specific reason.\"\n",
    "\n",
    "        if out_of_domain:\n",
    "            predicted_lv1 = \"OUT_OF_DOMAIN\"\n",
    "            predicted_lv2 = \"OUT_OF_DOMAIN\"\n",
    "            correct_lv1 = expected_lv1.strip().upper() == \"OUT_OF_DOMAIN\"\n",
    "            correct_lv2 = expected_lv2.strip().upper() == \"OUT_OF_DOMAIN\"\n",
    "\n",
    "            print(f\"🔹 Out-of-domain detected: {query}\")\n",
    "            print(f\"   Reason: {out_of_domain_reason}\")\n",
    "\n",
    "        else:\n",
    "            cat_lv1 = getattr(classification, \"category_level_1\", []) or []\n",
    "            if cat_lv1 and len(cat_lv1) > 0:\n",
    "                predicted_lv1 = cat_lv1[0].category\n",
    "            else:\n",
    "                predicted_lv1 = \"\"\n",
    "\n",
    "            cat_lv2 = getattr(classification, \"category_level_2\", []) or []\n",
    "            if cat_lv2 and len(cat_lv2) > 0:\n",
    "                predicted_lv2 = cat_lv2[0].subcategory\n",
    "            else:\n",
    "                predicted_lv2 = \"\"\n",
    "\n",
    "            correct_lv1 = predicted_lv1 == expected_lv1\n",
    "            correct_lv2 = predicted_lv2 == expected_lv2\n",
    "\n",
    "        latency = state_obj.latency or {}\n",
    "        total_latency = round(\n",
    "            sum(v for k, v in latency.items() if isinstance(v, float)), 3\n",
    "        )\n",
    "\n",
    "        return {\n",
    "            \"query\": query,\n",
    "            \"expected_lv1\": expected_lv1,\n",
    "            \"predicted_lv1\": predicted_lv1,\n",
    "            \"correct_lv1\": correct_lv1,\n",
    "            \"expected_lv2\": expected_lv2,\n",
    "            \"predicted_lv2\": predicted_lv2,\n",
    "            \"correct_lv2\": correct_lv2,\n",
    "            \"out_of_domain\": out_of_domain,\n",
    "            \"out_of_domain_reason\": out_of_domain_reason,\n",
    "            \"latency_out_of_domain\": latency.get(\"out_of_domain\"),\n",
    "            \"latency_clarification\": latency.get(\"clarification\"),\n",
    "            \"latency_classification\": latency.get(\"classification\"),\n",
    "            \"tokens_out_of_domain\": latency.get(\"tokens_out_of_domain\"),\n",
    "            \"tokens_clarification\": latency.get(\"tokens_clarification\"),\n",
    "            \"tokens_classification\": latency.get(\"tokens_classification\"),\n",
    "            \"total_latency\": total_latency,\n",
    "            \"error\": \"\"\n",
    "        }\n",
    "    except Exception as e:\n",
    "        return {\n",
    "            \"query\": query,\n",
    "            \"expected_lv1\": expected_lv1,\n",
    "            \"predicted_lv1\": \"\",\n",
    "            \"correct_lv1\": False,\n",
    "            \"expected_lv2\": expected_lv2,\n",
    "            \"predicted_lv2\": \"\",\n",
    "            \"correct_lv2\": False,\n",
    "            \"out_of_domain\": None,\n",
    "            \"out_of_domain_reason\": \"\",\n",
    "            \"latency_out_of_domain\": None,\n",
    "            \"latency_clarification\": None,\n",
    "            \"latency_classification\": None,\n",
    "            \"tokens_out_of_domain\": None,\n",
    "            \"tokens_clarification\": None,\n",
    "            \"tokens_classification\": None,\n",
    "            \"total_latency\": None,\n",
    "            \"error\": str(e)\n",
    "        }\n",
    "\n",
    "async def main():\n",
    "    print(\"Columns in DataFrame:\", df.columns.tolist())\n",
    "\n",
    "    for _, row in tqdm(df.iterrows(), total=len(df)):\n",
    "        query = row[\"question\"]\n",
    "\n",
    "        # ตรวจว่ามีเหตุผล out-of-domain หรือไม่\n",
    "        expected_out_of_domain_reason = str(row[\"เหตุผลที่อยู่นอกขอบเขต (Out of Domain)\"]).strip()\n",
    "        expected_is_out_of_domain = bool(expected_out_of_domain_reason)\n",
    "\n",
    "        # ถ้าเป็น out-of-domain ให้ expected lv1/lv2 เป็น OUT_OF_DOMAIN\n",
    "        expected_lv1 = \"OUT_OF_DOMAIN\" if expected_is_out_of_domain else \"\"\n",
    "        expected_lv2 = \"OUT_OF_DOMAIN\" if expected_is_out_of_domain else \"\"\n",
    "\n",
    "        res = await process_query(query, expected_lv1, expected_lv2)\n",
    "        results.append(res)\n",
    "\n",
    "    df_results = pd.DataFrame(results)\n",
    "    df_results.to_excel(\"outofdomain_results_11_7.xlsx\", index=False, engine=\"openpyxl\")\n",
    "    print(\"✅ Evaluation completed and saved to evaluation_results.csv\")\n",
    "\n",
    "if __name__ == \"__main__\":\n",
    "    asyncio.run(main())\n"
   ]
  },
  {
   "cell_type": "code",
   "execution_count": 9,
   "id": "c180ca74",
   "metadata": {},
   "outputs": [
    {
     "name": "stdout",
     "output_type": "stream",
     "text": [
      "Evaluation completed and saved to outofdomain_results_11_7.xlsx\n"
     ]
    }
   ],
   "source": [
    "import pandas as pd\n",
    "\n",
    "df_results = pd.DataFrame(results)\n",
    "\n",
    "# Save เป็น Excel\n",
    "df_results.to_excel(\"outofdomain_results_11_7.xlsx\", index=False, engine=\"openpyxl\")\n",
    "\n",
    "print(\"Evaluation completed and saved to outofdomain_results_11_7.xlsx\")\n"
   ]
  }
 ],
 "metadata": {
  "kernelspec": {
   "display_name": "langchain_env",
   "language": "python",
   "name": "python3"
  },
  "language_info": {
   "codemirror_mode": {
    "name": "ipython",
    "version": 3
   },
   "file_extension": ".py",
   "mimetype": "text/x-python",
   "name": "python",
   "nbconvert_exporter": "python",
   "pygments_lexer": "ipython3",
   "version": "3.9.20"
  }
 },
 "nbformat": 4,
 "nbformat_minor": 5
}
