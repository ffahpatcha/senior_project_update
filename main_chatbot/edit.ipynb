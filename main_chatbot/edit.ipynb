{
 "cells": [
  {
   "cell_type": "code",
   "execution_count": 3,
   "id": "46ed2860",
   "metadata": {},
   "outputs": [
    {
     "name": "stdout",
     "output_type": "stream",
     "text": [
      "✅ เสร็จเรียบร้อย: doc_id + chunk_id ใหม่, page & section คงเดิม → saved as final_output.tsv\n"
     ]
    }
   ],
   "source": [
    "import pandas as pd\n",
    "\n",
    "# โหลดไฟล์ .tsv ต้นฉบับ\n",
    "df = pd.read_excel(\"chunk_labeled3_some_to_qdrant.xlsx\")\n",
    "\n",
    "# เตรียมรายการใหม่\n",
    "new_rows = []\n",
    "\n",
    "# กลุ่มตาม source → กำหนด doc_id ใหม่ให้แต่ละกลุ่ม\n",
    "source_groups = df.groupby('source')\n",
    "for doc_num, (source, group) in enumerate(source_groups, start=1):\n",
    "    doc_id = f\"doc_{doc_num}\"\n",
    "    for i, row in enumerate(group.itertuples(index=False)):\n",
    "        new_rows.append({\n",
    "            \"doc_id\": doc_id,\n",
    "            \"chunk_id\": f\"{doc_id}_chunk_{i}\",  # chunk นับใหม่ในแต่ละกลุ่ม\n",
    "            \"source\": row.source,\n",
    "            \"page\": row.page,                  # ✅ ไม่แตะต้อง\n",
    "            \"section\": row.section,\n",
    "            \"chunk\": row.chunk,\n",
    "            \"categories\": row.categories           # ✅ ไม่แตะต้อง\n",
    "        })\n",
    "\n",
    "# สร้าง DataFrame ใหม่จากข้อมูลที่แก้แล้ว\n",
    "new_df = pd.DataFrame(new_rows)\n",
    "\n",
    "# บันทึกไฟล์ผลลัพธ์\n",
    "new_df.to_excel(\"final_output.xlsx\", index=False)\n",
    "\n",
    "print(\"✅ เสร็จเรียบร้อย: doc_id + chunk_id ใหม่, page & section คงเดิม → saved as final_output.tsv\")\n"
   ]
  }
 ],
 "metadata": {
  "kernelspec": {
   "display_name": "langchain_env",
   "language": "python",
   "name": "python3"
  },
  "language_info": {
   "codemirror_mode": {
    "name": "ipython",
    "version": 3
   },
   "file_extension": ".py",
   "mimetype": "text/x-python",
   "name": "python",
   "nbconvert_exporter": "python",
   "pygments_lexer": "ipython3",
   "version": "3.9.20"
  }
 },
 "nbformat": 4,
 "nbformat_minor": 5
}
