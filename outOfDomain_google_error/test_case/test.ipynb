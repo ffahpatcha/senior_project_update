{
 "cells": [
  {
   "cell_type": "code",
   "execution_count": 2,
   "id": "511e4441",
   "metadata": {},
   "outputs": [],
   "source": [
    "import sys\n",
    "import os\n",
    "\n",
    "# เพิ่ม path ของโฟลเดอร์หลักเข้าไปใน sys.path\n",
    "sys.path.append(os.path.abspath(\"..\"))\n",
    "\n",
    "# ตอนนี้สามารถ import ได้เลย\n",
    "from main_graph import graph\n",
    "from state_schema import AgentState\n"
   ]
  },
  {
   "cell_type": "code",
   "execution_count": 3,
   "id": "2121e8fc",
   "metadata": {},
   "outputs": [],
   "source": [
    "import pandas as pd\n",
    "from tqdm import tqdm\n",
    "import sys\n",
    "import os"
   ]
  },
  {
   "cell_type": "code",
   "execution_count": 4,
   "id": "e99e0ee9",
   "metadata": {},
   "outputs": [
    {
     "name": "stderr",
     "output_type": "stream",
     "text": [
      "  0%|          | 0/39 [00:00<?, ?it/s]"
     ]
    },
    {
     "name": "stdout",
     "output_type": "stream",
     "text": [
      "🔍 Step 1: Clarity Check\n",
      "✅ Clarity Result: clarification_needed=False reason='คำถามชัดเจน มีบริบทและหัตถการครบถ้วน'\n",
      "🚦 Step 2: Out-of-Domain Check\n",
      "✅ Out-of-Domain Result: out_of_domain=False reason=\"มีคำว่า 'ยาชา' และ 'ถอนฟัน' จึงอยู่ในขอบเขต\"\n",
      "📊 Step 3: Category Classification\n"
     ]
    },
    {
     "name": "stderr",
     "output_type": "stream",
     "text": [
      "  3%|▎         | 1/39 [00:17<11:04, 17.49s/it]"
     ]
    },
    {
     "name": "stdout",
     "output_type": "stream",
     "text": [
      "🔍 Step 1: Clarity Check\n",
      "✅ Clarity Result: clarification_needed=False reason='คำถามชัดเจน มีบริบทและหัตถการครบถ้วน'\n",
      "🚦 Step 2: Out-of-Domain Check\n",
      "✅ Out-of-Domain Result: out_of_domain=False reason=\"มีคำว่า 'หลังถอนฟัน' และ 'อาการผิดปกติ' จึงอยู่ในขอบเขต\"\n",
      "📊 Step 3: Category Classification\n"
     ]
    },
    {
     "name": "stderr",
     "output_type": "stream",
     "text": [
      "  5%|▌         | 2/39 [00:40<12:39, 20.54s/it]"
     ]
    },
    {
     "name": "stdout",
     "output_type": "stream",
     "text": [
      "🔍 Step 1: Clarity Check\n",
      "✅ Clarity Result: clarification_needed=False reason='คำถามชัดเจน มีบริบทและหัตถการครบถ้วน'\n",
      "🚦 Step 2: Out-of-Domain Check\n",
      "✅ Out-of-Domain Result: out_of_domain=False reason='มีคำว่า ย่อนฟ่านฟ่าง เป็นอย่ตำรับ'\n",
      "📊 Step 3: Category Classification\n"
     ]
    },
    {
     "name": "stderr",
     "output_type": "stream",
     "text": [
      "  8%|▊         | 3/39 [01:10<14:55, 24.88s/it]"
     ]
    },
    {
     "name": "stdout",
     "output_type": "stream",
     "text": [
      "🔍 Step 1: Clarity Check\n",
      "✅ Clarity Result: clarification_needed=False reason='คำถามชัดเจน มีบริบทและหัตถการครบถ้วน'\n",
      "🚦 Step 2: Out-of-Domain Check\n",
      "✅ Out-of-Domain Result: out_of_domain=False reason=\"มีคำว่า 'หลังถอนฟัน' และ 'การติดเชื้อ' จึงอยู่ในขอบเขต\"\n",
      "📊 Step 3: Category Classification\n"
     ]
    },
    {
     "name": "stderr",
     "output_type": "stream",
     "text": [
      " 10%|█         | 4/39 [01:38<15:15, 26.17s/it]"
     ]
    },
    {
     "name": "stdout",
     "output_type": "stream",
     "text": [
      "🔍 Step 1: Clarity Check\n",
      "✅ Clarity Result: clarification_needed=False reason='เจตนาชัดเจน มีบริบทและหัตถการครบ'\n",
      "🚦 Step 2: Out-of-Domain Check\n",
      "✅ Out-of-Domain Result: out_of_domain=False reason='มีคำว่า ผังอย์รับส์รับ'\n",
      "📊 Step 3: Category Classification\n"
     ]
    },
    {
     "name": "stderr",
     "output_type": "stream",
     "text": [
      " 13%|█▎        | 5/39 [02:12<16:32, 29.19s/it]"
     ]
    },
    {
     "name": "stdout",
     "output_type": "stream",
     "text": [
      "🔍 Step 1: Clarity Check\n"
     ]
    },
    {
     "name": "stderr",
     "output_type": "stream",
     "text": [
      " 15%|█▌        | 6/39 [02:17<11:22, 20.69s/it]"
     ]
    },
    {
     "name": "stdout",
     "output_type": "stream",
     "text": [
      "✅ Clarity Result: clarification_needed=True reason='ไม่ระบุประเภทของหัตถการ เช่น ถอนฟัน ผ่าฟันคุด'\n",
      "🔍 Step 1: Clarity Check\n",
      "✅ Clarity Result: clarification_needed=False reason='คำถามชัดเจน มีบริบทและหัตถการครบถ้วน'\n",
      "🚦 Step 2: Out-of-Domain Check\n",
      "✅ Out-of-Domain Result: out_of_domain=False reason='มีคำว่า ท้อยฟ่าน เป็น อย่าง บัตวัด เป็น อย่าง บัตวัด ที่อย่าง บัตวัด'\n",
      "📊 Step 3: Category Classification\n"
     ]
    },
    {
     "name": "stderr",
     "output_type": "stream",
     "text": [
      " 18%|█▊        | 7/39 [02:40<11:32, 21.65s/it]"
     ]
    },
    {
     "name": "stdout",
     "output_type": "stream",
     "text": [
      "🔍 Step 1: Clarity Check\n",
      "✅ Clarity Result: clarification_needed=False reason='คำถามชัดเจน มีบริบทและหัตถการครบถ้วน'\n",
      "🚦 Step 2: Out-of-Domain Check\n",
      "✅ Out-of-Domain Result: out_of_domain=False reason='มีคำว่า ท้อนฟ่าน เป็นตัว อย่างหม่าง บัว อย่างเป็นตัว ที่อย่าง อย่างบัว เป็นตัว บัว อย่างเป็นตัว'\n",
      "📊 Step 3: Category Classification\n"
     ]
    },
    {
     "name": "stderr",
     "output_type": "stream",
     "text": [
      " 21%|██        | 8/39 [03:08<12:15, 23.72s/it]"
     ]
    },
    {
     "name": "stdout",
     "output_type": "stream",
     "text": [
      "🔍 Step 1: Clarity Check\n",
      "✅ Clarity Result: clarification_needed=False reason='มีบริบทและหัตถการครบถ้วน'\n",
      "🚦 Step 2: Out-of-Domain Check\n",
      "✅ Out-of-Domain Result: out_of_domain=False reason=\"มีคำว่า 'หลังถอนฟัน' และ 'ห้ามเลือด' จึงอยู่ในขอบเขต\"\n",
      "📊 Step 3: Category Classification\n"
     ]
    },
    {
     "name": "stderr",
     "output_type": "stream",
     "text": [
      " 23%|██▎       | 9/39 [03:33<11:58, 23.95s/it]"
     ]
    },
    {
     "name": "stdout",
     "output_type": "stream",
     "text": [
      "🔍 Step 1: Clarity Check\n",
      "✅ Clarity Result: clarification_needed=False reason='คำถามชัดเจน มีบริบทและหัตถการครบถ้วน'\n",
      "🚦 Step 2: Out-of-Domain Check\n",
      "✅ Out-of-Domain Result: out_of_domain=False reason='มีคำว่า ท้อยป่นตัน อย่างหม่างเป็นตันไม่ป็นอย่างหม่างเป็นตันไม่ป็น'\n",
      "📊 Step 3: Category Classification\n"
     ]
    },
    {
     "name": "stderr",
     "output_type": "stream",
     "text": [
      " 26%|██▌       | 10/39 [04:06<12:55, 26.74s/it]"
     ]
    },
    {
     "name": "stdout",
     "output_type": "stream",
     "text": [
      "🔍 Step 1: Clarity Check\n",
      "✅ Clarity Result: clarification_needed=False reason='คำถามชัดเจน มีบริบทและหัตถการครบถ้วน'\n",
      "🚦 Step 2: Out-of-Domain Check\n",
      "✅ Out-of-Domain Result: out_of_domain=False reason='มีคำว่า ท้อยฟ่างป็นตับ'\n",
      "📊 Step 3: Category Classification\n"
     ]
    },
    {
     "name": "stderr",
     "output_type": "stream",
     "text": [
      " 28%|██▊       | 11/39 [04:26<11:31, 24.69s/it]"
     ]
    },
    {
     "name": "stdout",
     "output_type": "stream",
     "text": [
      "🔍 Step 1: Clarity Check\n"
     ]
    },
    {
     "name": "stderr",
     "output_type": "stream",
     "text": [
      " 31%|███       | 12/39 [04:47<10:40, 23.74s/it]"
     ]
    },
    {
     "name": "stdout",
     "output_type": "stream",
     "text": [
      "✅ Clarity Result: clarification_needed=True reason='ไม่มีบริบทหรือหัตถการ'\n",
      "🔍 Step 1: Clarity Check\n",
      "✅ Clarity Result: clarification_needed=False reason='คำถามชัดเจน มีบริบทและหัตถการครบถ้วน'\n",
      "🚦 Step 2: Out-of-Domain Check\n",
      "✅ Out-of-Domain Result: out_of_domain=False reason=\"มีคำว่า 'หลังถอนฟัน' และ 'อาการปวด' จึงอยู่ในขอบเขต\"\n",
      "📊 Step 3: Category Classification\n"
     ]
    },
    {
     "name": "stderr",
     "output_type": "stream",
     "text": [
      " 33%|███▎      | 13/39 [05:12<10:23, 23.99s/it]"
     ]
    },
    {
     "name": "stdout",
     "output_type": "stream",
     "text": [
      "🔍 Step 1: Clarity Check\n",
      "✅ Clarity Result: clarification_needed=False reason='เจตนาชัดเจน มีบริบทและหัตถการครบ'\n",
      "🚦 Step 2: Out-of-Domain Check\n",
      "✅ Out-of-Domain Result: out_of_domain=False reason=\"มีคำว่า 'หลังถอนฟัน' และ 'ปวด' จึงอยู่ในขอบเขต\"\n",
      "📊 Step 3: Category Classification\n"
     ]
    },
    {
     "name": "stderr",
     "output_type": "stream",
     "text": [
      " 36%|███▌      | 14/39 [05:43<10:49, 25.96s/it]"
     ]
    },
    {
     "name": "stdout",
     "output_type": "stream",
     "text": [
      "🔍 Step 1: Clarity Check\n",
      "✅ Clarity Result: clarification_needed=False reason='มีเจตนาถาม มีบริบททางทันตกรรม และระบุประเภทหัตถการชัดเจน'\n",
      "🚦 Step 2: Out-of-Domain Check\n",
      "✅ Out-of-Domain Result: out_of_domain=False reason='มีคำว่า ผ้เป็นผู่งอย่าง สถางอย่าง บับส์เป็นผู่ง สถางอย่าง บับส์เป็นผู่ง สถางอย่าง บับส์เป็นผู่ง สถางอย่าง บับส์เป็นผู่ง สถางอย่าง'\n",
      "📊 Step 3: Category Classification\n"
     ]
    },
    {
     "name": "stderr",
     "output_type": "stream",
     "text": [
      " 38%|███▊      | 15/39 [06:29<12:49, 32.06s/it]"
     ]
    },
    {
     "name": "stdout",
     "output_type": "stream",
     "text": [
      "🔍 Step 1: Clarity Check\n",
      "✅ Clarity Result: clarification_needed=False reason='คำถามชัดเจน มีบริบทและหัตถการครบถ้วน'\n",
      "🚦 Step 2: Out-of-Domain Check\n",
      "✅ Out-of-Domain Result: out_of_domain=False reason='มีคำว่า บ้เป็นตัวนที่'\n",
      "📊 Step 3: Category Classification\n"
     ]
    },
    {
     "name": "stderr",
     "output_type": "stream",
     "text": [
      " 41%|████      | 16/39 [07:24<14:57, 39.00s/it]"
     ]
    },
    {
     "name": "stdout",
     "output_type": "stream",
     "text": [
      "🔍 Step 1: Clarity Check\n",
      "✅ Clarity Result: clarification_needed=False reason='คำถามชัดเจน มีบริบทและหัตถการครบถ้วน'\n",
      "🚦 Step 2: Out-of-Domain Check\n",
      "✅ Out-of-Domain Result: out_of_domain=False reason=\"มีคำว่า 'แผลหลังถอนฟัน' จึงอยู่ในขอบเขต\"\n",
      "📊 Step 3: Category Classification\n"
     ]
    },
    {
     "name": "stderr",
     "output_type": "stream",
     "text": [
      " 44%|████▎     | 17/39 [08:08<14:50, 40.49s/it]"
     ]
    },
    {
     "name": "stdout",
     "output_type": "stream",
     "text": [
      "🔍 Step 1: Clarity Check\n",
      "✅ Clarity Result: clarification_needed=False reason='คำถามชัดเจน มีบริบทและหัตถการครบถ้วน'\n",
      "🚦 Step 2: Out-of-Domain Check\n",
      "✅ Out-of-Domain Result: out_of_domain=False reason=\"มีคำว่า 'ถอนฟัน' จึงอยู่ในขอบเขต\"\n",
      "📊 Step 3: Category Classification\n"
     ]
    },
    {
     "name": "stderr",
     "output_type": "stream",
     "text": [
      " 46%|████▌     | 18/39 [09:03<15:45, 45.04s/it]"
     ]
    },
    {
     "name": "stdout",
     "output_type": "stream",
     "text": [
      "🔍 Step 1: Clarity Check\n",
      "✅ Clarity Result: clarification_needed=False reason='คำถามชัดเจน มีบริบทและหัตถการครบถ้วน'\n",
      "🚦 Step 2: Out-of-Domain Check\n",
      "✅ Out-of-Domain Result: out_of_domain=False reason='มีคำว่า ผ้เป็นปันตัวสั่อนเป็นปันตัว เป็นเอย่างอย่างเป็นปันตัว สั่อนเป็นปันตัวสั่อนอย่างอย่างเป็นปันตัว'\n",
      "📊 Step 3: Category Classification\n"
     ]
    },
    {
     "name": "stderr",
     "output_type": "stream",
     "text": [
      " 49%|████▊     | 19/39 [10:04<16:32, 49.61s/it]"
     ]
    },
    {
     "name": "stdout",
     "output_type": "stream",
     "text": [
      "🔍 Step 1: Clarity Check\n",
      "✅ Clarity Result: clarification_needed=False reason='คำถามชัดเจน มีบริบทและหัตถการครบถ้วน'\n",
      "🚦 Step 2: Out-of-Domain Check\n",
      "✅ Out-of-Domain Result: out_of_domain=False reason=\"มีคำว่า 'หลังถอนฟัน' และ 'ผ่าฟันคุด' จึงอยู่ในขอบเขต\"\n",
      "📊 Step 3: Category Classification\n"
     ]
    },
    {
     "name": "stderr",
     "output_type": "stream",
     "text": [
      " 51%|█████▏    | 20/39 [10:35<14:00, 44.25s/it]"
     ]
    },
    {
     "name": "stdout",
     "output_type": "stream",
     "text": [
      "🔍 Step 1: Clarity Check\n",
      "✅ Clarity Result: clarification_needed=False reason='คำถามชัดเจน มีบริบทและหัตถการครบถ้วน'\n",
      "🚦 Step 2: Out-of-Domain Check\n",
      "✅ Out-of-Domain Result: out_of_domain=False reason=\"มีคำว่า 'หลังถอนฟัน' จึงอยู่ในขอบเขต\"\n",
      "📊 Step 3: Category Classification\n"
     ]
    },
    {
     "name": "stderr",
     "output_type": "stream",
     "text": [
      " 54%|█████▍    | 21/39 [11:00<11:30, 38.36s/it]"
     ]
    },
    {
     "name": "stdout",
     "output_type": "stream",
     "text": [
      "🔍 Step 1: Clarity Check\n",
      "✅ Clarity Result: clarification_needed=False reason='คำถามชัดเจน มีบริบทและหัตถการครบถ้วน'\n",
      "🚦 Step 2: Out-of-Domain Check\n",
      "✅ Out-of-Domain Result: out_of_domain=False reason='มีคำว่า บ้เป็นตันบัน เป็นอย่างอย่าง ไม่ป็นตันบัน'\n",
      "📊 Step 3: Category Classification\n"
     ]
    },
    {
     "name": "stderr",
     "output_type": "stream",
     "text": [
      " 56%|█████▋    | 22/39 [11:29<10:02, 35.44s/it]"
     ]
    },
    {
     "name": "stdout",
     "output_type": "stream",
     "text": [
      "🔍 Step 1: Clarity Check\n",
      "✅ Clarity Result: clarification_needed=False reason='คำถามชัดเจน มีบริบทและหัตถการครบถ้วน'\n",
      "🚦 Step 2: Out-of-Domain Check\n",
      "✅ Out-of-Domain Result: out_of_domain=False reason='มีคำว่า ท้อยป่างป่าง'\n",
      "📊 Step 3: Category Classification\n"
     ]
    },
    {
     "name": "stderr",
     "output_type": "stream",
     "text": [
      " 59%|█████▉    | 23/39 [12:15<10:21, 38.82s/it]"
     ]
    },
    {
     "name": "stdout",
     "output_type": "stream",
     "text": [
      "🔍 Step 1: Clarity Check\n",
      "✅ Clarity Result: clarification_needed=False reason='คำถามชัดเจน มีบริบทและหัตถการครบถ้วน'\n",
      "🚦 Step 2: Out-of-Domain Check\n",
      "✅ Out-of-Domain Result: out_of_domain=False reason='มีคำว่า รังสาธป็นตัวย์อย่างอย่างเป็นสาธป็นตัวย์อย่างอย่างเป็นสาธป็นตัว'\n",
      "📊 Step 3: Category Classification\n"
     ]
    },
    {
     "name": "stderr",
     "output_type": "stream",
     "text": [
      " 62%|██████▏   | 24/39 [12:47<09:11, 36.79s/it]"
     ]
    },
    {
     "name": "stdout",
     "output_type": "stream",
     "text": [
      "🔍 Step 1: Clarity Check\n",
      "✅ Clarity Result: clarification_needed=False reason='คำถามชัดเจน มีบริบทและหัตถการครบถ้วน'\n",
      "🚦 Step 2: Out-of-Domain Check\n",
      "✅ Out-of-Domain Result: out_of_domain=False reason=\"มีคำว่า 'หลังถอนฟัน' และ 'หลอดดื่ม' จึงอยู่ในขอบเขต\"\n",
      "📊 Step 3: Category Classification\n"
     ]
    },
    {
     "name": "stderr",
     "output_type": "stream",
     "text": [
      " 64%|██████▍   | 25/39 [13:41<09:45, 41.79s/it]"
     ]
    },
    {
     "name": "stdout",
     "output_type": "stream",
     "text": [
      "🔍 Step 1: Clarity Check\n",
      "✅ Clarity Result: clarification_needed=False reason='ไม่จำเป็นต้องขอความชัดเจนเพิ่มเติม'\n",
      "🚦 Step 2: Out-of-Domain Check\n",
      "✅ Out-of-Domain Result: out_of_domain=False reason='มีคำว่า อ่างพันตัวย์ เป็นอย่างพันตัวย์ บัวย์ที่อย่างพันตัวย์ อ่างพันตัวย์ บัวย์ที่'\n",
      "📊 Step 3: Category Classification\n"
     ]
    },
    {
     "name": "stderr",
     "output_type": "stream",
     "text": [
      " 67%|██████▋   | 26/39 [14:13<08:26, 38.94s/it]"
     ]
    },
    {
     "name": "stdout",
     "output_type": "stream",
     "text": [
      "🔍 Step 1: Clarity Check\n",
      "✅ Clarity Result: clarification_needed=False reason='มีบริบทและหัตถการครบ'\n",
      "🚦 Step 2: Out-of-Domain Check\n",
      "✅ Out-of-Domain Result: out_of_domain=False reason='มีคำว่า ท้อยฟ่างป็น'\n",
      "📊 Step 3: Category Classification\n"
     ]
    },
    {
     "name": "stderr",
     "output_type": "stream",
     "text": [
      " 69%|██████▉   | 27/39 [14:57<08:03, 40.30s/it]"
     ]
    },
    {
     "name": "stdout",
     "output_type": "stream",
     "text": [
      "🔍 Step 1: Clarity Check\n",
      "✅ Clarity Result: clarification_needed=False reason='ไม่ต้องการข้อมูลเพิ่มเติม'\n",
      "🚦 Step 2: Out-of-Domain Check\n",
      "✅ Out-of-Domain Result: out_of_domain=False reason='มีคำว่า ยางพันทานบัน เป็นอย่างอัน'\n",
      "📊 Step 3: Category Classification\n"
     ]
    },
    {
     "name": "stderr",
     "output_type": "stream",
     "text": [
      " 72%|███████▏  | 28/39 [15:26<06:48, 37.12s/it]"
     ]
    },
    {
     "name": "stdout",
     "output_type": "stream",
     "text": [
      "🔍 Step 1: Clarity Check\n",
      "✅ Clarity Result: clarification_needed=False reason='เจตนาชัดเจน มีบริบทและหัตถการครบ'\n",
      "🚦 Step 2: Out-of-Domain Check\n",
      "✅ Out-of-Domain Result: out_of_domain=False reason=\"มีคำว่า 'หลังถอนฟัน' และ 'กินข้าว' จึงอยู่ในขอบเขต\"\n",
      "📊 Step 3: Category Classification\n"
     ]
    },
    {
     "name": "stderr",
     "output_type": "stream",
     "text": [
      " 74%|███████▍  | 29/39 [15:59<05:56, 35.67s/it]"
     ]
    },
    {
     "name": "stdout",
     "output_type": "stream",
     "text": [
      "🔍 Step 1: Clarity Check\n",
      "✅ Clarity Result: clarification_needed=False reason='มีเจตนาถาม มีบริบททางทันตกรรม และระบุประเภทหัตถการ'\n",
      "🚦 Step 2: Out-of-Domain Check\n",
      "✅ Out-of-Domain Result: out_of_domain=False reason='มีคำว่า อมองป็นตัวสถาง เป็นตัว อย่างอย่าง บัวสถาง เป็นตัว อย่างอย่าง บัวสถาง เป็นตัว อย่างอย่าง บัวสถาง'\n",
      "📊 Step 3: Category Classification\n"
     ]
    },
    {
     "name": "stderr",
     "output_type": "stream",
     "text": [
      " 77%|███████▋  | 30/39 [16:42<05:43, 38.12s/it]"
     ]
    },
    {
     "name": "stdout",
     "output_type": "stream",
     "text": [
      "🔍 Step 1: Clarity Check\n",
      "✅ Clarity Result: clarification_needed=False reason='เจตนาชัดเจน มีบริบทและหัตถการครบ'\n",
      "🚦 Step 2: Out-of-Domain Check\n",
      "✅ Out-of-Domain Result: out_of_domain=False reason=\"มีคำว่า 'หลังถอนฟัน' จึงอยู่ในขอบเขต\"\n",
      "📊 Step 3: Category Classification\n"
     ]
    },
    {
     "name": "stderr",
     "output_type": "stream",
     "text": [
      " 79%|███████▉  | 31/39 [17:13<04:47, 35.98s/it]"
     ]
    },
    {
     "name": "stdout",
     "output_type": "stream",
     "text": [
      "🔍 Step 1: Clarity Check\n",
      "✅ Clarity Result: clarification_needed=False reason='คำถามชัดเจน มีบริบทและหัตถการครบถ้วน'\n",
      "🚦 Step 2: Out-of-Domain Check\n",
      "✅ Out-of-Domain Result: out_of_domain=False reason='มีคำว่า อรับท่อย์่านตัวอย่างหล่างเป็นอย่าง บัวอย่างหล่างเป็นอย่าง บัวอย่างหล่างเป็นอย่าง บัวอย่างหล่างเป็น'\n",
      "📊 Step 3: Category Classification\n"
     ]
    },
    {
     "name": "stderr",
     "output_type": "stream",
     "text": [
      " 82%|████████▏ | 32/39 [17:44<04:00, 34.33s/it]"
     ]
    },
    {
     "name": "stdout",
     "output_type": "stream",
     "text": [
      "🔍 Step 1: Clarity Check\n",
      "✅ Clarity Result: clarification_needed=False reason='เจตนาชัดเจน มีบริบทและหัตถการครบ'\n",
      "🚦 Step 2: Out-of-Domain Check\n",
      "✅ Out-of-Domain Result: out_of_domain=False reason='มีคำว่า ย่องประบตัน'\n",
      "📊 Step 3: Category Classification\n"
     ]
    },
    {
     "name": "stderr",
     "output_type": "stream",
     "text": [
      " 85%|████████▍ | 33/39 [18:09<03:09, 31.56s/it]"
     ]
    },
    {
     "name": "stdout",
     "output_type": "stream",
     "text": [
      "🔍 Step 1: Clarity Check\n",
      "✅ Clarity Result: clarification_needed=False reason='มีบริบทและหัตถการครบ'\n",
      "🚦 Step 2: Out-of-Domain Check\n",
      "✅ Out-of-Domain Result: out_of_domain=False reason=\"มีคำว่า 'ถอนฟัน' จึงอยู่ในขอบเขต\"\n",
      "📊 Step 3: Category Classification\n"
     ]
    },
    {
     "name": "stderr",
     "output_type": "stream",
     "text": [
      " 87%|████████▋ | 34/39 [18:28<02:19, 27.84s/it]"
     ]
    },
    {
     "name": "stdout",
     "output_type": "stream",
     "text": [
      "🔍 Step 1: Clarity Check\n",
      "✅ Clarity Result: clarification_needed=False reason='คำถามชัดเจน มีบริบทและหัตถการครบถ้วน'\n",
      "🚦 Step 2: Out-of-Domain Check\n",
      "✅ Out-of-Domain Result: out_of_domain=False reason=\"มีคำว่า 'หลังถอนฟัน' จึงอยู่ในขอบเขต\"\n",
      "📊 Step 3: Category Classification\n"
     ]
    },
    {
     "name": "stderr",
     "output_type": "stream",
     "text": [
      " 90%|████████▉ | 35/39 [18:48<01:41, 25.38s/it]"
     ]
    },
    {
     "name": "stdout",
     "output_type": "stream",
     "text": [
      "🔍 Step 1: Clarity Check\n",
      "✅ Clarity Result: clarification_needed=False reason='เจตนาชัดเจน มีบริบทและหัตถการครบ'\n",
      "🚦 Step 2: Out-of-Domain Check\n",
      "✅ Out-of-Domain Result: out_of_domain=False reason=\"มีคำว่า 'หลังถอนฟัน' จึงอยู่ในขอบเขต\"\n",
      "📊 Step 3: Category Classification\n"
     ]
    },
    {
     "name": "stderr",
     "output_type": "stream",
     "text": [
      " 92%|█████████▏| 36/39 [19:13<01:16, 25.38s/it]"
     ]
    },
    {
     "name": "stdout",
     "output_type": "stream",
     "text": [
      "🔍 Step 1: Clarity Check\n",
      "✅ Clarity Result: clarification_needed=False reason='คำถามชัดเจน มีบริบทและหัตถการครบถ้วน'\n",
      "🚦 Step 2: Out-of-Domain Check\n",
      "✅ Out-of-Domain Result: out_of_domain=False reason='มีคำว่า อรับท่านตัน เป็นอย่านตัน'\n",
      "📊 Step 3: Category Classification\n"
     ]
    },
    {
     "name": "stderr",
     "output_type": "stream",
     "text": [
      " 95%|█████████▍| 37/39 [19:41<00:52, 26.11s/it]"
     ]
    },
    {
     "name": "stdout",
     "output_type": "stream",
     "text": [
      "🔍 Step 1: Clarity Check\n",
      "✅ Clarity Result: clarification_needed=False reason='ไม่จำเป็นต้องขอความชัดเจนเพิ่มเติม'\n",
      "🚦 Step 2: Out-of-Domain Check\n",
      "✅ Out-of-Domain Result: out_of_domain=False reason='มีคำว่า ยางพันตัวนที่อนตัวน เป็นอย่างอัวนตัวน'\n",
      "📊 Step 3: Category Classification\n"
     ]
    },
    {
     "name": "stderr",
     "output_type": "stream",
     "text": [
      " 97%|█████████▋| 38/39 [20:04<00:25, 25.15s/it]"
     ]
    },
    {
     "name": "stdout",
     "output_type": "stream",
     "text": [
      "🔍 Step 1: Clarity Check\n",
      "✅ Clarity Result: clarification_needed=False reason='คำถามชัดเจน มีบริบทและหัตถการครบถ้วน'\n",
      "🚦 Step 2: Out-of-Domain Check\n",
      "✅ Out-of-Domain Result: out_of_domain=False reason=\"มีคำว่า 'หลังถอนฟัน' และ 'น้ำยาบ้วนปาก' จึงอยู่ในขอบเขต\"\n",
      "📊 Step 3: Category Classification\n"
     ]
    },
    {
     "name": "stderr",
     "output_type": "stream",
     "text": [
      "100%|██████████| 39/39 [20:32<00:00, 31.60s/it]\n"
     ]
    }
   ],
   "source": [
    "\n",
    "import pandas as pd\n",
    "from tqdm import tqdm\n",
    "import sys\n",
    "import os\n",
    "\n",
    "sys.path.append(os.path.abspath(\"..\"))\n",
    "\n",
    "df = pd.read_excel(\"question_2categorylevel.xlsx\")\n",
    "df.columns = df.columns.str.strip()\n",
    "results = []\n",
    "\n",
    "for _, row in tqdm(df.iterrows(), total=len(df)):\n",
    "    query = row[\"question\"]\n",
    "    expected_lv1 = row[\"category_level1\"]\n",
    "    expected_lv2 = row[\"category_level2\"]\n",
    "\n",
    "    try:\n",
    "        initial_state = AgentState(user_query=query)\n",
    "        state = graph.invoke(initial_state)\n",
    "        state_obj = AgentState(**state)\n",
    "\n",
    "        # หมวดหมู่ที่ model ทำนาย\n",
    "        if state_obj.classification_result.category_level_1:\n",
    "            predicted_lv1 = state_obj.classification_result.category_level_1[0].category\n",
    "        else:\n",
    "            predicted_lv1 = \"\"\n",
    "\n",
    "        if state_obj.classification_result.category_level_2:\n",
    "            predicted_lv2 = state_obj.classification_result.category_level_2[0].subcategory\n",
    "        else:\n",
    "            predicted_lv2 = \"\"\n",
    "\n",
    "        # เปรียบเทียบกับที่ถูกต้อง\n",
    "        correct_lv1 = predicted_lv1 == expected_lv1\n",
    "        correct_lv2 = predicted_lv2 == expected_lv2\n",
    "\n",
    "        # latency และ token usage\n",
    "        latency = state_obj.latency or {}\n",
    "        total_latency = round(sum(v for k, v in latency.items() if isinstance(v, float)), 3)\n",
    "\n",
    "        results.append({\n",
    "            \"query\": query,\n",
    "            \"expected_lv1\": expected_lv1,\n",
    "            \"predicted_lv1\": predicted_lv1,\n",
    "            \"correct_lv1\": correct_lv1,\n",
    "            \"expected_lv2\": expected_lv2,\n",
    "            \"predicted_lv2\": predicted_lv2,\n",
    "            \"correct_lv2\": correct_lv2,\n",
    "            \"latency_out_of_domain\": latency.get(\"out_of_domain\"),\n",
    "            \"latency_clarification\": latency.get(\"clarification\"),\n",
    "            \"latency_classification\": latency.get(\"classification\"),\n",
    "            \"tokens_out_of_domain\": latency.get(\"tokens_out_of_domain\"),\n",
    "            \"tokens_clarification\": latency.get(\"tokens_clarification\"),\n",
    "            \"tokens_classification\": latency.get(\"tokens_classification\"),\n",
    "            \"total_latency\": total_latency,\n",
    "            \"error\": \"\"\n",
    "        })\n",
    "\n",
    "    except Exception as e:\n",
    "        results.append({\n",
    "            \"query\": query,\n",
    "            \"expected_lv1\": expected_lv1,\n",
    "            \"predicted_lv1\": \"\",\n",
    "            \"correct_lv1\": False,\n",
    "            \"expected_lv2\": expected_lv2,\n",
    "            \"predicted_lv2\": \"\",\n",
    "            \"correct_lv2\": False,\n",
    "            \"latency_out_of_domain\": None,\n",
    "            \"latency_clarification\": None,\n",
    "            \"latency_classification\": None,\n",
    "            \"tokens_out_of_domain\": None,\n",
    "            \"tokens_clarification\": None,\n",
    "            \"tokens_classification\": None,\n",
    "            \"total_latency\": None,\n",
    "            \"error\": str(e)\n",
    "        })"
   ]
  },
  {
   "cell_type": "code",
   "execution_count": null,
   "id": "a2d2632f",
   "metadata": {},
   "outputs": [
    {
     "data": {
      "text/plain": [
       "[{'query': ' ยาชาถอนฟันจะอยู่ได้นานกี่ชั่วโมง?',\n",
       "  'expected_lv1': 'หัตถการ',\n",
       "  'predicted_lv1': 'อาการ/ภาวะแทรกซ้อน',\n",
       "  'correct_lv1': False,\n",
       "  'expected_lv2': 'การใช้ยาชา',\n",
       "  'predicted_lv2': 'wound healing',\n",
       "  'correct_lv2': False,\n",
       "  'error': ''},\n",
       " {'query': 'หลังถอนฟัน อาการผิดปกติแบบไหนที่ควรกลับไปพบทันตแพทย์',\n",
       "  'expected_lv1': 'อาการ/ภาวะแทรกซ้อน',\n",
       "  'predicted_lv1': 'อาการ/ภาวะแทรกซ้อน',\n",
       "  'correct_lv1': True,\n",
       "  'expected_lv2': 'overall',\n",
       "  'predicted_lv2': 'wound healing',\n",
       "  'correct_lv2': False,\n",
       "  'error': ''},\n",
       " {'query': 'ความเสี่ยงและผลกระทบที่เกิดจากการถอนฟัน',\n",
       "  'expected_lv1': 'อาการ/ภาวะแทรกซ้อน',\n",
       "  'predicted_lv1': 'อาการ/ภาวะแทรกซ้อน',\n",
       "  'correct_lv1': True,\n",
       "  'expected_lv2': 'overall',\n",
       "  'predicted_lv2': 'wound healing',\n",
       "  'correct_lv2': False,\n",
       "  'error': ''},\n",
       " {'query': 'สัญญาณของการติดเชื้อหลังถอนฟัน',\n",
       "  'expected_lv1': 'อาการ/ภาวะแทรกซ้อน',\n",
       "  'predicted_lv1': 'อาการ/ภาวะแทรกซ้อน',\n",
       "  'correct_lv1': True,\n",
       "  'expected_lv2': 'overall',\n",
       "  'predicted_lv2': 'wound healing',\n",
       "  'correct_lv2': False,\n",
       "  'error': ''},\n",
       " {'query': 'หลังผ่าเสร็จจะมีอาการอย่างไร ปวดบวมมากน้อยแค่ไหน?',\n",
       "  'expected_lv1': 'อาการ/ภาวะแทรกซ้อน',\n",
       "  'predicted_lv1': 'อาการ/ภาวะแทรกซ้อน',\n",
       "  'correct_lv1': True,\n",
       "  'expected_lv2': 'overall',\n",
       "  'predicted_lv2': 'wound healing',\n",
       "  'correct_lv2': False,\n",
       "  'error': ''},\n",
       " {'query': 'ทำไมถอนฟันแล้วเลือดไหลเยอะมาก',\n",
       "  'expected_lv1': 'อาการ/ภาวะแทรกซ้อน',\n",
       "  'predicted_lv1': 'อาการ/ภาวะแทรกซ้อน',\n",
       "  'correct_lv1': True,\n",
       "  'expected_lv2': 'bleeding',\n",
       "  'predicted_lv2': 'wound healing',\n",
       "  'correct_lv2': False,\n",
       "  'error': ''},\n",
       " {'query': 'ถอนฟันเลือดไหลกี่ชั่วโมง ถ้าเลือดไหลไม่หยุด ทำอย่างไรดี?',\n",
       "  'expected_lv1': 'อาการ/ภาวะแทรกซ้อน',\n",
       "  'predicted_lv1': 'อาการ/ภาวะแทรกซ้อน',\n",
       "  'correct_lv1': True,\n",
       "  'expected_lv2': 'bleeding',\n",
       "  'predicted_lv2': 'wound healing',\n",
       "  'correct_lv2': False,\n",
       "  'error': ''},\n",
       " {'query': 'ถอนฟันแล้วเลือดไหลไม่หยุด อันตรายไหม',\n",
       "  'expected_lv1': 'อาการ/ภาวะแทรกซ้อน',\n",
       "  'predicted_lv1': 'อาการ/ภาวะแทรกซ้อน',\n",
       "  'correct_lv1': True,\n",
       "  'expected_lv2': 'bleeding',\n",
       "  'predicted_lv2': 'wound healing',\n",
       "  'correct_lv2': False,\n",
       "  'error': ''},\n",
       " {'query': 'วิธีห้ามเลือดหลังถอนฟัน',\n",
       "  'expected_lv1': 'อาการ/ภาวะแทรกซ้อน',\n",
       "  'predicted_lv1': 'อาการ/ภาวะแทรกซ้อน',\n",
       "  'correct_lv1': True,\n",
       "  'expected_lv2': 'bleeding',\n",
       "  'predicted_lv2': 'wound healing',\n",
       "  'correct_lv2': False,\n",
       "  'error': ''},\n",
       " {'query': 'ถอนฟันแล้วอมน้ำแข็งเพื่อให้เลือดหยุดไหลได้จริงหรือไม่ ',\n",
       "  'expected_lv1': 'อาการ/ภาวะแทรกซ้อน',\n",
       "  'predicted_lv1': 'อาการ/ภาวะแทรกซ้อน',\n",
       "  'correct_lv1': True,\n",
       "  'expected_lv2': 'bleeding',\n",
       "  'predicted_lv2': 'wound healing',\n",
       "  'correct_lv2': False,\n",
       "  'error': ''},\n",
       " {'query': 'ถอนฟันกรามกี่วันหายปวด',\n",
       "  'expected_lv1': 'อาการ/ภาวะแทรกซ้อน',\n",
       "  'predicted_lv1': 'อาการ/ภาวะแทรกซ้อน',\n",
       "  'correct_lv1': True,\n",
       "  'expected_lv2': 'pain',\n",
       "  'predicted_lv2': 'wound healing',\n",
       "  'correct_lv2': False,\n",
       "  'error': ''},\n",
       " {'query': 'ฉันควรทำอย่างไรหากรู้สึกปวดอย่างต่อเนื่อง',\n",
       "  'expected_lv1': 'อาการ/ภาวะแทรกซ้อน',\n",
       "  'predicted_lv1': 'อาการ/ภาวะแทรกซ้อน',\n",
       "  'correct_lv1': True,\n",
       "  'expected_lv2': 'pain',\n",
       "  'predicted_lv2': 'wound healing',\n",
       "  'correct_lv2': False,\n",
       "  'error': ''},\n",
       " {'query': 'วิธีบรรเทาอาการปวดหลังถอนฟัน',\n",
       "  'expected_lv1': 'อาการ/ภาวะแทรกซ้อน',\n",
       "  'predicted_lv1': 'อาการ/ภาวะแทรกซ้อน',\n",
       "  'correct_lv1': True,\n",
       "  'expected_lv2': 'pain',\n",
       "  'predicted_lv2': 'wound healing',\n",
       "  'correct_lv2': False,\n",
       "  'error': ''},\n",
       " {'query': 'วิธีแก้ปวดหลังถอนฟัน',\n",
       "  'expected_lv1': 'อาการ/ภาวะแทรกซ้อน',\n",
       "  'predicted_lv1': 'อาการ/ภาวะแทรกซ้อน',\n",
       "  'correct_lv1': True,\n",
       "  'expected_lv2': 'pain',\n",
       "  'predicted_lv2': 'wound healing',\n",
       "  'correct_lv2': False,\n",
       "  'error': ''},\n",
       " {'query': 'ผ่าฟันคุด หรือถอนฟันแล้ว ยังคงมีอาการปวดมากไม่หาย กินยาแก้ปวดก็ไม่หาย ซึ่งถ้าเป็นอาการของ กระดูกเบ้าฟันอักเสบ (Dry socket) จะต้องทำอย่างไร?',\n",
       "  'expected_lv1': 'อาการ/ภาวะแทรกซ้อน',\n",
       "  'predicted_lv1': 'อาการ/ภาวะแทรกซ้อน',\n",
       "  'correct_lv1': True,\n",
       "  'expected_lv2': 'pain',\n",
       "  'predicted_lv2': 'wound healing',\n",
       "  'correct_lv2': False,\n",
       "  'error': ''},\n",
       " {'query': 'แผลถอนฟันจะหายสนิทในเวลากี่วัน?',\n",
       "  'expected_lv1': 'อาการ/ภาวะแทรกซ้อน',\n",
       "  'predicted_lv1': 'อาการ/ภาวะแทรกซ้อน',\n",
       "  'correct_lv1': True,\n",
       "  'expected_lv2': 'wound healing',\n",
       "  'predicted_lv2': 'wound healing',\n",
       "  'correct_lv2': True,\n",
       "  'error': ''},\n",
       " {'query': 'แผลหลังถอนฟันหายนานแค่ไหน',\n",
       "  'expected_lv1': 'อาการ/ภาวะแทรกซ้อน',\n",
       "  'predicted_lv1': 'อาการ/ภาวะแทรกซ้อน',\n",
       "  'correct_lv1': True,\n",
       "  'expected_lv2': 'wound healing',\n",
       "  'predicted_lv2': 'wound healing',\n",
       "  'correct_lv2': True,\n",
       "  'error': ''},\n",
       " {'query': 'ถอนฟันกรามกี่วันหาย?',\n",
       "  'expected_lv1': 'อาการ/ภาวะแทรกซ้อน',\n",
       "  'predicted_lv1': 'อาการ/ภาวะแทรกซ้อน',\n",
       "  'correct_lv1': True,\n",
       "  'expected_lv2': 'wound healing',\n",
       "  'predicted_lv2': 'wound healing',\n",
       "  'correct_lv2': True,\n",
       "  'error': ''},\n",
       " {'query': 'ถ้าเป็นแผลผ่าฟันคุดต้องใช้เวลานานแค่ไหน กว่าแผลจะหายดี?',\n",
       "  'expected_lv1': 'อาการ/ภาวะแทรกซ้อน',\n",
       "  'predicted_lv1': 'อาการ/ภาวะแทรกซ้อน',\n",
       "  'correct_lv1': True,\n",
       "  'expected_lv2': 'wound healing',\n",
       "  'predicted_lv2': 'wound healing',\n",
       "  'correct_lv2': True,\n",
       "  'error': ''},\n",
       " {'query': 'หลังถอนฟันหรือผ่าฟันคุด ควรปฏิบัติตัวอย่างไร?',\n",
       "  'expected_lv1': 'การปฏิบัติตัวหลังทำหัตถการ',\n",
       "  'predicted_lv1': 'อาการ/ภาวะแทรกซ้อน',\n",
       "  'correct_lv1': False,\n",
       "  'expected_lv2': 'overall',\n",
       "  'predicted_lv2': 'wound healing',\n",
       "  'correct_lv2': False,\n",
       "  'error': ''},\n",
       " {'query': 'หลังถอนฟัน ควรปฏิบัติตัวอย่างไร?',\n",
       "  'expected_lv1': 'การปฏิบัติตัวหลังทำหัตถการ',\n",
       "  'predicted_lv1': 'อาการ/ภาวะแทรกซ้อน',\n",
       "  'correct_lv1': False,\n",
       "  'expected_lv2': 'overall',\n",
       "  'predicted_lv2': 'wound healing',\n",
       "  'correct_lv2': False,\n",
       "  'error': ''},\n",
       " {'query': 'ทำอย่างไรให้แผลถอนฟันหายเร็วขึ้น',\n",
       "  'expected_lv1': 'การปฏิบัติตัวหลังทำหัตถการ',\n",
       "  'predicted_lv1': 'อาการ/ภาวะแทรกซ้อน',\n",
       "  'correct_lv1': False,\n",
       "  'expected_lv2': 'overall',\n",
       "  'predicted_lv2': 'wound healing',\n",
       "  'correct_lv2': False,\n",
       "  'error': ''},\n",
       " {'query': 'ถอนฟันห้ามใช้หลอดกี่วัน?',\n",
       "  'expected_lv1': 'การปฏิบัติตัวหลังทำหัตถการ',\n",
       "  'predicted_lv1': 'อาการ/ภาวะแทรกซ้อน',\n",
       "  'correct_lv1': False,\n",
       "  'expected_lv2': 'drinking straw',\n",
       "  'predicted_lv2': 'wound healing',\n",
       "  'correct_lv2': False,\n",
       "  'error': ''},\n",
       " {'query': 'หลังการถอนฟันฉันสามารถดื่มน้ำด้วยหลอดได้หรือไม่',\n",
       "  'expected_lv1': 'การปฏิบัติตัวหลังทำหัตถการ',\n",
       "  'predicted_lv1': 'อาการ/ภาวะแทรกซ้อน',\n",
       "  'correct_lv1': False,\n",
       "  'expected_lv2': 'drinking straw',\n",
       "  'predicted_lv2': 'wound healing',\n",
       "  'correct_lv2': False,\n",
       "  'error': ''},\n",
       " {'query': 'สามารถใช้หลอดดื่มหลังถอนฟันได้หรือไม่',\n",
       "  'expected_lv1': 'การปฏิบัติตัวหลังทำหัตถการ',\n",
       "  'predicted_lv1': 'อาการ/ภาวะแทรกซ้อน',\n",
       "  'correct_lv1': False,\n",
       "  'expected_lv2': 'drinking straw',\n",
       "  'predicted_lv2': 'wound healing',\n",
       "  'correct_lv2': False,\n",
       "  'error': ''},\n",
       " {'query': 'ทำไมหลังถอนฟันแล้วดื่มน้ำโดยการใช้หลอดดูดน้ำไม่ได้',\n",
       "  'expected_lv1': 'การปฏิบัติตัวหลังทำหัตถการ',\n",
       "  'predicted_lv1': 'อาการ/ภาวะแทรกซ้อน',\n",
       "  'correct_lv1': False,\n",
       "  'expected_lv2': 'drinking straw',\n",
       "  'predicted_lv2': 'wound healing',\n",
       "  'correct_lv2': False,\n",
       "  'error': ''},\n",
       " {'query': 'ถอนฟันกินเหล้าได้ไหม?',\n",
       "  'expected_lv1': 'การปฏิบัติตัวหลังทำหัตถการ',\n",
       "  'predicted_lv1': 'อาการ/ภาวะแทรกซ้อน',\n",
       "  'correct_lv1': False,\n",
       "  'expected_lv2': 'alcohol',\n",
       "  'predicted_lv2': 'wound healing',\n",
       "  'correct_lv2': False,\n",
       "  'error': ''},\n",
       " {'query': 'ทำไมต้องงดออกกำลังกาย หลังการถอนฟัน  ',\n",
       "  'expected_lv1': 'การปฏิบัติตัวหลังทำหัตถการ',\n",
       "  'predicted_lv1': 'อาการ/ภาวะแทรกซ้อน',\n",
       "  'correct_lv1': False,\n",
       "  'expected_lv2': 'workout',\n",
       "  'predicted_lv2': 'wound healing',\n",
       "  'correct_lv2': False,\n",
       "  'error': ''},\n",
       " {'query': 'หลังถอนฟันกินข้าวได้ตอนไหน?',\n",
       "  'expected_lv1': 'การปฏิบัติตัวหลังทำหัตถการ',\n",
       "  'predicted_lv1': 'อาการ/ภาวะแทรกซ้อน',\n",
       "  'correct_lv1': False,\n",
       "  'expected_lv2': 'food',\n",
       "  'predicted_lv2': 'wound healing',\n",
       "  'correct_lv2': False,\n",
       "  'error': ''},\n",
       " {'query': 'หลังถอนฟัน ถ้าเลือดหยุดไหลแล้ว สามารถกินข้าวได้เลยมั้ย',\n",
       "  'expected_lv1': 'การปฏิบัติตัวหลังทำหัตถการ',\n",
       "  'predicted_lv1': 'อาการ/ภาวะแทรกซ้อน',\n",
       "  'correct_lv1': False,\n",
       "  'expected_lv2': 'food',\n",
       "  'predicted_lv2': 'wound healing',\n",
       "  'correct_lv2': False,\n",
       "  'error': ''},\n",
       " {'query': 'หลังถอนฟันสามารถกินอะไรได้บ้าง',\n",
       "  'expected_lv1': 'การปฏิบัติตัวหลังทำหัตถการ',\n",
       "  'predicted_lv1': 'อาการ/ภาวะแทรกซ้อน',\n",
       "  'correct_lv1': False,\n",
       "  'expected_lv2': 'food',\n",
       "  'predicted_lv2': 'wound healing',\n",
       "  'correct_lv2': False,\n",
       "  'error': ''},\n",
       " {'query': 'อาหารอ่อนที่ดีต่อการฟื้นตัวหลังการถอนฟัน',\n",
       "  'expected_lv1': 'การปฏิบัติตัวหลังทำหัตถการ',\n",
       "  'predicted_lv1': 'อาการ/ภาวะแทรกซ้อน',\n",
       "  'correct_lv1': False,\n",
       "  'expected_lv2': 'food',\n",
       "  'predicted_lv2': 'wound healing',\n",
       "  'correct_lv2': False,\n",
       "  'error': ''},\n",
       " {'query': 'อาหารที่ทานได้ทันทีหลังการถอนฟัน',\n",
       "  'expected_lv1': 'การปฏิบัติตัวหลังทำหัตถการ',\n",
       "  'predicted_lv1': 'อาการ/ภาวะแทรกซ้อน',\n",
       "  'correct_lv1': False,\n",
       "  'expected_lv2': 'food',\n",
       "  'predicted_lv2': 'wound healing',\n",
       "  'correct_lv2': False,\n",
       "  'error': ''},\n",
       " {'query': 'ถอนฟัน ห้ามกินอะไร?',\n",
       "  'expected_lv1': 'การปฏิบัติตัวหลังทำหัตถการ',\n",
       "  'predicted_lv1': 'อาการ/ภาวะแทรกซ้อน',\n",
       "  'correct_lv1': False,\n",
       "  'expected_lv2': 'food',\n",
       "  'predicted_lv2': 'wound healing',\n",
       "  'correct_lv2': False,\n",
       "  'error': ''},\n",
       " {'query': 'ห้ามกินอะไรหลังถอนฟันบ้าง\\xa0\\xa0',\n",
       "  'expected_lv1': 'การปฏิบัติตัวหลังทำหัตถการ',\n",
       "  'predicted_lv1': 'อาการ/ภาวะแทรกซ้อน',\n",
       "  'correct_lv1': False,\n",
       "  'expected_lv2': 'food',\n",
       "  'predicted_lv2': 'wound healing',\n",
       "  'correct_lv2': False,\n",
       "  'error': ''},\n",
       " {'query': 'หลังถอนฟันควรหลีกเลี่ยงการกินอะไรบ้าง',\n",
       "  'expected_lv1': 'การปฏิบัติตัวหลังทำหัตถการ',\n",
       "  'predicted_lv1': 'อาการ/ภาวะแทรกซ้อน',\n",
       "  'correct_lv1': False,\n",
       "  'expected_lv2': 'food',\n",
       "  'predicted_lv2': 'wound healing',\n",
       "  'correct_lv2': False,\n",
       "  'error': ''},\n",
       " {'query': 'หลังถอนฟันห้ามกินไข่ จริงหรือ?',\n",
       "  'expected_lv1': 'การปฏิบัติตัวหลังทำหัตถการ',\n",
       "  'predicted_lv1': 'อาการ/ภาวะแทรกซ้อน',\n",
       "  'correct_lv1': False,\n",
       "  'expected_lv2': 'food',\n",
       "  'predicted_lv2': 'wound healing',\n",
       "  'correct_lv2': False,\n",
       "  'error': ''},\n",
       " {'query': 'ฉันสามารถรับประทานอาหารที่แข็งหลังการถอนฟันได้ทันทีหรือไม่',\n",
       "  'expected_lv1': 'การปฏิบัติตัวหลังทำหัตถการ',\n",
       "  'predicted_lv1': 'อาการ/ภาวะแทรกซ้อน',\n",
       "  'correct_lv1': False,\n",
       "  'expected_lv2': 'food',\n",
       "  'predicted_lv2': 'wound healing',\n",
       "  'correct_lv2': False,\n",
       "  'error': ''},\n",
       " {'query': 'หลังถอนฟันแล้ว ใช้น้ำยาบ้วนปากได้มั้ย',\n",
       "  'expected_lv1': 'การปฏิบัติตัวหลังทำหัตถการ',\n",
       "  'predicted_lv1': 'อาการ/ภาวะแทรกซ้อน',\n",
       "  'correct_lv1': False,\n",
       "  'expected_lv2': 'oral hygiene',\n",
       "  'predicted_lv2': 'wound healing',\n",
       "  'correct_lv2': False,\n",
       "  'error': ''}]"
      ]
     },
     "execution_count": 25,
     "metadata": {},
     "output_type": "execute_result"
    }
   ],
   "source": [
    "results"
   ]
  },
  {
   "cell_type": "code",
   "execution_count": 4,
   "id": "a58eb9ab",
   "metadata": {},
   "outputs": [
    {
     "ename": "NameError",
     "evalue": "name 'results' is not defined",
     "output_type": "error",
     "traceback": [
      "\u001b[1;31m---------------------------------------------------------------------------\u001b[0m",
      "\u001b[1;31mNameError\u001b[0m                                 Traceback (most recent call last)",
      "Cell \u001b[1;32mIn[4], line 4\u001b[0m\n\u001b[0;32m      1\u001b[0m \u001b[38;5;28;01mimport\u001b[39;00m \u001b[38;5;21;01mpandas\u001b[39;00m \u001b[38;5;28;01mas\u001b[39;00m \u001b[38;5;21;01mpd\u001b[39;00m\n\u001b[0;32m      3\u001b[0m \u001b[38;5;66;03m# สมมุติว่า results เป็น list ของ dictionary\u001b[39;00m\n\u001b[1;32m----> 4\u001b[0m results_df4 \u001b[38;5;241m=\u001b[39m pd\u001b[38;5;241m.\u001b[39mDataFrame(\u001b[43mresults\u001b[49m)\n\u001b[0;32m      6\u001b[0m \u001b[38;5;66;03m# แล้วค่อยบันทึกเป็น Excel\u001b[39;00m\n\u001b[0;32m      7\u001b[0m results_df4\u001b[38;5;241m.\u001b[39mto_excel(\u001b[38;5;124m\"\u001b[39m\u001b[38;5;124mresults_pipeline_v2_clarity_first.xlsx\u001b[39m\u001b[38;5;124m\"\u001b[39m, index\u001b[38;5;241m=\u001b[39m\u001b[38;5;28;01mFalse\u001b[39;00m)\n",
      "\u001b[1;31mNameError\u001b[0m: name 'results' is not defined"
     ]
    }
   ],
   "source": [
    "import pandas as pd\n",
    "\n",
    "# สมมุติว่า results เป็น list ของ dictionary\n",
    "results_df4 = pd.DataFrame(results)\n",
    "\n",
    "# แล้วค่อยบันทึกเป็น Excel\n",
    "results_df4.to_excel(\"results_pipeline_v2_clarity_first.xlsx\", index=False)\n",
    "\n"
   ]
  },
  {
   "cell_type": "code",
   "execution_count": 20,
   "id": "6bbe9792",
   "metadata": {},
   "outputs": [],
   "source": [
    "import pandas as pd\n",
    "\n",
    "# สมมุติว่า results เป็น list ของ dictionary\n",
    "results_df = pd.DataFrame(results)\n",
    "\n",
    "# แล้วค่อยบันทึกเป็น Excel\n",
    "results_df.to_excel(\"results.xlsx\", index=False)\n",
    "\n"
   ]
  },
  {
   "cell_type": "code",
   "execution_count": 12,
   "id": "18bb8aba",
   "metadata": {},
   "outputs": [
    {
     "name": "stdout",
     "output_type": "stream",
     "text": [
      "['category_level1', 'category_level2', 'question']\n"
     ]
    }
   ],
   "source": [
    "print(df.columns.tolist())\n"
   ]
  },
  {
   "cell_type": "code",
   "execution_count": 5,
   "id": "9f733049",
   "metadata": {},
   "outputs": [
    {
     "name": "stderr",
     "output_type": "stream",
     "text": [
      "  0%|          | 0/20 [00:00<?, ?it/s]"
     ]
    },
    {
     "name": "stdout",
     "output_type": "stream",
     "text": [
      "🔍 Step 1: Clarity Check\n",
      "✅ Clarity Result: clarification_needed=True reason='ไม่มีบริบททางทันตกรรม'\n"
     ]
    },
    {
     "name": "stderr",
     "output_type": "stream",
     "text": [
      "  5%|▌         | 1/20 [00:05<01:45,  5.57s/it]"
     ]
    },
    {
     "name": "stdout",
     "output_type": "stream",
     "text": [
      "🔍 Step 1: Clarity Check\n"
     ]
    },
    {
     "name": "stderr",
     "output_type": "stream",
     "text": [
      " 10%|█         | 2/20 [00:14<02:20,  7.78s/it]"
     ]
    },
    {
     "name": "stdout",
     "output_type": "stream",
     "text": [
      "✅ Clarity Result: clarification_needed=True reason='ไม่มีบริบททางทันตกรรม'\n",
      "🔍 Step 1: Clarity Check\n"
     ]
    },
    {
     "name": "stderr",
     "output_type": "stream",
     "text": [
      " 15%|█▌        | 3/20 [00:24<02:29,  8.77s/it]"
     ]
    },
    {
     "name": "stdout",
     "output_type": "stream",
     "text": [
      "✅ Clarity Result: clarification_needed=True reason='ไม่มีเจตนาถาม'\n",
      "🔍 Step 1: Clarity Check\n",
      "✅ Clarity Result: clarification_needed=False reason='คำถามชัดเจน มีบริบทและหัตถการครบถ้วน'\n",
      "🚦 Step 2: Out-of-Domain Check\n"
     ]
    },
    {
     "name": "stderr",
     "output_type": "stream",
     "text": [
      " 20%|██        | 4/20 [00:51<04:13, 15.84s/it]"
     ]
    },
    {
     "name": "stdout",
     "output_type": "stream",
     "text": [
      "✅ Out-of-Domain Result: out_of_domain=True reason='ไม่เกี่ยวข้องกับทันตกรรม'\n",
      "🔍 Step 1: Clarity Check\n"
     ]
    },
    {
     "name": "stderr",
     "output_type": "stream",
     "text": [
      " 25%|██▌       | 5/20 [00:58<03:10, 12.70s/it]"
     ]
    },
    {
     "name": "stdout",
     "output_type": "stream",
     "text": [
      "✅ Clarity Result: clarification_needed=True reason='ไม่มีเจตนาถาม'\n",
      "🔍 Step 1: Clarity Check\n"
     ]
    },
    {
     "name": "stderr",
     "output_type": "stream",
     "text": [
      " 30%|███       | 6/20 [01:05<02:31, 10.84s/it]"
     ]
    },
    {
     "name": "stdout",
     "output_type": "stream",
     "text": [
      "✅ Clarity Result: clarification_needed=True reason='ไม่มีเจตนาถาม'\n",
      "🔍 Step 1: Clarity Check\n"
     ]
    },
    {
     "name": "stderr",
     "output_type": "stream",
     "text": [
      " 35%|███▌      | 7/20 [01:09<01:48,  8.37s/it]"
     ]
    },
    {
     "name": "stdout",
     "output_type": "stream",
     "text": [
      "✅ Clarity Result: clarification_needed=True reason='ไม่มีเจตนาถาม'\n",
      "🔍 Step 1: Clarity Check\n"
     ]
    },
    {
     "name": "stderr",
     "output_type": "stream",
     "text": [
      " 40%|████      | 8/20 [01:20<01:52,  9.35s/it]"
     ]
    },
    {
     "name": "stdout",
     "output_type": "stream",
     "text": [
      "✅ Clarity Result: clarification_needed=True reason='ไม่ระบุประเภทของหัตถการ เช่น ถอนฟัน ผ่าฟันคุด ฯลฯ'\n",
      "🔍 Step 1: Clarity Check\n"
     ]
    },
    {
     "name": "stderr",
     "output_type": "stream",
     "text": [
      " 45%|████▌     | 9/20 [01:30<01:45,  9.55s/it]"
     ]
    },
    {
     "name": "stdout",
     "output_type": "stream",
     "text": [
      "✅ Clarity Result: clarification_needed=True reason='ไม่มีบริบททางทันตกรรม'\n",
      "🔍 Step 1: Clarity Check\n",
      "✅ Clarity Result: clarification_needed=False reason='ไม่จำเป็นต้องขอข้อมูลเพิ่มเติม'\n",
      "🚦 Step 2: Out-of-Domain Check\n"
     ]
    },
    {
     "name": "stderr",
     "output_type": "stream",
     "text": [
      " 50%|█████     | 10/20 [01:43<01:46, 10.60s/it]"
     ]
    },
    {
     "name": "stdout",
     "output_type": "stream",
     "text": [
      "✅ Out-of-Domain Result: out_of_domain=True reason='ไม่เกี่ยวข้องกับทันตกรรม'\n",
      "🔍 Step 1: Clarity Check\n"
     ]
    },
    {
     "name": "stderr",
     "output_type": "stream",
     "text": [
      " 55%|█████▌    | 11/20 [01:54<01:35, 10.61s/it]"
     ]
    },
    {
     "name": "stdout",
     "output_type": "stream",
     "text": [
      "✅ Clarity Result: clarification_needed=True reason='ไม่มีเจตนาถาม'\n",
      "🔍 Step 1: Clarity Check\n"
     ]
    },
    {
     "name": "stderr",
     "output_type": "stream",
     "text": [
      " 60%|██████    | 12/20 [01:57<01:06,  8.28s/it]"
     ]
    },
    {
     "name": "stdout",
     "output_type": "stream",
     "text": [
      "✅ Clarity Result: clarification_needed=True reason='ไม่มีเจตนาถาม'\n",
      "🔍 Step 1: Clarity Check\n"
     ]
    },
    {
     "name": "stderr",
     "output_type": "stream",
     "text": [
      " 65%|██████▌   | 13/20 [02:07<01:02,  8.98s/it]"
     ]
    },
    {
     "name": "stdout",
     "output_type": "stream",
     "text": [
      "✅ Clarity Result: clarification_needed=True reason='ไม่มีเจตนาถาม'\n",
      "🔍 Step 1: Clarity Check\n"
     ]
    },
    {
     "name": "stderr",
     "output_type": "stream",
     "text": [
      " 70%|███████   | 14/20 [02:10<00:42,  7.11s/it]"
     ]
    },
    {
     "name": "stdout",
     "output_type": "stream",
     "text": [
      "✅ Clarity Result: clarification_needed=True reason='ไม่มีเจตนาถาม'\n",
      "🔍 Step 1: Clarity Check\n"
     ]
    },
    {
     "name": "stderr",
     "output_type": "stream",
     "text": [
      " 75%|███████▌  | 15/20 [02:22<00:43,  8.65s/it]"
     ]
    },
    {
     "name": "stdout",
     "output_type": "stream",
     "text": [
      "✅ Clarity Result: clarification_needed=True reason='ไม่มีบริบททางทันตกรรม'\n",
      "🔍 Step 1: Clarity Check\n"
     ]
    },
    {
     "name": "stderr",
     "output_type": "stream",
     "text": [
      " 80%|████████  | 16/20 [02:28<00:31,  7.81s/it]"
     ]
    },
    {
     "name": "stdout",
     "output_type": "stream",
     "text": [
      "✅ Clarity Result: clarification_needed=True reason='ไม่มีบริบททางทันตกรรม'\n",
      "🔍 Step 1: Clarity Check\n"
     ]
    },
    {
     "name": "stderr",
     "output_type": "stream",
     "text": [
      " 85%|████████▌ | 17/20 [02:44<00:30, 10.30s/it]"
     ]
    },
    {
     "name": "stdout",
     "output_type": "stream",
     "text": [
      "✅ Clarity Result: clarification_needed=True reason='ไม่มีบริบททางทันตกรรม'\n",
      "🔍 Step 1: Clarity Check\n"
     ]
    },
    {
     "name": "stderr",
     "output_type": "stream",
     "text": [
      " 90%|█████████ | 18/20 [02:57<00:22, 11.08s/it]"
     ]
    },
    {
     "name": "stdout",
     "output_type": "stream",
     "text": [
      "✅ Clarity Result: clarification_needed=True reason='ไม่มีเจตนาถาม'\n",
      "🔍 Step 1: Clarity Check\n"
     ]
    },
    {
     "name": "stderr",
     "output_type": "stream",
     "text": [
      " 95%|█████████▌| 19/20 [03:00<00:08,  8.52s/it]"
     ]
    },
    {
     "name": "stdout",
     "output_type": "stream",
     "text": [
      "✅ Clarity Result: clarification_needed=True reason='ไม่มีเจตนาถาม'\n",
      "🔍 Step 1: Clarity Check\n"
     ]
    },
    {
     "name": "stderr",
     "output_type": "stream",
     "text": [
      "100%|██████████| 20/20 [03:05<00:00,  9.27s/it]"
     ]
    },
    {
     "name": "stdout",
     "output_type": "stream",
     "text": [
      "✅ Clarity Result: clarification_needed=True reason='ไม่ระบุประเภทของหัตถการ เช่น ถอนฟัน ผ่าฟันคุด ฯลฯ'\n"
     ]
    },
    {
     "name": "stderr",
     "output_type": "stream",
     "text": [
      "\n"
     ]
    }
   ],
   "source": [
    "from tqdm import tqdm\n",
    "import pandas as pd\n",
    "\n",
    "df = pd.read_excel(\"question_outofdomain_test.xlsx\")\n",
    "df.columns = df.columns.str.strip()\n",
    "df[\"clarification_needed_expected\"] = True\n",
    "results_clari = []\n",
    "\n",
    "for _, row in tqdm(df.iterrows(), total=len(df)):\n",
    "    query = row[\"question\"]\n",
    "    expected_clarification = row[\"clarification_needed_expected\"]\n",
    "\n",
    "    try:\n",
    "        initial_state = AgentState(user_query=query)\n",
    "        state = graph.invoke(initial_state)\n",
    "        state_obj = AgentState(**state)\n",
    "\n",
    "        # ✅ ดึงผลลัพธ์จาก state\n",
    "        predicted_clarification = getattr(state_obj.classification_result, \"clarification_needed\", None)\n",
    "        clarification_reason = getattr(state_obj.classification_result, \"clarification_reason\", \"\")\n",
    "        out_of_domain = getattr(state_obj.classification_result, \"out_of_domain\", None)\n",
    "        out_of_domain_reason = getattr(state_obj.classification_result, \"out_of_domain_reason\", \"\")\n",
    "\n",
    "        correct_clarification = predicted_clarification == expected_clarification\n",
    "\n",
    "        latency = state_obj.latency or {}\n",
    "        total_latency = round(sum(v for k, v in latency.items() if isinstance(v, float)), 3)\n",
    "\n",
    "        # ✅ เพิ่ม note เฉพาะกรณี out_of_domain=True\n",
    "        note = \"\"\n",
    "        if out_of_domain is True:\n",
    "            note = f\"out_of_domain = True, reason: {out_of_domain_reason}\"\n",
    "\n",
    "        results_clari.append({\n",
    "            \"query\": query,\n",
    "            \"expected_clarification\": expected_clarification,\n",
    "            \"predicted_clarification\": predicted_clarification,\n",
    "            \"correct_clarification\": correct_clarification,\n",
    "            \"clarification_reason\": clarification_reason,\n",
    "            \"latency_clarification\": latency.get(\"clarification\"),\n",
    "            \"tokens_clarification\": latency.get(\"tokens_clarification\"),\n",
    "            \"total_latency\": total_latency,\n",
    "            \"note\": note,\n",
    "            \"error\": \"\"\n",
    "        })\n",
    "\n",
    "    except Exception as e:\n",
    "        results_clari.append({\n",
    "            \"query\": query,\n",
    "            \"expected_clarification\": expected_clarification,\n",
    "            \"predicted_clarification\": \"\",\n",
    "            \"correct_clarification\": False,\n",
    "            \"clarification_reason\": \"\",\n",
    "            \"latency_clarification\": None,\n",
    "            \"tokens_clarification\": None,\n",
    "            \"total_latency\": None,\n",
    "            \"note\": \"\",\n",
    "            \"error\": str(e)\n",
    "        })\n"
   ]
  },
  {
   "cell_type": "code",
   "execution_count": 15,
   "id": "2a64d8b0",
   "metadata": {},
   "outputs": [
    {
     "data": {
      "text/plain": [
       "[{'query': 'ต้องพักกี่วันถึงจะหายดี',\n",
       "  'expected_clarification': True,\n",
       "  'predicted_clarification': None,\n",
       "  'correct_clarification': False,\n",
       "  'clarification_reason': '',\n",
       "  'latency_clarification': None,\n",
       "  'tokens_clarification': None,\n",
       "  'total_latency': 24.04,\n",
       "  'note': 'out_of_domain = True, reason: ',\n",
       "  'error': ''},\n",
       " {'query': 'ยังมีเลือดซึมอยู่นิดหน่อย',\n",
       "  'expected_clarification': True,\n",
       "  'predicted_clarification': True,\n",
       "  'correct_clarification': True,\n",
       "  'clarification_reason': '',\n",
       "  'latency_clarification': 9.536,\n",
       "  'tokens_clarification': 26.0,\n",
       "  'total_latency': 74.97,\n",
       "  'note': '',\n",
       "  'error': ''},\n",
       " {'query': 'กินเผ็ดได้ไหมคะ',\n",
       "  'expected_clarification': True,\n",
       "  'predicted_clarification': None,\n",
       "  'correct_clarification': False,\n",
       "  'clarification_reason': '',\n",
       "  'latency_clarification': None,\n",
       "  'tokens_clarification': None,\n",
       "  'total_latency': 17.241,\n",
       "  'note': 'out_of_domain = True, reason: ',\n",
       "  'error': ''},\n",
       " {'query': 'ทำไมยังบวมอยู่',\n",
       "  'expected_clarification': True,\n",
       "  'predicted_clarification': True,\n",
       "  'correct_clarification': True,\n",
       "  'clarification_reason': '',\n",
       "  'latency_clarification': 2.305,\n",
       "  'tokens_clarification': 13.0,\n",
       "  'total_latency': 37.036,\n",
       "  'note': '',\n",
       "  'error': ''},\n",
       " {'query': 'ยังปวดตุบ ๆ อยู่เลย',\n",
       "  'expected_clarification': True,\n",
       "  'predicted_clarification': True,\n",
       "  'correct_clarification': True,\n",
       "  'clarification_reason': '',\n",
       "  'latency_clarification': 12.094,\n",
       "  'tokens_clarification': 20.0,\n",
       "  'total_latency': 64.516,\n",
       "  'note': '',\n",
       "  'error': ''},\n",
       " {'query': 'ยาชาหมดฤทธิ์กี่โมงคะ',\n",
       "  'expected_clarification': True,\n",
       "  'predicted_clarification': False,\n",
       "  'correct_clarification': False,\n",
       "  'clarification_reason': '',\n",
       "  'latency_clarification': 11.928,\n",
       "  'tokens_clarification': 22.0,\n",
       "  'total_latency': 87.726,\n",
       "  'note': '',\n",
       "  'error': ''},\n",
       " {'query': 'ออกกำลังกายได้หรือยัง',\n",
       "  'expected_clarification': True,\n",
       "  'predicted_clarification': None,\n",
       "  'correct_clarification': False,\n",
       "  'clarification_reason': '',\n",
       "  'latency_clarification': None,\n",
       "  'tokens_clarification': None,\n",
       "  'total_latency': 30.47,\n",
       "  'note': 'out_of_domain = True, reason: ',\n",
       "  'error': ''},\n",
       " {'query': 'ต้องทำยังไงดีคะ',\n",
       "  'expected_clarification': True,\n",
       "  'predicted_clarification': None,\n",
       "  'correct_clarification': False,\n",
       "  'clarification_reason': '',\n",
       "  'latency_clarification': None,\n",
       "  'tokens_clarification': None,\n",
       "  'total_latency': 21.009,\n",
       "  'note': 'out_of_domain = True, reason: ',\n",
       "  'error': ''},\n",
       " {'query': 'ยังเคี้ยวข้าวไม่ได้เลย',\n",
       "  'expected_clarification': True,\n",
       "  'predicted_clarification': None,\n",
       "  'correct_clarification': False,\n",
       "  'clarification_reason': '',\n",
       "  'latency_clarification': None,\n",
       "  'tokens_clarification': None,\n",
       "  'total_latency': 24.022,\n",
       "  'note': 'out_of_domain = True, reason: ',\n",
       "  'error': ''},\n",
       " {'query': 'ใช้หลอดดูดน้ำได้ไหม',\n",
       "  'expected_clarification': True,\n",
       "  'predicted_clarification': False,\n",
       "  'correct_clarification': False,\n",
       "  'clarification_reason': '',\n",
       "  'latency_clarification': 6.384,\n",
       "  'tokens_clarification': 19.0,\n",
       "  'total_latency': 76.159,\n",
       "  'note': '',\n",
       "  'error': ''},\n",
       " {'query': 'เมื่อไหร่ยาจะหมดฤทธิ์',\n",
       "  'expected_clarification': True,\n",
       "  'predicted_clarification': True,\n",
       "  'correct_clarification': True,\n",
       "  'clarification_reason': '',\n",
       "  'latency_clarification': 19.974,\n",
       "  'tokens_clarification': 22.0,\n",
       "  'total_latency': 68.067,\n",
       "  'note': '',\n",
       "  'error': ''},\n",
       " {'query': 'นอนหมอนสูงดีไหม',\n",
       "  'expected_clarification': True,\n",
       "  'predicted_clarification': None,\n",
       "  'correct_clarification': False,\n",
       "  'clarification_reason': '',\n",
       "  'latency_clarification': None,\n",
       "  'tokens_clarification': None,\n",
       "  'total_latency': 18.331,\n",
       "  'note': 'out_of_domain = True, reason: ',\n",
       "  'error': ''},\n",
       " {'query': 'ยังกลืนไม่ค่อยได้',\n",
       "  'expected_clarification': True,\n",
       "  'predicted_clarification': None,\n",
       "  'correct_clarification': False,\n",
       "  'clarification_reason': '',\n",
       "  'latency_clarification': None,\n",
       "  'tokens_clarification': None,\n",
       "  'total_latency': 35.189,\n",
       "  'note': 'out_of_domain = True, reason: ',\n",
       "  'error': ''},\n",
       " {'query': 'กังวลว่าจะติดเชื้อ',\n",
       "  'expected_clarification': True,\n",
       "  'predicted_clarification': None,\n",
       "  'correct_clarification': False,\n",
       "  'clarification_reason': '',\n",
       "  'latency_clarification': None,\n",
       "  'tokens_clarification': None,\n",
       "  'total_latency': 19.958,\n",
       "  'note': 'out_of_domain = True, reason: ',\n",
       "  'error': ''},\n",
       " {'query': 'ต้องไปหาหมออีกทีเมื่อไหร่',\n",
       "  'expected_clarification': True,\n",
       "  'predicted_clarification': None,\n",
       "  'correct_clarification': False,\n",
       "  'clarification_reason': '',\n",
       "  'latency_clarification': None,\n",
       "  'tokens_clarification': None,\n",
       "  'total_latency': 33.585,\n",
       "  'note': 'out_of_domain = True, reason: ',\n",
       "  'error': ''}]"
      ]
     },
     "execution_count": 15,
     "metadata": {},
     "output_type": "execute_result"
    }
   ],
   "source": [
    "results_clari"
   ]
  },
  {
   "cell_type": "code",
   "execution_count": 7,
   "id": "51e5e0ea",
   "metadata": {},
   "outputs": [],
   "source": [
    "import pandas as pd\n",
    "\n",
    "# สมมุติว่า results เป็น list ของ dictionary\n",
    "results_clari = pd.DataFrame(results_clari)\n",
    "\n",
    "# แล้วค่อยบันทึกเป็น Excel\n",
    "results_clari.to_excel(\"results_cali_pipeline_v2_clarity_first.xlsx\", index=False)"
   ]
  },
  {
   "cell_type": "code",
   "execution_count": null,
   "id": "270e45f6",
   "metadata": {},
   "outputs": [],
   "source": []
  }
 ],
 "metadata": {
  "kernelspec": {
   "display_name": "langchain_env",
   "language": "python",
   "name": "python3"
  },
  "language_info": {
   "codemirror_mode": {
    "name": "ipython",
    "version": 3
   },
   "file_extension": ".py",
   "mimetype": "text/x-python",
   "name": "python",
   "nbconvert_exporter": "python",
   "pygments_lexer": "ipython3",
   "version": "3.9.20"
  }
 },
 "nbformat": 4,
 "nbformat_minor": 5
}
